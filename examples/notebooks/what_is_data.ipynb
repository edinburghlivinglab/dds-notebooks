{
 "cells": [
  {
   "cell_type": "markdown",
   "metadata": {},
   "source": [
    "# What is data? \n",
    "\n",
    "Probably if you ask this question to three different people, you'll get five different answers! Rather than trying to come up with a definition, let's just look at some examples.\n",
    "\n",
    "## Yesterday I ate tomatoes\n",
    "\n",
    "Suppose I decide to keep a diary about the food I eat. This could be pretty informal:\n",
    "\n",
    "```\n",
    "Monday\n",
    "------\n",
    "bfast: toast and jam\n",
    "lunch: tomato soup and roll\n",
    "supper: baked beans, sushi, treacle tart\n",
    "\n",
    "Tuesday\n",
    "-------\n",
    "bfast: porridge with soya milk\n",
    "lunch: tomato soup and roll\n",
    "supper: peri-peri chicken, chips, coke\n",
    "\n",
    "```\n",
    "\n",
    "But it's still good enough as a record of my diet. (Not enough greens?)\n",
    "\n",
    "## I run\n",
    "\n",
    "Here's a slightly different kind of diary, recording my running exploits:\n",
    "\n",
    "```\n",
    "5/12/15 4.5km\n",
    "7/12/15 3km\n",
    "12/12/15 8km\n",
    "\n",
    "```\n",
    "\n",
    "\n"
   ]
  },
  {
   "cell_type": "code",
   "execution_count": null,
   "metadata": {
    "collapsed": true
   },
   "outputs": [],
   "source": []
  }
 ],
 "metadata": {
  "kernelspec": {
   "display_name": "Python 3",
   "language": "python",
   "name": "python3"
  },
  "language_info": {
   "codemirror_mode": {
    "name": "ipython",
    "version": 3
   },
   "file_extension": ".py",
   "mimetype": "text/x-python",
   "name": "python",
   "nbconvert_exporter": "python",
   "pygments_lexer": "ipython3",
   "version": "3.4.3"
  }
 },
 "nbformat": 4,
 "nbformat_minor": 0
}
