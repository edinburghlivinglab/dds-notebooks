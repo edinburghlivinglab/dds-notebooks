{
 "cells": [
  {
   "cell_type": "code",
   "execution_count": 8,
   "metadata": {
    "collapsed": false
   },
   "outputs": [
    {
     "data": {
      "text/html": [
       "<!DOCTYPE html>\n",
       "<html>\n",
       "<head>\n",
       "    <meta charset=utf-8 />\n",
       "    <title>DDS Edin Map</title>\n",
       "    <meta name=\"viewport\" content=\"width=device-width, initial-scale=1.0\">    \n",
       "    <div id=\"map\" style=\"width:800px; height: 600px\"></div>\n",
       "    <meta http-equiv=\"X-UA-Compatible\" content=\"IE=Edge\" />\n",
       "    <script src='https://api.tiles.mapbox.com/mapbox.js/v2.1.4/mapbox.js'></script>\n",
       "    <link rel=\"stylesheet\" href=\"http://cdnjs.cloudflare.com/ajax/libs/leaflet/0.7.3/leaflet.css\" />\n",
       "    <script src=\"http://cdnjs.cloudflare.com/ajax/libs/leaflet/0.7.3/leaflet.js\"></script>\n",
       "    <script src='https://api.tiles.mapbox.com/mapbox.js/v2.1.4/mapbox.js'></script>\n",
       "    <script src=\"http://code.jquery.com/jquery-latest.min.js\" type=\"text/javascript\"></script>\n",
       "\n",
       "</head>\n",
       "<body>\n",
       "\n",
       "\n",
       "<link href='https://api.tiles.mapbox.com/mapbox.js/plugins/leaflet-draw/v0.2.2/leaflet.draw.css' rel='stylesheet' />\n",
       "<script src='https://api.tiles.mapbox.com/mapbox.js/plugins/leaflet-draw/v0.2.2/leaflet.draw.js'></script>\n",
       "\n",
       "    <div id='map'></div>\n",
       "    <script>\n",
       "        L.mapbox.accessToken = 'pk.eyJ1IjoidmFyZ2ZyYW4iLCJhIjoiRW44bEMyQSJ9.i3kosn_djpsoR6Qy4TO0Vw#15';\n",
       "        var southWest = L.latLng(55.874962, -3.404167),\n",
       "            northEast = L.latLng(55.988625, -3.096550),\n",
       "            bounds = L.latLngBounds(southWest, northEast);\n",
       "        var map = L.mapbox.map('map', 'vargfran.b9bd48fd', {\n",
       "    maxBounds: bounds,\n",
       "    maxZoom: 19,\n",
       "    minZoom: 10\n",
       "})\n",
       "            .setView([ 55.944, -3.192], 15);\n",
       "\n",
       "\n",
       "    map.on('draw:created', function(e) {\n",
       "      featureGroup.addLayer(e.layer);\n",
       "    });\n",
       "\n",
       "    var popup = L.popup();\n",
       "\n",
       "    // Parse lat long \n",
       "    function parseLatLong(latStr){\n",
       "        var n = latStr.length;\n",
       "        var outStr = \"\";\n",
       "        for(i = 0; i < n; i ++){\n",
       "            if(!isNaN(latStr[i]) || latStr[i]===',' || latStr[i]==='.'  || latStr[i]==='-' ){\n",
       "                outStr += latStr[i];\n",
       "            }\n",
       "        }\n",
       "        return outStr;\n",
       "    };\n",
       "\n",
       "    // String.format function to be used \n",
       "    // for address fetching\n",
       "    String.prototype.format = function() {\n",
       "    var formatted = this;\n",
       "    for( var arg in arguments ) {\n",
       "        formatted = formatted.replace(\"{\" + arg + \"}\", arguments[arg]);\n",
       "    }\n",
       "    return formatted;\n",
       "    };\n",
       "\n",
       "    function getAddress(e){\n",
       "        var latLong = parseLatLong(e.latlng.toString()).split(\",\");\n",
       "        console.log(latLong);\n",
       "        var api_call = \"http://nominatim.openstreetmap.org/reverse?format=json&lat={0}&lon={1}&zoom=18&addressdetails=1\"\n",
       "        var url = api_call.format(latLong[0],latLong[1].replace(/\\s+/g, ''));\n",
       "        console.log(url);\n",
       "        jQuery.getJSON(url).done([function(data){\n",
       "                var address = data[\"display_name\"];\n",
       "                console.log(data)\n",
       "                popup\n",
       "            .setLatLng(e.latlng)\n",
       "            .setContent(address)\n",
       "            .openOn(map);\n",
       "\n",
       "                }]);\n",
       "    }\n",
       "\n",
       "    map.on('click', getAddress);\n",
       "\n",
       "    </script>\n",
       "\n",
       "</body>\n",
       "</html>\n"
      ],
      "text/plain": [
       "<IPython.core.display.HTML object>"
      ]
     },
     "execution_count": 8,
     "metadata": {},
     "output_type": "execute_result"
    }
   ],
   "source": [
    "import urllib\n",
    "from IPython.display import HTML\n",
    "\n",
    "map_url = 'https://raw.githubusercontent.com/edinburghlivinglab/dds-notebooks/master/data/edin_map_tiles.html'\n",
    "ob = HTML(url=map_url)\n",
    "ob\n",
    "\n",
    "# Zooming out does not work tiles not loaded\n",
    "# Must figure out how to keep ipython refreshing the html\n",
    "# ob.reload does not work\n",
    "# They've managed it here: http://nbviewer.ipython.org/gist/psychemedia/f7385255f89137c503b5/week7_mapping.ipynb"
   ]
  },
  {
   "cell_type": "code",
   "execution_count": 10,
   "metadata": {
    "collapsed": false
   },
   "outputs": [],
   "source": []
  },
  {
   "cell_type": "code",
   "execution_count": null,
   "metadata": {
    "collapsed": true
   },
   "outputs": [],
   "source": []
  }
 ],
 "metadata": {
  "kernelspec": {
   "display_name": "Python 3",
   "language": "python",
   "name": "python3"
  },
  "language_info": {
   "codemirror_mode": {
    "name": "ipython",
    "version": 3
   },
   "file_extension": ".py",
   "mimetype": "text/x-python",
   "name": "python",
   "nbconvert_exporter": "python",
   "pygments_lexer": "ipython3",
   "version": "3.4.2"
  }
 },
 "nbformat": 4,
 "nbformat_minor": 0
}
