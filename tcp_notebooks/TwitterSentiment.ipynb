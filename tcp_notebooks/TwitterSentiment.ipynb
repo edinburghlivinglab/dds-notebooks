{
 "cells": [
  {
   "cell_type": "code",
   "execution_count": 4,
   "metadata": {
    "collapsed": true
   },
   "outputs": [],
   "source": [
    "import nltk"
   ]
  },
  {
   "cell_type": "code",
   "execution_count": 5,
   "metadata": {
    "collapsed": false
   },
   "outputs": [],
   "source": [
    "from nltk.corpus import twitter_samples"
   ]
  },
  {
   "cell_type": "code",
   "execution_count": 6,
   "metadata": {
    "collapsed": false
   },
   "outputs": [],
   "source": [
    "input_file = twitter_samples.abspath(\"tweets.20150430-223406.json\")"
   ]
  },
  {
   "cell_type": "code",
   "execution_count": 8,
   "metadata": {
    "collapsed": false
   },
   "outputs": [],
   "source": [
    "from nltk.twitter.util import json2csv\n",
    "with open(input_file) as fp:\n",
    "    json2csv(fp, 'tweets_text.csv', ['text'])"
   ]
  },
  {
   "cell_type": "code",
   "execution_count": 9,
   "metadata": {
    "collapsed": false
   },
   "outputs": [
    {
     "name": "stdout",
     "output_type": "stream",
     "text": [
      "Twitter sentiment analysis.ipynb  tweets_text.csv\r\n"
     ]
    }
   ],
   "source": [
    "ls"
   ]
  },
  {
   "cell_type": "code",
   "execution_count": 12,
   "metadata": {
    "collapsed": false
   },
   "outputs": [
    {
     "data": {
      "text/html": [
       "<div>\n",
       "<table border=\"1\" class=\"dataframe\">\n",
       "  <thead>\n",
       "    <tr style=\"text-align: right;\">\n",
       "      <th></th>\n",
       "      <th>text</th>\n",
       "    </tr>\n",
       "  </thead>\n",
       "  <tbody>\n",
       "    <tr>\n",
       "      <th>0</th>\n",
       "      <td>RT @KirkKus: Indirect cost of the UK being in ...</td>\n",
       "    </tr>\n",
       "    <tr>\n",
       "      <th>1</th>\n",
       "      <td>VIDEO: Sturgeon on post-election deals http://...</td>\n",
       "    </tr>\n",
       "    <tr>\n",
       "      <th>2</th>\n",
       "      <td>RT @LabourEoin: The economy was growing 3 time...</td>\n",
       "    </tr>\n",
       "    <tr>\n",
       "      <th>3</th>\n",
       "      <td>RT @GregLauder: the UKIP east lothian candidat...</td>\n",
       "    </tr>\n",
       "    <tr>\n",
       "      <th>4</th>\n",
       "      <td>RT @thesundaypeople: UKIP's housing spokesman ...</td>\n",
       "    </tr>\n",
       "    <tr>\n",
       "      <th>5</th>\n",
       "      <td>RT @Nigel_Farage: Make sure you tune in to #As...</td>\n",
       "    </tr>\n",
       "    <tr>\n",
       "      <th>6</th>\n",
       "      <td>RT @joannetallis: Ed Milliband is an embarrass...</td>\n",
       "    </tr>\n",
       "    <tr>\n",
       "      <th>7</th>\n",
       "      <td>RT @abstex: The FT is backing the Tories. On a...</td>\n",
       "    </tr>\n",
       "    <tr>\n",
       "      <th>8</th>\n",
       "      <td>RT @NivenJ1: “@George_Osborne: Ed Miliband pro...</td>\n",
       "    </tr>\n",
       "    <tr>\n",
       "      <th>9</th>\n",
       "      <td>LOLZ to Trickle Down Wealth. It's never trickl...</td>\n",
       "    </tr>\n",
       "    <tr>\n",
       "      <th>10</th>\n",
       "      <td>SNP leader faces audience questions http://t.c...</td>\n",
       "    </tr>\n",
       "    <tr>\n",
       "      <th>11</th>\n",
       "      <td>RT @cononeilluk: Cameron \"Ed Milliband hanging...</td>\n",
       "    </tr>\n",
       "    <tr>\n",
       "      <th>12</th>\n",
       "      <td>RT @politicshome: Ed Miliband: Last Labour gov...</td>\n",
       "    </tr>\n",
       "    <tr>\n",
       "      <th>13</th>\n",
       "      <td>If Miliband is refusing to do any deal with th...</td>\n",
       "    </tr>\n",
       "    <tr>\n",
       "      <th>14</th>\n",
       "      <td>RT @scotnotbritt: Well thats it. LABOUR would ...</td>\n",
       "    </tr>\n",
       "    <tr>\n",
       "      <th>15</th>\n",
       "      <td>Cameron wins last TV contest of election campa...</td>\n",
       "    </tr>\n",
       "    <tr>\n",
       "      <th>16</th>\n",
       "      <td>RT @stephen501: @dunleavy138 @CrillyBobc @theS...</td>\n",
       "    </tr>\n",
       "    <tr>\n",
       "      <th>17</th>\n",
       "      <td>How dare @EdMiliband_MP force Socialists to ch...</td>\n",
       "    </tr>\n",
       "    <tr>\n",
       "      <th>18</th>\n",
       "      <td>Watch: Ed Miliband trips off the stage followi...</td>\n",
       "    </tr>\n",
       "    <tr>\n",
       "      <th>19</th>\n",
       "      <td>RT @abstex: The FT is backing the Tories. On a...</td>\n",
       "    </tr>\n",
       "  </tbody>\n",
       "</table>\n",
       "</div>"
      ],
      "text/plain": [
       "                                                 text\n",
       "0   RT @KirkKus: Indirect cost of the UK being in ...\n",
       "1   VIDEO: Sturgeon on post-election deals http://...\n",
       "2   RT @LabourEoin: The economy was growing 3 time...\n",
       "3   RT @GregLauder: the UKIP east lothian candidat...\n",
       "4   RT @thesundaypeople: UKIP's housing spokesman ...\n",
       "5   RT @Nigel_Farage: Make sure you tune in to #As...\n",
       "6   RT @joannetallis: Ed Milliband is an embarrass...\n",
       "7   RT @abstex: The FT is backing the Tories. On a...\n",
       "8   RT @NivenJ1: “@George_Osborne: Ed Miliband pro...\n",
       "9   LOLZ to Trickle Down Wealth. It's never trickl...\n",
       "10  SNP leader faces audience questions http://t.c...\n",
       "11  RT @cononeilluk: Cameron \"Ed Milliband hanging...\n",
       "12  RT @politicshome: Ed Miliband: Last Labour gov...\n",
       "13  If Miliband is refusing to do any deal with th...\n",
       "14  RT @scotnotbritt: Well thats it. LABOUR would ...\n",
       "15  Cameron wins last TV contest of election campa...\n",
       "16  RT @stephen501: @dunleavy138 @CrillyBobc @theS...\n",
       "17  How dare @EdMiliband_MP force Socialists to ch...\n",
       "18  Watch: Ed Miliband trips off the stage followi...\n",
       "19  RT @abstex: The FT is backing the Tories. On a..."
      ]
     },
     "execution_count": 12,
     "metadata": {},
     "output_type": "execute_result"
    }
   ],
   "source": [
    "import pandas as pd\n",
    "tweets = pd.read_csv('tweets_text.csv', header=0, encoding=\"utf8\")\n",
    "tweets.head(20)"
   ]
  },
  {
   "cell_type": "code",
   "execution_count": 14,
   "metadata": {
    "collapsed": true
   },
   "outputs": [],
   "source": [
    "from nltk.sentiment.vader import SentimentIntensityAnalyzer"
   ]
  },
  {
   "cell_type": "code",
   "execution_count": null,
   "metadata": {
    "collapsed": true
   },
   "outputs": [],
   "source": []
  }
 ],
 "metadata": {
  "kernelspec": {
   "display_name": "Python 3",
   "language": "python",
   "name": "python3"
  },
  "language_info": {
   "codemirror_mode": {
    "name": "ipython",
    "version": 3
   },
   "file_extension": ".py",
   "mimetype": "text/x-python",
   "name": "python",
   "nbconvert_exporter": "python",
   "pygments_lexer": "ipython3",
   "version": "3.4.3"
  }
 },
 "nbformat": 4,
 "nbformat_minor": 0
}
