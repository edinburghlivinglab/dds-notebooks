{
 "cells": [
  {
   "cell_type": "markdown",
   "metadata": {},
   "source": [
    "# Sentiment Analysis for Twitter\n",
    "\n",
    "## Overview\n",
    "\n",
    "This tutorial is going to introduce some simple tools for detecting sentiment in Tweets. We will be using a set of tools called the Natural Language Toolkit ([NLTK](http://www.nltk.org)). This is collection of software written in the [Python](https://www.python.org) programming language. An important design goal behind Python is that it should be easy to read and fun to use, so well-suited for beginners. A similar motivation inspired NLTK: it should make complex tasks easy to carry out, and it should be written in a way that would allow users to inspect and understand the code.\n",
    "\n",
    "Why is this relevant? Well, a lot of software these days is built to be easy to use, but hard to inspect. For example, smartphones have a lot of slick apps on them, but very few people have the expertise to look under the hood to find out how they work. NLTK has quite the opposite approach: you are actively encouraged to discover how the code works. However, your level of understanding will depend heavily on how far you get to grips with Python itself.\n",
    "\n",
    "This tutorial is written using the [Ipython](http://ipython.org) framework. This allows text to be interspersed by fragments of code, occuring in special \"cells\". Just below is a cell where we are using Python to do a simple calculation:"
   ]
  },
  {
   "cell_type": "code",
   "execution_count": 10,
   "metadata": {
    "collapsed": false
   },
   "outputs": [
    {
     "data": {
      "text/plain": [
       "7"
      ]
     },
     "execution_count": 10,
     "metadata": {},
     "output_type": "execute_result"
    }
   ],
   "source": [
    "3 + 4"
   ]
  },
  {
   "cell_type": "markdown",
   "metadata": {},
   "source": [
    "Some of the cells will contain snippets of code that are necessary for the big story to work, but which you don't need to understand. We'll try to make it clear when it's important for you to pay attention to one of the cells. "
   ]
  },
  {
   "cell_type": "markdown",
   "metadata": {},
   "source": [
    "## Twitter\n",
    "\n",
    "As you know, people are tweeting all the time. The rate varies, with about 6,000 per second being the average, but when I last checked, the [rate was over 10,000 Tweets per second](http://www.internetlivestats.com/one-second/#tweets-band). So, a lot. Twitter kindly allows people to tap into a small sample of this stream &mdash; unless you're able to pay, the sample is at most 1% of the total stream. \n",
    "\n",
    "Here's a tiny snapshow to Tweets, taken at 13.00 pm on Sunday 11 November 2015. By using the keywords `'love, hate'`, we restrict our sample to just those Tweets containing one or both of those words."
   ]
  },
  {
   "cell_type": "code",
   "execution_count": 2,
   "metadata": {
    "collapsed": false
   },
   "outputs": [
    {
     "name": "stdout",
     "output_type": "stream",
     "text": [
      "We're flowing like a stream, running \n",
      " Free, traveling on the wings of love \n",
      "#OTWOLWish\"\n",
      "RT @prttyjsmn: Oppa. Don't mind those haters of yours. They just insecure on what you have done. We love u #INSPIRITPHLovesLeaderGyu\n",
      "I love this album its so incredible and you are such and inspiration question is would you date me if you was single ima girl btw #AskDemi x\n",
      "Hi @Harry_Styles\n",
      "I hope you're well.xx\n",
      "So excited to hear Made In The AM,I love it already.\n",
      "Mind following me sunshine?\n",
      "-x5,182\n",
      "RT @ddlovato: Learned to love myself a little sooner 💕🤗 #AskDemi https://t.co/hpG8cWNJ9X\n",
      "RT @WeeklyChris: Its like if u have followers there's an expectation on content but I started this thing cause I just love making stuff &amp; t…\n",
      "@ddlovato which song on the album Confident, you'd love to have a video clip? i love you so much, you're my life ❤ x2 #AskDemi\n",
      "@ddlovato what would you say for people to believe in yourself? I love you more than everything #AskDemi ❤️ 1\n",
      "RT @itsmeJoseManalo: YOU HATE ME?\n",
      "\n",
      "GET WELL SOON, BECAUSE THERE IS NO PROVIDED MEDICINE FOR BEING INSECURE.\n",
      "\n",
      "#ALDUBMissingRing \n",
      "#StopTheHate\n",
      "Great branding for @BetterBurgerNZ by #485Design - love the detail \n",
      "\n",
      "https://t.co/6H6irxrMEL https://t.co/EY01498fuf\n",
      "RT @JBITALIANCREW: Justin sarà ospite al The Ellen Show anche domani e canterà una nuova canzone tratta da #PURPOSE...'Love Yourself'!\n",
      "I LOVE you robert spence! xxx November 09, 2015 at 12:15PM #AlwaysSuperCute\n",
      "RT @itsmeJoseManalo: YOU HATE ME?\n",
      "\n",
      "GET WELL SOON, BECAUSE THERE IS NO PROVIDED MEDICINE FOR BEING INSECURE.\n",
      "\n",
      "#ALDUBMissingRing \n",
      "#StopTheHate\n",
      "@nataliadmitruk_ oh my god this is amazing i love you so much😍😍 thank you bff ily a milli💕😋\n",
      "RT @withVIXX: Leo: What kind of album is this ?\n",
      "Ravi is explaining the concept. A guy who is chained up by the passion of love. \n",
      "( #VIXX #C…\n",
      "RT @titentoo: “@MANDPMODELS: #COMPETITION! LOVE @honestburgers? Want to #WIN a £60 #voucher?Just #RETWEET and #FOLLOW us both to enter! #GI…\n",
      "My birthday is after tomorrow can you please wish me an early happy birthday please I love you❤️🙏🏼🎉🎈 @ddlovato #AskDemi 7\n",
      "@AtomicEdge @robopike @SheriffONothing So I’ve heard. I just kept ending up in multiplayer. Who doesn’t love Molotov cocktailing their pals!\n",
      "@ddlovato What is your favorite place?:) I love you demi lovato:) #AskDemi\n",
      "RT @Rhozzel_ll: When people say I love BO3 sniping https://t.co/JjWgsmXLTO\n",
      "RT @ddlovato: Do it for yourself and NOBODY ELSE... Do it out of self love rather than pressure to look a certain way!! #AskDemi https://t.…\n",
      "@ddlovato Do you love welmer?😍\n",
      "#AskDemi\n",
      "How do you feel knowing that you've already saved so many lives inclunding mine? I love you so much #askdemi @ddlovato 💜😝\n",
      "You need meat, go to the market.  You need bread, try the bakery.  If you need love, baby, don't go no further, just come on home with me.\n",
      "RT @ansari_captain: Q : What's love ?? \n",
      "\n",
      "Me : Love is writing 1574 in Arabic numeric 😜\n",
      "\n",
      "Q : what !!? \n",
      "\n",
      "Me : Love = 1574 = ١٥٧٤  😏\n",
      "Written 25 Tweets\n"
     ]
    }
   ],
   "source": [
    "import nltk # load up the NLTK library\n",
    "from nltk.twitter import Twitter\n",
    "tw = Twitter() # start a new client that connects to Twitter\n",
    "tw.tweets(keywords='love, hate', limit=25) #filter Tweets from the public stream"
   ]
  },
  {
   "cell_type": "markdown",
   "metadata": {
    "collapsed": true
   },
   "source": [
    "## Using a Twitter corpus\n",
    "\n",
    "You too can sample Tweets in this way, but you'll need to set up your Twitter API keys according to [these instructions](http://www.nltk.org/howto/twitter.html). Since this is a bit of hassle, for the rest of this tutorial, we'll focus our attention on a sample of 20,000 Tweets that were collected at the end of April 2015. In order focus on Tweets about the UK general election, the public stream was filtered with the following set of terms:\n",
    "```\n",
    "david cameron, miliband, milliband, sturgeon, clegg, farage, tory, tories, ukip, snp, libdem\n",
    "```\n",
    "The following code cell allows us to get hold of this collection, and prints out the text of the first 15. You don't need to worry about the details of how this happens."
   ]
  },
  {
   "cell_type": "code",
   "execution_count": 4,
   "metadata": {
    "collapsed": false
   },
   "outputs": [],
   "source": [
    "from nltk.corpus import twitter_samples\n",
    "strings = twitter_samples.strings('tweets.20150430-223406.json')"
   ]
  },
  {
   "cell_type": "code",
   "execution_count": 5,
   "metadata": {
    "collapsed": false
   },
   "outputs": [
    {
     "name": "stdout",
     "output_type": "stream",
     "text": [
      "RT @KirkKus: Indirect cost of the UK being in the EU is estimated to be costing Britain £170 billion per year! #BetterOffOut #UKIP\n",
      "VIDEO: Sturgeon on post-election deals http://t.co/BTJwrpbmOY\n",
      "RT @LabourEoin: The economy was growing 3 times faster on the day David Cameron became Prime Minister than it is today.. #BBCqt http://t.co…\n",
      "RT @GregLauder: the UKIP east lothian candidate looks about 16 and still has an msn addy http://t.co/7eIU0c5Fm1\n",
      "RT @thesundaypeople: UKIP's housing spokesman rakes in £800k in housing benefit from migrants.  http://t.co/GVwb9Rcb4w http://t.co/c1AZxcLh…\n",
      "RT @Nigel_Farage: Make sure you tune in to #AskNigelFarage tonight on BBC 1 at 22:50! #UKIP http://t.co/ogHSc2Rsr2\n",
      "RT @joannetallis: Ed Milliband is an embarrassment. Would you want him representing the UK?!  #bbcqt vote @Conservatives\n",
      "RT @abstex: The FT is backing the Tories. On an unrelated note, here's a photo of FT leader writer Jonathan Ford (next to Boris) http://t.c…\n",
      "RT @NivenJ1: “@George_Osborne: Ed Miliband proved tonight why he's not up to the job” Tbf you've spent 5 years doing that you salivating do…\n",
      "LOLZ to Trickle Down Wealth. It's never trickling past their own wallets. Greed always wins $$$ for the greedy.  https://t.co/X7deoPbS97\n",
      "SNP leader faces audience questions http://t.co/TYClKltSpW\n",
      "RT @cononeilluk: Cameron \"Ed Milliband hanging out with Russell Brand. He is a joke. This is an election. This is about real people' http:/…\n",
      "RT @politicshome: Ed Miliband: Last Labour government did not overspend http://t.co/W9RJ2aSH6o http://t.co/4myFekg5ex\n",
      "If Miliband is refusing to do any deal with the SNP, how does he plan on forming a government?\n",
      "RT @scotnotbritt: Well thats it. LABOUR would rather have a TORY government rather than work with the SNP. http://t.co/SNMkRDCe9f\n",
      "Cameron wins last TV contest of election campaign - poll: LONDON (Reuters) - Prime Minister David Cameron won the… http://t.co/aUMOoYWOSk\n",
      "RT @stephen501: @dunleavy138 @CrillyBobc @theSNP @UKLabour I would be happy to do a deal with the SNP, but @Ed_Miliband was clear. If you w…\n",
      "How dare @EdMiliband_MP force Socialists to chose between the English LP and the SNP! The #SNP are the last, true Socialist party in the UK\n",
      "Watch: Ed Miliband trips off the stage following Question Time leaders special http://t.co/X61IGbe07R\n",
      "RT @abstex: The FT is backing the Tories. On an unrelated note, here's a photo of FT leader writer Jonathan Ford (next to Boris) http://t.c…\n"
     ]
    }
   ],
   "source": [
    "for string in strings[:20]:\n",
    "    print(string)"
   ]
  },
  {
   "cell_type": "markdown",
   "metadata": {},
   "source": [
    "## Sentiment Analysis\n",
    "\n",
    "When we talk about understanding natural language, we often focus on 'who did what to whom'. Yet in many situations, we are more interested in attitudes and opinions. When someone writes about a movie, did they like it or hate it? Is a product review for a water bottle on Amazon positive or negative? Is a Tweet about the US President supportive\n",
    "or critical? We might also care about the intensity of the views expressed: \"this is a fine movie\" is different from \"WOW! This movie is soooooo great!!!!\" even though both are positive.\n",
    "\n",
    "*Sentiment analysis* (or *opinion mining*) is a broad term for a range of techniques that try to identify the subjective views expressed in texts. Many organisations care deeply about public opinion &mdash; whether these concern commercial products, creative works, or political parties and policies &mdash; and have consequently turned to sentiment analysis as a way of gleaning valuable insights from voluminous bodies of online text. This in turn has stimulated much activity in the area, ranging from academic research to commercial applications and industry-focussed conferences.\n",
    "\n",
    "However, it's worth saying at the outset that sentiment analysis is hard. Although it is designed to work with written text, the way in which people express their feelings is often goes far beyond what they literally say. In spoken language, intonation will be important. And of course we often express emotion using no words at all, as illustrated in this picture from Darwin's book *The Expression of the Emotions*.\n",
    "\n",
    "<a title=\"By Charles Darwin (author of volume); unknown photographer of plate [Public domain], via Wikimedia Commons\" href=\"https://commons.wikimedia.org/wiki/File%3APlate_depicting_emotions_of_grief_from_Charles_Darwin's_book_The_Expression_of_the_Emotions.jpg\"><img align=\"center\" width=\"512\" alt=\"Plate depicting emotions of grief from Charles Darwin&'s book The Expression of the Emotions\" src=\"https://upload.wikimedia.org/wikipedia/commons/thumb/0/0c/Plate_depicting_emotions_of_grief_from_Charles_Darwin%27s_book_The_Expression_of_the_Emotions.jpg/512px-Plate_depicting_emotions_of_grief_from_Charles_Darwin%27s_book_The_Expression_of_the_Emotions.jpg\"/></a>"
   ]
  },
  {
   "cell_type": "markdown",
   "metadata": {},
   "source": [
    "## Classifying sentences\n",
    "\n",
    "Let's say that we want to classify a sentence into one of three categories: **positive**, **negative** or\n",
    "**neutral**. Each of these can be illustrated by posts on Twitter collected during the UK General Election in 2015.\n",
    "\n",
    "<dl>\n",
    "<dt>positive:</dt>\n",
    "<dd><i>Good stuff from Clegg. Clear, passionate & honest about the difficulties of govt but also the difference @LibDems have made.</i></dd>\n",
    "\n",
    "<dt>negative:</dt> \n",
    "<dd><i>Hmm. Ed Miliband being against SNP is a bad move  I think. It'll cost him n it is a dumb choice.</i></dd>\n",
    "\n",
    "<dt>neutral:</dt> \n",
    "<dd><i>Why is Ed Milliband trending when him name is Ed Miliband?</i></dd>\n",
    "</dl>\n",
    "\n",
    "The term **polarity** is often used to refer to whether a piece of text is judged to be positive or negative.\n",
    "\n",
    "The easiest approach to classifying examples like these is to get hold of two lists of words, positive ones such as *good*, *excellent*, *fine*, *triumph*, *well*, *succeed*, ... and negative ones such as *bad*, *poor*, *dismal*,\n",
    "*lying*, *fail*, *disaster*, .... We figure out an overall polarity score based on the ratio of positive tokens to negative ones in a given string. A sentence with neither positive or negative tokens (or possibly an equal number of each) will be categorised as neutral. This simple approach is likely to yield the roughly correct results for the Twitter examples above.\n",
    "\n",
    "Things become more complicated when negation enter into the picture. The next example is mildly positive (at least in British English), so we need to ensure that *not* reverses the polarity of *bad* in appropriate contexts,\n",
    "\n",
    "<i>Given Miliband personal ratings still 20 points behind Cameron, I'd say that not a bad margin for Labour leader  https://t.co/ILQP93VYLF</i>"
   ]
  },
  {
   "cell_type": "markdown",
   "metadata": {},
   "source": [
    "## Classifying Tweets with VADER\n",
    "\n",
    "[VADER](http://comp.social.gatech.edu/papers/icwsm14.vader.hutto.pdf) is a system for determining the sentiment of texts which has been incorporated into NLTK. It is based on the idea of looking for positive and negative words, but adds to important new elements. First, it uses a lexicon of 7,500 items which have been manually annotated for both polarity and intensity. Second, the overall score for an input text is computed by using a complex set of rules that take into account not just words (and negation), but also the boosting effect of devices like capitalisation and punctuation."
   ]
  },
  {
   "cell_type": "code",
   "execution_count": 13,
   "metadata": {
    "collapsed": true
   },
   "outputs": [],
   "source": [
    "from nltk.sentiment import SentimentIntensityAnalyzer\n",
    "sia = SentimentIntensityAnalyzer()"
   ]
  },
  {
   "cell_type": "code",
   "execution_count": 14,
   "metadata": {
    "collapsed": false
   },
   "outputs": [
    {
     "data": {
      "text/plain": [
       "{'compound': 0.7964, 'neg': 0.0, 'neu': 0.22, 'pos': 0.78}"
      ]
     },
     "execution_count": 14,
     "metadata": {},
     "output_type": "execute_result"
    }
   ],
   "source": [
    "sia.polarity_scores(\"I am happy and virtuous\")"
   ]
  },
  {
   "cell_type": "code",
   "execution_count": 6,
   "metadata": {
    "collapsed": false
   },
   "outputs": [],
   "source": [
    "full_tweets = twitter_samples.docs('tweets.20150430-223406.json')"
   ]
  },
  {
   "cell_type": "code",
   "execution_count": 39,
   "metadata": {
    "collapsed": false
   },
   "outputs": [],
   "source": [
    "import pandas as pd\n",
    "from numpy import nan as NA\n",
    "data = pd.DataFrame()\n",
    "data['text'] = [t['text'] for t in full_tweets]"
   ]
  },
  {
   "cell_type": "code",
   "execution_count": 45,
   "metadata": {
    "collapsed": false
   },
   "outputs": [],
   "source": [
    "parties = {}\n",
    "parties['conservative'] = set(['osborne', 'portillo', 'pickles', 'tory', 'tories',\n",
    "                                'torie', 'voteconservative', 'conservative', 'conservatives', 'bullingdon', 'telegraph'])\n",
    "parties['labour'] = set(['uklabour', 'scottishlabour', 'labour', 'lab', 'murphy'])\n",
    "parties['libdem'] = set(['libdem', 'libdems', 'dems', 'alexander'])\n",
    "parties['ukip'] = set(['ukip', 'davidcoburnukip'])\n",
    "parties['snp'] = set(['salmond', 'snp', 'snpwin', 'votesnp', 'snpbecause', 'scotland',\n",
    "                       'scotlands', 'scottish', 'indyref', 'independence', 'celebs4indy'])\n",
    "\n",
    "leaders = {}\n",
    "leaders['cameron'] = set(['cameron', 'david_cameron', 'davidcameron','dave', 'davecamm'])\n",
    "leaders['miliband'] = set(['miliband', 'ed_miliband', 'edmiliband', 'edm', 'milliband', 'ed', 'edforchange', 'edforpm', 'milifandom'])\n",
    "leaders['clegg'] = set(['clegg'])\n",
    "leaders['farage'] = set(['farage', 'nigel_farage', 'nsegel', 'askfarage', 'asknigelfarage', 'asknigelfar'])\n",
    "leaders['sturgeon'] = set(['sturgeon', 'nicola_sturgeon', 'nicolasturgeon', 'nicola'])\n",
    "\n",
    "def tweet_classify(text, keywords, verbose=False):\n",
    "    label = NA\n",
    "    from nltk.tokenize import wordpunct_tokenize\n",
    "    import operator\n",
    "    toks = wordpunct_tokenize(text)\n",
    "    toks_lower = [t.lower() for t in toks]\n",
    "    d = {}\n",
    "    for k in keywords:\n",
    "        d[k] = len(keywords[k] & set(toks_lower))  \n",
    "    \n",
    "    best = max(d.items(), key=operator.itemgetter(1))\n",
    "    if best[1] > 0:\n",
    "        label = best[0]\n",
    "    if verbose:\n",
    "        print(text)\n",
    "        print(best)\n",
    "        print(label)\n",
    "    return label\n",
    "\n",
    "\n",
    "data['party'] = [tweet_classify(row['text'], parties) for index, row in data.iterrows()]\n",
    "data['leader'] = [tweet_classify(row['text'], leaders) for index, row in data.iterrows()]"
   ]
  },
  {
   "cell_type": "code",
   "execution_count": 49,
   "metadata": {
    "collapsed": false
   },
   "outputs": [],
   "source": [
    "from nltk.sentiment import SentimentIntensityAnalyzer\n",
    "sia = SentimentIntensityAnalyzer()\n",
    "data['sentiment'] = [sia.polarity_scores(row['text'])['compound'] for index, row in data.iterrows()]"
   ]
  },
  {
   "cell_type": "code",
   "execution_count": 48,
   "metadata": {
    "collapsed": false
   },
   "outputs": [
    {
     "data": {
      "text/html": [
       "<div>\n",
       "<table border=\"1\" class=\"dataframe\">\n",
       "  <thead>\n",
       "    <tr style=\"text-align: right;\">\n",
       "      <th></th>\n",
       "      <th>sentiment</th>\n",
       "    </tr>\n",
       "  </thead>\n",
       "  <tbody>\n",
       "    <tr>\n",
       "      <th>count</th>\n",
       "      <td>20000.000000</td>\n",
       "    </tr>\n",
       "    <tr>\n",
       "      <th>mean</th>\n",
       "      <td>0.060084</td>\n",
       "    </tr>\n",
       "    <tr>\n",
       "      <th>std</th>\n",
       "      <td>0.415121</td>\n",
       "    </tr>\n",
       "    <tr>\n",
       "      <th>min</th>\n",
       "      <td>-0.982100</td>\n",
       "    </tr>\n",
       "    <tr>\n",
       "      <th>25%</th>\n",
       "      <td>-0.205700</td>\n",
       "    </tr>\n",
       "    <tr>\n",
       "      <th>50%</th>\n",
       "      <td>0.000000</td>\n",
       "    </tr>\n",
       "    <tr>\n",
       "      <th>75%</th>\n",
       "      <td>0.401900</td>\n",
       "    </tr>\n",
       "    <tr>\n",
       "      <th>max</th>\n",
       "      <td>0.957100</td>\n",
       "    </tr>\n",
       "  </tbody>\n",
       "</table>\n",
       "</div>"
      ],
      "text/plain": [
       "          sentiment\n",
       "count  20000.000000\n",
       "mean       0.060084\n",
       "std        0.415121\n",
       "min       -0.982100\n",
       "25%       -0.205700\n",
       "50%        0.000000\n",
       "75%        0.401900\n",
       "max        0.957100"
      ]
     },
     "execution_count": 48,
     "metadata": {},
     "output_type": "execute_result"
    }
   ],
   "source": [
    "data.describe()"
   ]
  },
  {
   "cell_type": "code",
   "execution_count": 52,
   "metadata": {
    "collapsed": false
   },
   "outputs": [
    {
     "data": {
      "text/html": [
       "<div>\n",
       "<table border=\"1\" class=\"dataframe\">\n",
       "  <thead>\n",
       "    <tr style=\"text-align: right;\">\n",
       "      <th></th>\n",
       "      <th>text</th>\n",
       "      <th>party</th>\n",
       "      <th>leader</th>\n",
       "      <th>sentiment</th>\n",
       "    </tr>\n",
       "  </thead>\n",
       "  <tbody>\n",
       "    <tr>\n",
       "      <th>0</th>\n",
       "      <td>RT @KirkKus: Indirect cost of the UK being in ...</td>\n",
       "      <td>ukip</td>\n",
       "      <td>NaN</td>\n",
       "      <td>0.0000</td>\n",
       "    </tr>\n",
       "    <tr>\n",
       "      <th>1</th>\n",
       "      <td>VIDEO: Sturgeon on post-election deals http://...</td>\n",
       "      <td>NaN</td>\n",
       "      <td>sturgeon</td>\n",
       "      <td>0.0000</td>\n",
       "    </tr>\n",
       "    <tr>\n",
       "      <th>2</th>\n",
       "      <td>RT @LabourEoin: The economy was growing 3 time...</td>\n",
       "      <td>NaN</td>\n",
       "      <td>cameron</td>\n",
       "      <td>0.1779</td>\n",
       "    </tr>\n",
       "    <tr>\n",
       "      <th>3</th>\n",
       "      <td>RT @GregLauder: the UKIP east lothian candidat...</td>\n",
       "      <td>ukip</td>\n",
       "      <td>NaN</td>\n",
       "      <td>0.0000</td>\n",
       "    </tr>\n",
       "    <tr>\n",
       "      <th>4</th>\n",
       "      <td>RT @thesundaypeople: UKIP's housing spokesman ...</td>\n",
       "      <td>ukip</td>\n",
       "      <td>NaN</td>\n",
       "      <td>0.4588</td>\n",
       "    </tr>\n",
       "    <tr>\n",
       "      <th>5</th>\n",
       "      <td>RT @Nigel_Farage: Make sure you tune in to #As...</td>\n",
       "      <td>ukip</td>\n",
       "      <td>farage</td>\n",
       "      <td>0.3802</td>\n",
       "    </tr>\n",
       "    <tr>\n",
       "      <th>6</th>\n",
       "      <td>RT @joannetallis: Ed Milliband is an embarrass...</td>\n",
       "      <td>conservative</td>\n",
       "      <td>miliband</td>\n",
       "      <td>-0.4389</td>\n",
       "    </tr>\n",
       "    <tr>\n",
       "      <th>7</th>\n",
       "      <td>RT @abstex: The FT is backing the Tories. On a...</td>\n",
       "      <td>conservative</td>\n",
       "      <td>NaN</td>\n",
       "      <td>0.0258</td>\n",
       "    </tr>\n",
       "    <tr>\n",
       "      <th>8</th>\n",
       "      <td>RT @NivenJ1: “@George_Osborne: Ed Miliband pro...</td>\n",
       "      <td>NaN</td>\n",
       "      <td>miliband</td>\n",
       "      <td>0.0000</td>\n",
       "    </tr>\n",
       "    <tr>\n",
       "      <th>9</th>\n",
       "      <td>LOLZ to Trickle Down Wealth. It's never trickl...</td>\n",
       "      <td>NaN</td>\n",
       "      <td>NaN</td>\n",
       "      <td>0.8167</td>\n",
       "    </tr>\n",
       "    <tr>\n",
       "      <th>10</th>\n",
       "      <td>SNP leader faces audience questions http://t.c...</td>\n",
       "      <td>snp</td>\n",
       "      <td>NaN</td>\n",
       "      <td>0.0000</td>\n",
       "    </tr>\n",
       "    <tr>\n",
       "      <th>11</th>\n",
       "      <td>RT @cononeilluk: Cameron \"Ed Milliband hanging...</td>\n",
       "      <td>NaN</td>\n",
       "      <td>miliband</td>\n",
       "      <td>0.2960</td>\n",
       "    </tr>\n",
       "    <tr>\n",
       "      <th>12</th>\n",
       "      <td>RT @politicshome: Ed Miliband: Last Labour gov...</td>\n",
       "      <td>labour</td>\n",
       "      <td>miliband</td>\n",
       "      <td>0.0000</td>\n",
       "    </tr>\n",
       "    <tr>\n",
       "      <th>13</th>\n",
       "      <td>If Miliband is refusing to do any deal with th...</td>\n",
       "      <td>snp</td>\n",
       "      <td>miliband</td>\n",
       "      <td>-0.4019</td>\n",
       "    </tr>\n",
       "    <tr>\n",
       "      <th>14</th>\n",
       "      <td>RT @scotnotbritt: Well thats it. LABOUR would ...</td>\n",
       "      <td>labour</td>\n",
       "      <td>NaN</td>\n",
       "      <td>0.2732</td>\n",
       "    </tr>\n",
       "    <tr>\n",
       "      <th>15</th>\n",
       "      <td>Cameron wins last TV contest of election campa...</td>\n",
       "      <td>NaN</td>\n",
       "      <td>cameron</td>\n",
       "      <td>0.8126</td>\n",
       "    </tr>\n",
       "    <tr>\n",
       "      <th>16</th>\n",
       "      <td>RT @stephen501: @dunleavy138 @CrillyBobc @theS...</td>\n",
       "      <td>labour</td>\n",
       "      <td>miliband</td>\n",
       "      <td>0.6956</td>\n",
       "    </tr>\n",
       "    <tr>\n",
       "      <th>17</th>\n",
       "      <td>How dare @EdMiliband_MP force Socialists to ch...</td>\n",
       "      <td>snp</td>\n",
       "      <td>NaN</td>\n",
       "      <td>0.6996</td>\n",
       "    </tr>\n",
       "    <tr>\n",
       "      <th>18</th>\n",
       "      <td>Watch: Ed Miliband trips off the stage followi...</td>\n",
       "      <td>NaN</td>\n",
       "      <td>miliband</td>\n",
       "      <td>0.4019</td>\n",
       "    </tr>\n",
       "    <tr>\n",
       "      <th>19</th>\n",
       "      <td>RT @abstex: The FT is backing the Tories. On a...</td>\n",
       "      <td>conservative</td>\n",
       "      <td>NaN</td>\n",
       "      <td>0.0258</td>\n",
       "    </tr>\n",
       "    <tr>\n",
       "      <th>20</th>\n",
       "      <td>@B0MBSKARE the anti-Scottish feeling is largel...</td>\n",
       "      <td>snp</td>\n",
       "      <td>NaN</td>\n",
       "      <td>0.2003</td>\n",
       "    </tr>\n",
       "    <tr>\n",
       "      <th>21</th>\n",
       "      <td>Miliband stumbles, Cameron dodges http://t.co/...</td>\n",
       "      <td>NaN</td>\n",
       "      <td>miliband</td>\n",
       "      <td>0.0000</td>\n",
       "    </tr>\n",
       "    <tr>\n",
       "      <th>22</th>\n",
       "      <td>Miliband - I'd pass on PM job rather than do d...</td>\n",
       "      <td>labour</td>\n",
       "      <td>miliband</td>\n",
       "      <td>0.0000</td>\n",
       "    </tr>\n",
       "    <tr>\n",
       "      <th>23</th>\n",
       "      <td>RT @GloriaDePiero: Nick Clegg is just as respo...</td>\n",
       "      <td>conservative</td>\n",
       "      <td>clegg</td>\n",
       "      <td>-0.2263</td>\n",
       "    </tr>\n",
       "    <tr>\n",
       "      <th>24</th>\n",
       "      <td>RT @mykilmarnock: Will the person who dropped ...</td>\n",
       "      <td>snp</td>\n",
       "      <td>NaN</td>\n",
       "      <td>0.3182</td>\n",
       "    </tr>\n",
       "    <tr>\n",
       "      <th>25</th>\n",
       "      <td>RT @Markfergusonuk: The Sun’s Twitter worm app...</td>\n",
       "      <td>NaN</td>\n",
       "      <td>miliband</td>\n",
       "      <td>0.5267</td>\n",
       "    </tr>\n",
       "    <tr>\n",
       "      <th>26</th>\n",
       "      <td>@ScottishPleb @AHairyBiker \\n\\nSNP toxic in En...</td>\n",
       "      <td>labour</td>\n",
       "      <td>NaN</td>\n",
       "      <td>0.0772</td>\n",
       "    </tr>\n",
       "    <tr>\n",
       "      <th>27</th>\n",
       "      <td>RT @KatieKhaleesi: I'm #SNPbecause in my entir...</td>\n",
       "      <td>labour</td>\n",
       "      <td>NaN</td>\n",
       "      <td>-0.8225</td>\n",
       "    </tr>\n",
       "    <tr>\n",
       "      <th>28</th>\n",
       "      <td>Jeremy Vine doesn't think the SNP Scottish tak...</td>\n",
       "      <td>snp</td>\n",
       "      <td>NaN</td>\n",
       "      <td>0.4019</td>\n",
       "    </tr>\n",
       "    <tr>\n",
       "      <th>29</th>\n",
       "      <td>RT @daniloxxv: \"UKIP is the bastard child of t...</td>\n",
       "      <td>ukip</td>\n",
       "      <td>NaN</td>\n",
       "      <td>-0.2023</td>\n",
       "    </tr>\n",
       "    <tr>\n",
       "      <th>...</th>\n",
       "      <td>...</td>\n",
       "      <td>...</td>\n",
       "      <td>...</td>\n",
       "      <td>...</td>\n",
       "    </tr>\n",
       "    <tr>\n",
       "      <th>19970</th>\n",
       "      <td>RT @LaRainbow: Has David Cameron actually answ...</td>\n",
       "      <td>NaN</td>\n",
       "      <td>cameron</td>\n",
       "      <td>0.0000</td>\n",
       "    </tr>\n",
       "    <tr>\n",
       "      <th>19971</th>\n",
       "      <td>RT @carrieapples: Ed Miliband is just waffling...</td>\n",
       "      <td>snp</td>\n",
       "      <td>miliband</td>\n",
       "      <td>-0.2960</td>\n",
       "    </tr>\n",
       "    <tr>\n",
       "      <th>19972</th>\n",
       "      <td>RT @Ceilidhann: All I want is someone to actua...</td>\n",
       "      <td>snp</td>\n",
       "      <td>sturgeon</td>\n",
       "      <td>0.3818</td>\n",
       "    </tr>\n",
       "    <tr>\n",
       "      <th>19973</th>\n",
       "      <td>#AskNigelFarage am I right in thinking UKIP is...</td>\n",
       "      <td>ukip</td>\n",
       "      <td>farage</td>\n",
       "      <td>0.0972</td>\n",
       "    </tr>\n",
       "    <tr>\n",
       "      <th>19974</th>\n",
       "      <td>RT @robbersdog58: @mkpdavies Didn't faze him a...</td>\n",
       "      <td>NaN</td>\n",
       "      <td>farage</td>\n",
       "      <td>0.0000</td>\n",
       "    </tr>\n",
       "    <tr>\n",
       "      <th>19975</th>\n",
       "      <td>RT @cheesehairdo: The crazy ramblings of a cul...</td>\n",
       "      <td>labour</td>\n",
       "      <td>NaN</td>\n",
       "      <td>0.0516</td>\n",
       "    </tr>\n",
       "    <tr>\n",
       "      <th>19976</th>\n",
       "      <td>@McKelvie @JosieLong He does look weak, lettin...</td>\n",
       "      <td>conservative</td>\n",
       "      <td>NaN</td>\n",
       "      <td>-0.4404</td>\n",
       "    </tr>\n",
       "    <tr>\n",
       "      <th>19977</th>\n",
       "      <td>RT @SimonGosden: Ed Milliband came over as a P...</td>\n",
       "      <td>NaN</td>\n",
       "      <td>miliband</td>\n",
       "      <td>0.8519</td>\n",
       "    </tr>\n",
       "    <tr>\n",
       "      <th>19978</th>\n",
       "      <td>RT @Rhydianf: #Labour leader says he'd rather ...</td>\n",
       "      <td>labour</td>\n",
       "      <td>NaN</td>\n",
       "      <td>0.0000</td>\n",
       "    </tr>\n",
       "    <tr>\n",
       "      <th>19979</th>\n",
       "      <td>Lib Dems will be quietly delighted Nick Clegg ...</td>\n",
       "      <td>libdem</td>\n",
       "      <td>clegg</td>\n",
       "      <td>0.8885</td>\n",
       "    </tr>\n",
       "    <tr>\n",
       "      <th>19980</th>\n",
       "      <td>Why has no-one discussed the Lab/SNP antagonis...</td>\n",
       "      <td>labour</td>\n",
       "      <td>NaN</td>\n",
       "      <td>-0.4404</td>\n",
       "    </tr>\n",
       "    <tr>\n",
       "      <th>19981</th>\n",
       "      <td>RT @Tommy_Colc: Financial Times come out in su...</td>\n",
       "      <td>conservative</td>\n",
       "      <td>miliband</td>\n",
       "      <td>0.4019</td>\n",
       "    </tr>\n",
       "    <tr>\n",
       "      <th>19982</th>\n",
       "      <td>I enjoyed Nigel Farage tonight, answering ques...</td>\n",
       "      <td>NaN</td>\n",
       "      <td>farage</td>\n",
       "      <td>0.8889</td>\n",
       "    </tr>\n",
       "    <tr>\n",
       "      <th>19983</th>\n",
       "      <td>RT @UKIP: 77% of people want Britain to have p...</td>\n",
       "      <td>ukip</td>\n",
       "      <td>farage</td>\n",
       "      <td>0.0772</td>\n",
       "    </tr>\n",
       "    <tr>\n",
       "      <th>19984</th>\n",
       "      <td>RT @GAPonsonby: SNP have been offering to work...</td>\n",
       "      <td>labour</td>\n",
       "      <td>NaN</td>\n",
       "      <td>0.0000</td>\n",
       "    </tr>\n",
       "    <tr>\n",
       "      <th>19985</th>\n",
       "      <td>@ChrisHinton18 comments made by UKIP candidate...</td>\n",
       "      <td>ukip</td>\n",
       "      <td>NaN</td>\n",
       "      <td>0.3612</td>\n",
       "    </tr>\n",
       "    <tr>\n",
       "      <th>19986</th>\n",
       "      <td>RT @Tommy_Colc: Financial Times come out in su...</td>\n",
       "      <td>conservative</td>\n",
       "      <td>miliband</td>\n",
       "      <td>0.4019</td>\n",
       "    </tr>\n",
       "    <tr>\n",
       "      <th>19987</th>\n",
       "      <td>Nick Robinson is a nasty little Tory shite I r...</td>\n",
       "      <td>conservative</td>\n",
       "      <td>NaN</td>\n",
       "      <td>-0.5574</td>\n",
       "    </tr>\n",
       "    <tr>\n",
       "      <th>19988</th>\n",
       "      <td>RT @nhrodgers: Miliband taught economics at Ha...</td>\n",
       "      <td>NaN</td>\n",
       "      <td>miliband</td>\n",
       "      <td>0.0000</td>\n",
       "    </tr>\n",
       "    <tr>\n",
       "      <th>19989</th>\n",
       "      <td>RT @MirrorPolitics: Sweating PM Cameron slamme...</td>\n",
       "      <td>NaN</td>\n",
       "      <td>cameron</td>\n",
       "      <td>-0.2960</td>\n",
       "    </tr>\n",
       "    <tr>\n",
       "      <th>19990</th>\n",
       "      <td>RT @UKIP: Two thirds of British people say the...</td>\n",
       "      <td>ukip</td>\n",
       "      <td>farage</td>\n",
       "      <td>0.3182</td>\n",
       "    </tr>\n",
       "    <tr>\n",
       "      <th>19991</th>\n",
       "      <td>RT @nickphking: Fantastic to be out and about ...</td>\n",
       "      <td>conservative</td>\n",
       "      <td>NaN</td>\n",
       "      <td>0.5574</td>\n",
       "    </tr>\n",
       "    <tr>\n",
       "      <th>19992</th>\n",
       "      <td>RT @FraserNelson: Nick Clegg leaves the stage ...</td>\n",
       "      <td>NaN</td>\n",
       "      <td>clegg</td>\n",
       "      <td>0.0000</td>\n",
       "    </tr>\n",
       "    <tr>\n",
       "      <th>19993</th>\n",
       "      <td>RT @anniekc69: #UKIP http://t.co/Z9k4AsdtBv</td>\n",
       "      <td>ukip</td>\n",
       "      <td>NaN</td>\n",
       "      <td>0.0000</td>\n",
       "    </tr>\n",
       "    <tr>\n",
       "      <th>19994</th>\n",
       "      <td>How can Miliband preach about working people w...</td>\n",
       "      <td>NaN</td>\n",
       "      <td>miliband</td>\n",
       "      <td>-0.7500</td>\n",
       "    </tr>\n",
       "    <tr>\n",
       "      <th>19995</th>\n",
       "      <td>RT @UKLabour: .@Ed_Miliband: we're not going t...</td>\n",
       "      <td>labour</td>\n",
       "      <td>miliband</td>\n",
       "      <td>-0.2960</td>\n",
       "    </tr>\n",
       "    <tr>\n",
       "      <th>19996</th>\n",
       "      <td>RT @DisabledScot: @blairmcdougall @ScotlandTon...</td>\n",
       "      <td>labour</td>\n",
       "      <td>miliband</td>\n",
       "      <td>0.0000</td>\n",
       "    </tr>\n",
       "    <tr>\n",
       "      <th>19997</th>\n",
       "      <td>RT @Staircase2: @VividRicky exactly but that a...</td>\n",
       "      <td>NaN</td>\n",
       "      <td>farage</td>\n",
       "      <td>0.0000</td>\n",
       "    </tr>\n",
       "    <tr>\n",
       "      <th>19998</th>\n",
       "      <td>Actually agreed with %95 of what farage was sa...</td>\n",
       "      <td>NaN</td>\n",
       "      <td>farage</td>\n",
       "      <td>0.2732</td>\n",
       "    </tr>\n",
       "    <tr>\n",
       "      <th>19999</th>\n",
       "      <td>RT @PeatWorrier: \"A vote for the SNP is. Er. A...</td>\n",
       "      <td>snp</td>\n",
       "      <td>NaN</td>\n",
       "      <td>-0.1027</td>\n",
       "    </tr>\n",
       "  </tbody>\n",
       "</table>\n",
       "<p>20000 rows × 4 columns</p>\n",
       "</div>"
      ],
      "text/plain": [
       "                                                    text         party  \\\n",
       "0      RT @KirkKus: Indirect cost of the UK being in ...          ukip   \n",
       "1      VIDEO: Sturgeon on post-election deals http://...           NaN   \n",
       "2      RT @LabourEoin: The economy was growing 3 time...           NaN   \n",
       "3      RT @GregLauder: the UKIP east lothian candidat...          ukip   \n",
       "4      RT @thesundaypeople: UKIP's housing spokesman ...          ukip   \n",
       "5      RT @Nigel_Farage: Make sure you tune in to #As...          ukip   \n",
       "6      RT @joannetallis: Ed Milliband is an embarrass...  conservative   \n",
       "7      RT @abstex: The FT is backing the Tories. On a...  conservative   \n",
       "8      RT @NivenJ1: “@George_Osborne: Ed Miliband pro...           NaN   \n",
       "9      LOLZ to Trickle Down Wealth. It's never trickl...           NaN   \n",
       "10     SNP leader faces audience questions http://t.c...           snp   \n",
       "11     RT @cononeilluk: Cameron \"Ed Milliband hanging...           NaN   \n",
       "12     RT @politicshome: Ed Miliband: Last Labour gov...        labour   \n",
       "13     If Miliband is refusing to do any deal with th...           snp   \n",
       "14     RT @scotnotbritt: Well thats it. LABOUR would ...        labour   \n",
       "15     Cameron wins last TV contest of election campa...           NaN   \n",
       "16     RT @stephen501: @dunleavy138 @CrillyBobc @theS...        labour   \n",
       "17     How dare @EdMiliband_MP force Socialists to ch...           snp   \n",
       "18     Watch: Ed Miliband trips off the stage followi...           NaN   \n",
       "19     RT @abstex: The FT is backing the Tories. On a...  conservative   \n",
       "20     @B0MBSKARE the anti-Scottish feeling is largel...           snp   \n",
       "21     Miliband stumbles, Cameron dodges http://t.co/...           NaN   \n",
       "22     Miliband - I'd pass on PM job rather than do d...        labour   \n",
       "23     RT @GloriaDePiero: Nick Clegg is just as respo...  conservative   \n",
       "24     RT @mykilmarnock: Will the person who dropped ...           snp   \n",
       "25     RT @Markfergusonuk: The Sun’s Twitter worm app...           NaN   \n",
       "26     @ScottishPleb @AHairyBiker \\n\\nSNP toxic in En...        labour   \n",
       "27     RT @KatieKhaleesi: I'm #SNPbecause in my entir...        labour   \n",
       "28     Jeremy Vine doesn't think the SNP Scottish tak...           snp   \n",
       "29     RT @daniloxxv: \"UKIP is the bastard child of t...          ukip   \n",
       "...                                                  ...           ...   \n",
       "19970  RT @LaRainbow: Has David Cameron actually answ...           NaN   \n",
       "19971  RT @carrieapples: Ed Miliband is just waffling...           snp   \n",
       "19972  RT @Ceilidhann: All I want is someone to actua...           snp   \n",
       "19973  #AskNigelFarage am I right in thinking UKIP is...          ukip   \n",
       "19974  RT @robbersdog58: @mkpdavies Didn't faze him a...           NaN   \n",
       "19975  RT @cheesehairdo: The crazy ramblings of a cul...        labour   \n",
       "19976  @McKelvie @JosieLong He does look weak, lettin...  conservative   \n",
       "19977  RT @SimonGosden: Ed Milliband came over as a P...           NaN   \n",
       "19978  RT @Rhydianf: #Labour leader says he'd rather ...        labour   \n",
       "19979  Lib Dems will be quietly delighted Nick Clegg ...        libdem   \n",
       "19980  Why has no-one discussed the Lab/SNP antagonis...        labour   \n",
       "19981  RT @Tommy_Colc: Financial Times come out in su...  conservative   \n",
       "19982  I enjoyed Nigel Farage tonight, answering ques...           NaN   \n",
       "19983  RT @UKIP: 77% of people want Britain to have p...          ukip   \n",
       "19984  RT @GAPonsonby: SNP have been offering to work...        labour   \n",
       "19985  @ChrisHinton18 comments made by UKIP candidate...          ukip   \n",
       "19986  RT @Tommy_Colc: Financial Times come out in su...  conservative   \n",
       "19987  Nick Robinson is a nasty little Tory shite I r...  conservative   \n",
       "19988  RT @nhrodgers: Miliband taught economics at Ha...           NaN   \n",
       "19989  RT @MirrorPolitics: Sweating PM Cameron slamme...           NaN   \n",
       "19990  RT @UKIP: Two thirds of British people say the...          ukip   \n",
       "19991  RT @nickphking: Fantastic to be out and about ...  conservative   \n",
       "19992  RT @FraserNelson: Nick Clegg leaves the stage ...           NaN   \n",
       "19993        RT @anniekc69: #UKIP http://t.co/Z9k4AsdtBv          ukip   \n",
       "19994  How can Miliband preach about working people w...           NaN   \n",
       "19995  RT @UKLabour: .@Ed_Miliband: we're not going t...        labour   \n",
       "19996  RT @DisabledScot: @blairmcdougall @ScotlandTon...        labour   \n",
       "19997  RT @Staircase2: @VividRicky exactly but that a...           NaN   \n",
       "19998  Actually agreed with %95 of what farage was sa...           NaN   \n",
       "19999  RT @PeatWorrier: \"A vote for the SNP is. Er. A...           snp   \n",
       "\n",
       "         leader  sentiment  \n",
       "0           NaN     0.0000  \n",
       "1      sturgeon     0.0000  \n",
       "2       cameron     0.1779  \n",
       "3           NaN     0.0000  \n",
       "4           NaN     0.4588  \n",
       "5        farage     0.3802  \n",
       "6      miliband    -0.4389  \n",
       "7           NaN     0.0258  \n",
       "8      miliband     0.0000  \n",
       "9           NaN     0.8167  \n",
       "10          NaN     0.0000  \n",
       "11     miliband     0.2960  \n",
       "12     miliband     0.0000  \n",
       "13     miliband    -0.4019  \n",
       "14          NaN     0.2732  \n",
       "15      cameron     0.8126  \n",
       "16     miliband     0.6956  \n",
       "17          NaN     0.6996  \n",
       "18     miliband     0.4019  \n",
       "19          NaN     0.0258  \n",
       "20          NaN     0.2003  \n",
       "21     miliband     0.0000  \n",
       "22     miliband     0.0000  \n",
       "23        clegg    -0.2263  \n",
       "24          NaN     0.3182  \n",
       "25     miliband     0.5267  \n",
       "26          NaN     0.0772  \n",
       "27          NaN    -0.8225  \n",
       "28          NaN     0.4019  \n",
       "29          NaN    -0.2023  \n",
       "...         ...        ...  \n",
       "19970   cameron     0.0000  \n",
       "19971  miliband    -0.2960  \n",
       "19972  sturgeon     0.3818  \n",
       "19973    farage     0.0972  \n",
       "19974    farage     0.0000  \n",
       "19975       NaN     0.0516  \n",
       "19976       NaN    -0.4404  \n",
       "19977  miliband     0.8519  \n",
       "19978       NaN     0.0000  \n",
       "19979     clegg     0.8885  \n",
       "19980       NaN    -0.4404  \n",
       "19981  miliband     0.4019  \n",
       "19982    farage     0.8889  \n",
       "19983    farage     0.0772  \n",
       "19984       NaN     0.0000  \n",
       "19985       NaN     0.3612  \n",
       "19986  miliband     0.4019  \n",
       "19987       NaN    -0.5574  \n",
       "19988  miliband     0.0000  \n",
       "19989   cameron    -0.2960  \n",
       "19990    farage     0.3182  \n",
       "19991       NaN     0.5574  \n",
       "19992     clegg     0.0000  \n",
       "19993       NaN     0.0000  \n",
       "19994  miliband    -0.7500  \n",
       "19995  miliband    -0.2960  \n",
       "19996  miliband     0.0000  \n",
       "19997    farage     0.0000  \n",
       "19998    farage     0.2732  \n",
       "19999       NaN    -0.1027  \n",
       "\n",
       "[20000 rows x 4 columns]"
      ]
     },
     "execution_count": 52,
     "metadata": {},
     "output_type": "execute_result"
    }
   ],
   "source": [
    "data.sort()"
   ]
  },
  {
   "cell_type": "code",
   "execution_count": 34,
   "metadata": {
    "collapsed": false
   },
   "outputs": [
    {
     "data": {
      "text/plain": [
       "leader\n",
       "cameron     0.047176\n",
       "clegg       0.103216\n",
       "farage      0.088027\n",
       "miliband    0.086034\n",
       "sturgeon    0.041670\n",
       "Name: sentiment, dtype: float64"
      ]
     },
     "execution_count": 34,
     "metadata": {},
     "output_type": "execute_result"
    }
   ],
   "source": [
    "grouped_leader = data['sentiment'].groupby(data['leader'])\n",
    "grouped_leader.mean()"
   ]
  },
  {
   "cell_type": "code",
   "execution_count": 30,
   "metadata": {
    "collapsed": false
   },
   "outputs": [
    {
     "data": {
      "text/plain": [
       "party\n",
       "conservative    0.098122\n",
       "labour          0.001554\n",
       "libdem          0.068198\n",
       "snp             0.047162\n",
       "ukip            0.103672\n",
       "Name: sentiment, dtype: float64"
      ]
     },
     "execution_count": 30,
     "metadata": {},
     "output_type": "execute_result"
    }
   ],
   "source": [
    "grouped_party = data['sentiment'].groupby(data['party'])\n",
    "grouped_party.mean()"
   ]
  },
  {
   "cell_type": "code",
   "execution_count": 35,
   "metadata": {
    "collapsed": false
   },
   "outputs": [
    {
     "data": {
      "text/plain": [
       "leader\n",
       "cameron     1472\n",
       "clegg        688\n",
       "farage      3079\n",
       "miliband    7340\n",
       "sturgeon     630\n",
       "Name: sentiment, dtype: int64"
      ]
     },
     "execution_count": 35,
     "metadata": {},
     "output_type": "execute_result"
    }
   ],
   "source": [
    "grouped_leader.count()"
   ]
  },
  {
   "cell_type": "code",
   "execution_count": 36,
   "metadata": {
    "collapsed": false
   },
   "outputs": [
    {
     "data": {
      "text/plain": [
       "party\n",
       "conservative    3130\n",
       "labour          3403\n",
       "libdem            58\n",
       "snp             4100\n",
       "ukip            2768\n",
       "Name: sentiment, dtype: int64"
      ]
     },
     "execution_count": 36,
     "metadata": {},
     "output_type": "execute_result"
    }
   ],
   "source": [
    "grouped_party.count()"
   ]
  },
  {
   "cell_type": "code",
   "execution_count": 32,
   "metadata": {
    "collapsed": false
   },
   "outputs": [
    {
     "data": {
      "text/plain": [
       "party\n",
       "conservative   -0.9821\n",
       "labour         -0.9231\n",
       "libdem         -0.6705\n",
       "snp            -0.9538\n",
       "ukip           -0.9426\n",
       "Name: sentiment, dtype: float64"
      ]
     },
     "execution_count": 32,
     "metadata": {},
     "output_type": "execute_result"
    }
   ],
   "source": [
    "grouped_party.min()"
   ]
  },
  {
   "cell_type": "code",
   "execution_count": null,
   "metadata": {
    "collapsed": false
   },
   "outputs": [],
   "source": [
    "grouped_leader.count().sort_values(ascending=False)"
   ]
  },
  {
   "cell_type": "markdown",
   "metadata": {},
   "source": [
    "## Challenges\n",
    "\n",
    "It's not hard to find examples where something close to full natural language understanding is required to determine the correct polarity.\n",
    "\n",
    "* <i>David Cameron doesn't seem to have done too badly until now. Otherwise #milifandom and #cleggers would be attacking him for these bad things.</i> \n",
    "* <i>Even though I don't like UKIP I'm hating them less and less every day, they do actually have very some good policies.</i> "
   ]
  },
  {
   "cell_type": "code",
   "execution_count": 53,
   "metadata": {
    "collapsed": false
   },
   "outputs": [
    {
     "data": {
      "text/plain": [
       "{'compound': -0.8625, 'neg': 0.324, 'neu': 0.676, 'pos': 0.0}"
      ]
     },
     "execution_count": 53,
     "metadata": {},
     "output_type": "execute_result"
    }
   ],
   "source": [
    "sia.polarity_scores(\"David Cameron doesn't seem to have done too badly until now. Otherwise #milifandom and #cleggers would be attacking him for these bad things.\")"
   ]
  },
  {
   "cell_type": "markdown",
   "metadata": {},
   "source": [
    "A further challenge in sentiment analysis is deciding the right level of **granularity** for the topic under discussion. Often, we can agree in the overall polarity of a sentence (or even of larger texts) because there is a single dominant topic. But in a list-like construction such as the following, different sentiments are associated with different\n",
    "entities, and there is no sensible way of aggregating this into a combined polarity score for the text as a whole:\n",
    "\n",
    "<i>@hugorifkind Audience - good. Mili - bad. Clegg - a bit sad. Cam - unscathed</i> \n",
    "\n",
    "Finally, our current approaches to language processing struggle with sarcasm, irony and satire, since these (intentionally) agin lead to polarity reversals.\n",
    "\n",
    "* <i>LOVE being sat on a plane for 4 hours after a 10 hour flight !! Soooo fun !</i> \n",
    "* <i>The wrong spelling of Ed Miliband is trending, but not the correct one. Good job, Britain.</i> "
   ]
  },
  {
   "cell_type": "code",
   "execution_count": null,
   "metadata": {
    "collapsed": true
   },
   "outputs": [],
   "source": []
  }
 ],
 "metadata": {
  "kernelspec": {
   "display_name": "Python 3",
   "language": "python",
   "name": "python3"
  },
  "language_info": {
   "codemirror_mode": {
    "name": "ipython",
    "version": 3
   },
   "file_extension": ".py",
   "mimetype": "text/x-python",
   "name": "python",
   "nbconvert_exporter": "python",
   "pygments_lexer": "ipython3",
   "version": "3.4.3"
  }
 },
 "nbformat": 4,
 "nbformat_minor": 0
}
