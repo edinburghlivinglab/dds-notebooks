{
 "cells": [
  {
   "cell_type": "markdown",
   "metadata": {},
   "source": [
    "# Sentiment Analysis for Twitter\n",
    "\n",
    "## Overview\n",
    "\n",
    "This tutorial is going to introduce some simple tools for detecting sentiment in Tweets. We will be using a set of tools called the Natural Language Toolkit ([NLTK](http://www.nltk.org)). This is collection of software written in the [Python](https://www.python.org) programming language. An important design goal behind Python is that it should be easy to read and fun to use, so well-suited for beginners. A similar motivation inspired NLTK: it should make complex tasks easy to carry out, and it should be written in a way that would allow users to inspect and understand the code.\n",
    "\n",
    "Why is this relevant? Well, a lot of software these days is built to be easy to use, but hard to inspect. For example, smartphones have a lot of slick apps on them, but very few people have the expertise to look under the hood to find out how they work. NLTK has quite the opposite approach: you are actively encouraged to discover how the code works. However, your level of understanding will depend heavily on how far you get to grips with Python itself.\n",
    "\n",
    "This tutorial is written using the [Ipython](http://ipython.org) framework. This allows text to be interspersed by fragments of code, occuring in special \"cells\". Just below is a cell where we are using Python to do a simple calculation:"
   ]
  },
  {
   "cell_type": "code",
   "execution_count": 1,
   "metadata": {
    "collapsed": false
   },
   "outputs": [
    {
     "data": {
      "text/plain": [
       "7"
      ]
     },
     "execution_count": 1,
     "metadata": {},
     "output_type": "execute_result"
    }
   ],
   "source": [
    "3 + 4"
   ]
  },
  {
   "cell_type": "markdown",
   "metadata": {},
   "source": [
    "Some of the cells will contain snippets of code that are necessary for the big story to work, but which you don't need to understand. We'll try to make it clear when it's important for you to pay attention to one of the cells. "
   ]
  },
  {
   "cell_type": "markdown",
   "metadata": {},
   "source": [
    "## Twitter\n",
    "\n",
    "As you know, people are tweeting all the time. The rate varies, with about 6,000 per second being the average, but when I last checked, the [rate was over 10,000 Tweets per second](http://www.internetlivestats.com/one-second/#tweets-band). So, a lot. Twitter kindly allows people to tap into a small sample of this stream &mdash; unless you're able to pay, the sample is at most 1% of the total stream. \n",
    "\n",
    "Here's a tiny snapshow to Tweets, taken at 13.00 pm on Sunday 11 November 2015. By using the keywords `'love, hate'`, we restrict our sample to just those Tweets containing one or both of those words."
   ]
  },
  {
   "cell_type": "code",
   "execution_count": 3,
   "metadata": {
    "collapsed": false
   },
   "outputs": [
    {
     "name": "stdout",
     "output_type": "stream",
     "text": [
      "Houses are like people - some you like and some you don't like - and once in a while there is one you love.\n",
      "RT @halsey: @harmlesshalsey I don't consider any of this hate I'm clearing up misunderstandings be people are constantly reaching for reaso…\n",
      "RT @MemeMinawya: love story ended with a pain💔\n",
      "Listen to know what happened👇\n",
      "@Mina_Atta_ \n",
      "https://t.co/ohwqaOiQKi … … … … … … … …\n",
      "\n",
      "#DemForu…\n",
      "RT @superlativehes: @Harry_Styles \n",
      "❝You're a charming gardener that makes my soul blossom❞\n",
      "Thanks for making me happy ❃\n",
      "Mind following me H…\n",
      "RT @baaari_dr: Thank you for the love daw 😉 https://t.co/uIs4pT9JUU\n",
      "i reallt hate slow updates!\n",
      "RT @PopWrapped: @justinbieber Well smell a HUGE record breaker. Congrats on your best project to date, Justin. Lots of love. #Purpose\n",
      "RT @K__amin: \"I love you\"\n",
      "\n",
      "\"ILYTAF\"\n",
      "\n",
      "\"Apa tu ?\"\n",
      "\n",
      "\"I love you too as friend\"\n",
      "\n",
      "Perbualan tamat disitu,burung-burung berkicauan,angin bertiupa…\n",
      "RT @piedwagtail91: @JanSmithNL \n",
      "Hi Jan. Yes it's going ok. Hope yours is too. Love and light ☺\n",
      "RT @biebersgiIinsky: Justin Bieber I love you this much https://t.co/ScVsXWdTDc\n",
      "RT @GurpreetInsan_: @Gurmeetramrahim #MSG2RidesOn400Club superb enthusiasm for MSG2 every age of persons rejoicing in  much enthusiasm in y…\n",
      "How its feels to have cameron followback/fav/retweet/dm ? answer me @camerondallas i love you x68\n",
      "kjbee3 #PushAwardsLizQuens https://t.co/lkqIOmOBOG\n",
      "Watch the Ritvik-Shivanya love story unravel tonight at 8PM on #Naagin! @Thearjunbijlani @Roymouni @adaa1nonly https://t.co/8bRMzQCZ3T\n",
      "@garres228 Hi, please Rt this link:)\n",
      "https://t.co/1ODZP2XLmQ\n",
      "I've been super in love with the same girl since 7th grade and I still plan on marrying her. Goodnight.\n",
      "RT @pornongtula: \"Don't trust too much. Don't love too much. Don't hope too much, because that too much can hurt you so much.\"\n",
      "\n",
      "— J.O\n",
      "@romixrc ואני אצליח לשיר את whole lotta love\n",
      "RT @LouisLaTapette_: 🌸🐵🌸\n",
      "Hi Liam!\n",
      "🌸🙊🌸\n",
      "We love you sooo much!\n",
      "🌸🙈🌸\n",
      "You can Follow us Bae? Me and @Annecrt \n",
      "🌸🙊🌸\n",
      "Please @Real_Liam_Payne 🇫🇷 htt…\n",
      "Love me some mf Knights 🔶⬛️❤️\n",
      "RT @SecuteBelieber: i love you more @justinbieber https://t.co/dedvxlnD6w\n",
      "RT @SteveStfler: peeing in the ocean is the best feeling its like im sharing a piece of myself with the world i hope my pee made it to spai…\n",
      "RT @kirkfranklin: God I want to chase you for the rest of my life. Thank you for this day I didn't deserve, and I didn't earn. I love you.\n",
      "RT @kwisteria: Happy #SarahSunday 🎉\n",
      "LOVE the way @sarahgrafferty said her line. So adorable 💕💕 She's perfect #DonnaPaulsen 😍 https://t.co/h…\n",
      "@NiallOfficial\n",
      "\n",
      "You'll never love yourself\n",
      "half as much as ily.\n",
      "\n",
      "I breathe for you.\n",
      "\n",
      "Hope you read this 💘🍀\n",
      "\n",
      "x5689\n",
      "\n",
      "https://t.co/CCC0tjvIpK\n",
      "Written 25 Tweets\n"
     ]
    }
   ],
   "source": [
    "import nltk # load up the NLTK library\n",
    "from nltk.twitter import Twitter\n",
    "tw = Twitter() # start a new client that connects to Twitter\n",
    "tw.tweets(keywords='love, hate', limit=25) #filter Tweets from the public stream"
   ]
  },
  {
   "cell_type": "markdown",
   "metadata": {
    "collapsed": true
   },
   "source": [
    "## Using a Twitter corpus\n",
    "\n",
    "You too can sample Tweets in this way, but you'll need to set up your Twitter API keys according to [these instructions](http://www.nltk.org/howto/twitter.html). Since this is a bit of hassle, for the rest of this tutorial, we'll focus our attention on a sample of 20,000 Tweets that were collected at the end of April 2015. In order focus on Tweets about the UK general election, the public stream was filtered with the following set of terms:\n",
    "```\n",
    "david cameron, miliband, milliband, sturgeon, clegg, farage, tory, tories, ukip, snp, libdem\n",
    "```\n",
    "The following code cell allows us to get hold of this collection, and prints out the text of the first 15. You don't need to worry about the details of how this happens."
   ]
  },
  {
   "cell_type": "code",
   "execution_count": 9,
   "metadata": {
    "collapsed": false
   },
   "outputs": [
    {
     "name": "stdout",
     "output_type": "stream",
     "text": [
      "RT @KirkKus: Indirect cost of the UK being in the EU is estimated to be costing Britain £170 billion per year! #BetterOffOut #UKIP\n",
      "VIDEO: Sturgeon on post-election deals http://t.co/BTJwrpbmOY\n",
      "RT @LabourEoin: The economy was growing 3 times faster on the day David Cameron became Prime Minister than it is today.. #BBCqt http://t.co…\n",
      "RT @GregLauder: the UKIP east lothian candidate looks about 16 and still has an msn addy http://t.co/7eIU0c5Fm1\n",
      "RT @thesundaypeople: UKIP's housing spokesman rakes in £800k in housing benefit from migrants.  http://t.co/GVwb9Rcb4w http://t.co/c1AZxcLh…\n",
      "RT @Nigel_Farage: Make sure you tune in to #AskNigelFarage tonight on BBC 1 at 22:50! #UKIP http://t.co/ogHSc2Rsr2\n",
      "RT @joannetallis: Ed Milliband is an embarrassment. Would you want him representing the UK?!  #bbcqt vote @Conservatives\n",
      "RT @abstex: The FT is backing the Tories. On an unrelated note, here's a photo of FT leader writer Jonathan Ford (next to Boris) http://t.c…\n",
      "RT @NivenJ1: “@George_Osborne: Ed Miliband proved tonight why he's not up to the job” Tbf you've spent 5 years doing that you salivating do…\n",
      "LOLZ to Trickle Down Wealth. It's never trickling past their own wallets. Greed always wins $$$ for the greedy.  https://t.co/X7deoPbS97\n",
      "SNP leader faces audience questions http://t.co/TYClKltSpW\n",
      "RT @cononeilluk: Cameron \"Ed Milliband hanging out with Russell Brand. He is a joke. This is an election. This is about real people' http:/…\n",
      "RT @politicshome: Ed Miliband: Last Labour government did not overspend http://t.co/W9RJ2aSH6o http://t.co/4myFekg5ex\n",
      "If Miliband is refusing to do any deal with the SNP, how does he plan on forming a government?\n",
      "RT @scotnotbritt: Well thats it. LABOUR would rather have a TORY government rather than work with the SNP. http://t.co/SNMkRDCe9f\n",
      "Cameron wins last TV contest of election campaign - poll: LONDON (Reuters) - Prime Minister David Cameron won the… http://t.co/aUMOoYWOSk\n",
      "RT @stephen501: @dunleavy138 @CrillyBobc @theSNP @UKLabour I would be happy to do a deal with the SNP, but @Ed_Miliband was clear. If you w…\n",
      "How dare @EdMiliband_MP force Socialists to chose between the English LP and the SNP! The #SNP are the last, true Socialist party in the UK\n",
      "Watch: Ed Miliband trips off the stage following Question Time leaders special http://t.co/X61IGbe07R\n",
      "RT @abstex: The FT is backing the Tories. On an unrelated note, here's a photo of FT leader writer Jonathan Ford (next to Boris) http://t.c…\n"
     ]
    }
   ],
   "source": [
    "from nltk.corpus import twitter_samples\n",
    "strings = twitter_samples.strings('tweets.20150430-223406.json')\n",
    "for string in strings[:20]:\n",
    "    print(string)"
   ]
  },
  {
   "cell_type": "markdown",
   "metadata": {},
   "source": [
    "## Sentiment Analysis\n",
    "\n",
    "It's clear that many of the people responsible for the Tweets shown above have strong opinions. We will use the term `sentiment analysis` to refer to the process of using software to figure out what these opinions actually are.\n",
    "\n",
    "Although sentiment analysis is designed to work with written text, the way in which people express their feelings is often goes far beyond what they literally say. In spoken language, intonation will be important. And of course we often express emotion using no words at all, as illustrated in this picture from Darwin's book *The Expression of the Emotions*.\n",
    "\n",
    "<a title=\"By Charles Darwin (author of volume); unknown photographer of plate [Public domain], via Wikimedia Commons\" href=\"https://commons.wikimedia.org/wiki/File%3APlate_depicting_emotions_of_grief_from_Charles_Darwin's_book_The_Expression_of_the_Emotions.jpg\"><img align=\"left\" width=\"512\" alt=\"Plate depicting emotions of grief from Charles Darwin&'s book The Expression of the Emotions\" src=\"https://upload.wikimedia.org/wikipedia/commons/thumb/0/0c/Plate_depicting_emotions_of_grief_from_Charles_Darwin%27s_book_The_Expression_of_the_Emotions.jpg/512px-Plate_depicting_emotions_of_grief_from_Charles_Darwin%27s_book_The_Expression_of_the_Emotions.jpg\"/></a>\n"
   ]
  },
  {
   "cell_type": "code",
   "execution_count": 6,
   "metadata": {
    "collapsed": false
   },
   "outputs": [],
   "source": [
    "input_file = twitter_samples.abspath(\"tweets.20150430-223406.json\")"
   ]
  },
  {
   "cell_type": "code",
   "execution_count": 8,
   "metadata": {
    "collapsed": false
   },
   "outputs": [],
   "source": [
    "from nltk.twitter.util import json2csv\n",
    "with open(input_file) as fp:\n",
    "    json2csv(fp, 'tweets_text.csv', ['text'])"
   ]
  },
  {
   "cell_type": "code",
   "execution_count": 12,
   "metadata": {
    "collapsed": true
   },
   "outputs": [
    {
     "data": {
      "text/html": [
       "<div>\n",
       "<table border=\"1\" class=\"dataframe\">\n",
       "  <thead>\n",
       "    <tr style=\"text-align: right;\">\n",
       "      <th></th>\n",
       "      <th>text</th>\n",
       "    </tr>\n",
       "  </thead>\n",
       "  <tbody>\n",
       "    <tr>\n",
       "      <th>0</th>\n",
       "      <td>RT @KirkKus: Indirect cost of the UK being in ...</td>\n",
       "    </tr>\n",
       "    <tr>\n",
       "      <th>1</th>\n",
       "      <td>VIDEO: Sturgeon on post-election deals http://...</td>\n",
       "    </tr>\n",
       "    <tr>\n",
       "      <th>2</th>\n",
       "      <td>RT @LabourEoin: The economy was growing 3 time...</td>\n",
       "    </tr>\n",
       "    <tr>\n",
       "      <th>3</th>\n",
       "      <td>RT @GregLauder: the UKIP east lothian candidat...</td>\n",
       "    </tr>\n",
       "    <tr>\n",
       "      <th>4</th>\n",
       "      <td>RT @thesundaypeople: UKIP's housing spokesman ...</td>\n",
       "    </tr>\n",
       "    <tr>\n",
       "      <th>5</th>\n",
       "      <td>RT @Nigel_Farage: Make sure you tune in to #As...</td>\n",
       "    </tr>\n",
       "    <tr>\n",
       "      <th>6</th>\n",
       "      <td>RT @joannetallis: Ed Milliband is an embarrass...</td>\n",
       "    </tr>\n",
       "    <tr>\n",
       "      <th>7</th>\n",
       "      <td>RT @abstex: The FT is backing the Tories. On a...</td>\n",
       "    </tr>\n",
       "    <tr>\n",
       "      <th>8</th>\n",
       "      <td>RT @NivenJ1: “@George_Osborne: Ed Miliband pro...</td>\n",
       "    </tr>\n",
       "    <tr>\n",
       "      <th>9</th>\n",
       "      <td>LOLZ to Trickle Down Wealth. It's never trickl...</td>\n",
       "    </tr>\n",
       "    <tr>\n",
       "      <th>10</th>\n",
       "      <td>SNP leader faces audience questions http://t.c...</td>\n",
       "    </tr>\n",
       "    <tr>\n",
       "      <th>11</th>\n",
       "      <td>RT @cononeilluk: Cameron \"Ed Milliband hanging...</td>\n",
       "    </tr>\n",
       "    <tr>\n",
       "      <th>12</th>\n",
       "      <td>RT @politicshome: Ed Miliband: Last Labour gov...</td>\n",
       "    </tr>\n",
       "    <tr>\n",
       "      <th>13</th>\n",
       "      <td>If Miliband is refusing to do any deal with th...</td>\n",
       "    </tr>\n",
       "    <tr>\n",
       "      <th>14</th>\n",
       "      <td>RT @scotnotbritt: Well thats it. LABOUR would ...</td>\n",
       "    </tr>\n",
       "    <tr>\n",
       "      <th>15</th>\n",
       "      <td>Cameron wins last TV contest of election campa...</td>\n",
       "    </tr>\n",
       "    <tr>\n",
       "      <th>16</th>\n",
       "      <td>RT @stephen501: @dunleavy138 @CrillyBobc @theS...</td>\n",
       "    </tr>\n",
       "    <tr>\n",
       "      <th>17</th>\n",
       "      <td>How dare @EdMiliband_MP force Socialists to ch...</td>\n",
       "    </tr>\n",
       "    <tr>\n",
       "      <th>18</th>\n",
       "      <td>Watch: Ed Miliband trips off the stage followi...</td>\n",
       "    </tr>\n",
       "    <tr>\n",
       "      <th>19</th>\n",
       "      <td>RT @abstex: The FT is backing the Tories. On a...</td>\n",
       "    </tr>\n",
       "  </tbody>\n",
       "</table>\n",
       "</div>"
      ],
      "text/plain": [
       "                                                 text\n",
       "0   RT @KirkKus: Indirect cost of the UK being in ...\n",
       "1   VIDEO: Sturgeon on post-election deals http://...\n",
       "2   RT @LabourEoin: The economy was growing 3 time...\n",
       "3   RT @GregLauder: the UKIP east lothian candidat...\n",
       "4   RT @thesundaypeople: UKIP's housing spokesman ...\n",
       "5   RT @Nigel_Farage: Make sure you tune in to #As...\n",
       "6   RT @joannetallis: Ed Milliband is an embarrass...\n",
       "7   RT @abstex: The FT is backing the Tories. On a...\n",
       "8   RT @NivenJ1: “@George_Osborne: Ed Miliband pro...\n",
       "9   LOLZ to Trickle Down Wealth. It's never trickl...\n",
       "10  SNP leader faces audience questions http://t.c...\n",
       "11  RT @cononeilluk: Cameron \"Ed Milliband hanging...\n",
       "12  RT @politicshome: Ed Miliband: Last Labour gov...\n",
       "13  If Miliband is refusing to do any deal with th...\n",
       "14  RT @scotnotbritt: Well thats it. LABOUR would ...\n",
       "15  Cameron wins last TV contest of election campa...\n",
       "16  RT @stephen501: @dunleavy138 @CrillyBobc @theS...\n",
       "17  How dare @EdMiliband_MP force Socialists to ch...\n",
       "18  Watch: Ed Miliband trips off the stage followi...\n",
       "19  RT @abstex: The FT is backing the Tories. On a..."
      ]
     },
     "execution_count": 12,
     "metadata": {},
     "output_type": "execute_result"
    }
   ],
   "source": [
    "import pandas as pd\n",
    "tweets = pd.read_csv('tweets_text.csv', header=0, encoding=\"utf8\")\n",
    "tweets.head(20)"
   ]
  },
  {
   "cell_type": "code",
   "execution_count": 14,
   "metadata": {
    "collapsed": true
   },
   "outputs": [],
   "source": [
    "from nltk.sentiment.vader import SentimentIntensityAnalyzer"
   ]
  },
  {
   "cell_type": "code",
   "execution_count": null,
   "metadata": {
    "collapsed": true
   },
   "outputs": [],
   "source": []
  }
 ],
 "metadata": {
  "kernelspec": {
   "display_name": "Python 3",
   "language": "python",
   "name": "python3"
  },
  "language_info": {
   "codemirror_mode": {
    "name": "ipython",
    "version": 3
   },
   "file_extension": ".py",
   "mimetype": "text/x-python",
   "name": "python",
   "nbconvert_exporter": "python",
   "pygments_lexer": "ipython3",
   "version": "3.4.3"
  }
 },
 "nbformat": 4,
 "nbformat_minor": 0
}
