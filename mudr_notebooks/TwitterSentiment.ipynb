{
 "cells": [
  {
   "cell_type": "markdown",
   "metadata": {},
   "source": [
    "# Sentiment Analysis for Twitter\n",
    "\n",
    "## Overview\n",
    "\n",
    "This tutorial is going to introduce some simple tools for detecting sentiment in Tweets. We will be using a set of tools called the Natural Language Toolkit ([NLTK](http://www.nltk.org)). This is collection of software written in the [Python](https://www.python.org) programming language. An important design goal behind Python is that it should be easy to read and fun to use, so well-suited for beginners. A similar motivation inspired NLTK: it should make complex tasks easy to carry out, and it should be written in a way that would allow users to inspect and understand the code.\n",
    "\n",
    "Why is this relevant? Well, a lot of software these days is built to be easy to use, but hard to inspect. For example, smartphones have a lot of slick apps on them, but very few people have the expertise to look under the hood to find out how they work. NLTK has quite the opposite approach: you are actively encouraged to discover how the code works. However, your level of understanding will depend heavily on how far you get to grips with Python itself.\n",
    "\n",
    "This tutorial is written using the [IPython](http://ipython.org) framework. This allows text to be interspersed by fragments of code, occuring in special \"cells\". Just below is a cell where we are using Python to do a simple calculation:"
   ]
  },
  {
   "cell_type": "code",
   "execution_count": 100,
   "metadata": {
    "collapsed": false
   },
   "outputs": [
    {
     "data": {
      "text/plain": [
       "7"
      ]
     },
     "execution_count": 100,
     "metadata": {},
     "output_type": "execute_result"
    }
   ],
   "source": [
    "3 + 4"
   ]
  },
  {
   "cell_type": "markdown",
   "metadata": {},
   "source": [
    "Some of the cells will contain snippets of code that are necessary for the big story to work, but which you don't need to understand. We'll try to make it clear when it's important for you to pay attention to one of the cells. "
   ]
  },
  {
   "cell_type": "markdown",
   "metadata": {},
   "source": [
    "## Twitter\n",
    "\n",
    "As you know, people are tweeting all the time. The rate varies, with about 6,000 per second being the average, but when I last checked, the [rate was over 10,000 Tweets per second](http://www.internetlivestats.com/one-second/#tweets-band). So, a lot. Twitter kindly allows people to tap into a small sample of this stream &mdash; unless you're able to pay, the sample is at most 1% of the total stream. \n",
    "\n",
    "Here's a tiny snapshow to Tweets, reflecting the Twitter public stream at the point this tutorial was last executed. By using the keywords `'love, hate'`, we restrict our sample to just those Tweets containing one or both of those words. "
   ]
  },
  {
   "cell_type": "code",
   "execution_count": 68,
   "metadata": {
    "collapsed": false
   },
   "outputs": [
    {
     "name": "stdout",
     "output_type": "stream",
     "text": [
      "@wesleystromberg good morning, my love 🌞💛\n",
      "RT @jetblackstyIes: @Ashton5SOS I love SGFG so much. every lyric, melody and chord is perfect. you boys never fail to impress us. we are so…\n",
      "RT @FreddyAmazin: I love Kourtney 😂 https://t.co/ecoO9bpZrs\n",
      "https://t.co/0CsvdCzYeZ\n",
      "@Michael5SOS \n",
      "X205\n",
      "I love Ashton so fucking much what the fuck\n",
      "@LittleMix 💑↔️✈️🙍🏼 (love me or leave me)\n",
      "RT @5SOS: @lesleeeeey love our malaysian fans heaps. hope we can come there soon :)\n",
      "Listen to Forever More (Love Songs, Hits &amp; Duets) by James Ingram on @AppleMusic.\n",
      "https://t.co/njTvJ2ZT3f https://t.co/F58tIyzWT9\n",
      "RT @ProudOfKathniel: KathNiel will flood our december of love ❤❤❤\n",
      "#PSYPagtakas -🍯 https://t.co/GpPe4jqe6X\n",
      "Love him with everything I have 💕 #love #heamazesme #heamazesmeeveryday #lovehim #selfie #kiss… https://t.co/RqEzDwznVH\n",
      "Jack and Jack ,Latin America needs you🙏🏻\n",
      "Will we have Tour Dates soon? \n",
      "We love you❤️\n",
      "@JackJackJohnson @jackgilinsky \n",
      "\n",
      "Ecuador needs you🇪🇨21\n",
      "RT @OhBaeMsgs: For every day, I miss you. For every hour, I need you. For every minute, I feel you. For every second, I want you. Forever, …\n",
      "今日はCSで、SWEET LOVE SHOWER 2015を見てたけど、\n",
      "やっぱり、ゲスの極みって、\n",
      "時代の半歩先をリードしている感じがする☆\n",
      "\n",
      "そりゃ、ミスチルの桜井さんが今一番注目するはずだわ\n",
      "RT @beyondxdarkness: i hate getting close to people these days... i always regret sharing too much, caring too much, doing too much, and fe…\n",
      "@officialheart All I wanna do is make love to you, is probably the best song in the history of the world.\n",
      "RT @maindcm: THIS MUST BE LOVE AHIHIHI,  #ExcitedForGMAChristmasStationID\n",
      "RT @jetblackstyIes: @Ashton5SOS I love SGFG so much. every lyric, melody and chord is perfect. you boys never fail to impress us. we are so…\n",
      "RT @mkaitlinharris: When Sinqua signed my sheet I pointed out Gage's sig \"there's your boo\" he said \"I love my boo\" kissed his hand &amp; put t…\n",
      "RT @jetblackstyIes: @Ashton5SOS I love SGFG so much. every lyric, melody and chord is perfect. you boys never fail to impress us. we are so…\n",
      "【参戦済】\n",
      "03/21 AnimeJapan2015\n",
      "03/22 Free!es岩鳶鮫柄合同文化祭\n",
      "05/23 美男高校地球防衛部LOVE!LIVE!\n",
      "06/19 OCD\"ONE PLEDGES\" ZeppNagoya\n",
      "07/19 Free!-Swimming All Night\n",
      "RT @PassionPosts: did you ever notice how much it hurts missing someone who will never love you, at all in any way\n",
      "RT @_benjvmins_: I hate havin feelings. I wish I aint have these hoes .\n",
      "Don't know her but i kinda hate her. .lol https://t.co/7Juqnoyzzb\n",
      "@Jayson_Greene Love when P4k reviews have personal anecdotes/reflections. Makes it much more relatable and I'm more inclined to listen.\n",
      "RT @partylikeits07: When you love yourself http://t.co/wkTRX5iPvc\n",
      "Written 25 Tweets\n"
     ]
    }
   ],
   "source": [
    "import nltk # load up the NLTK library\n",
    "from nltk.twitter import Twitter\n",
    "tw = Twitter() # start a new client that connects to Twitter\n",
    "tw.tweets(keywords='love, hate', limit=25) #filter Tweets from the public stream"
   ]
  },
  {
   "cell_type": "markdown",
   "metadata": {
    "collapsed": true
   },
   "source": [
    "## Using a Twitter corpus\n",
    "\n",
    "You too can sample Tweets in this way, but you'll need to set up your Twitter API keys according to [these instructions](http://www.nltk.org/howto/twitter.html), and also install NLTK (and IPython if you want) on your own computer. Since this is a bit of hassle, for the rest of this tutorial, we'll focus our attention on a sample of 20,000 English-language Tweets that were collected at the end of April 2015. In order focus on Tweets about the UK general election, the public stream was filtered with the following set of terms:\n",
    "```\n",
    "david cameron, miliband, milliband, sturgeon, clegg, farage, tory, tories, ukip, snp, libdem\n",
    "```\n",
    "The following code cell allows us to get hold of this collection, and prints out the text of the first 15. You don't need to worry about the details of how this happens."
   ]
  },
  {
   "cell_type": "code",
   "execution_count": 4,
   "metadata": {
    "collapsed": false
   },
   "outputs": [],
   "source": [
    "from nltk.corpus import twitter_samples\n",
    "strings = twitter_samples.strings('tweets.20150430-223406.json')"
   ]
  },
  {
   "cell_type": "code",
   "execution_count": 5,
   "metadata": {
    "collapsed": false
   },
   "outputs": [
    {
     "name": "stdout",
     "output_type": "stream",
     "text": [
      "RT @KirkKus: Indirect cost of the UK being in the EU is estimated to be costing Britain £170 billion per year! #BetterOffOut #UKIP\n",
      "VIDEO: Sturgeon on post-election deals http://t.co/BTJwrpbmOY\n",
      "RT @LabourEoin: The economy was growing 3 times faster on the day David Cameron became Prime Minister than it is today.. #BBCqt http://t.co…\n",
      "RT @GregLauder: the UKIP east lothian candidate looks about 16 and still has an msn addy http://t.co/7eIU0c5Fm1\n",
      "RT @thesundaypeople: UKIP's housing spokesman rakes in £800k in housing benefit from migrants.  http://t.co/GVwb9Rcb4w http://t.co/c1AZxcLh…\n",
      "RT @Nigel_Farage: Make sure you tune in to #AskNigelFarage tonight on BBC 1 at 22:50! #UKIP http://t.co/ogHSc2Rsr2\n",
      "RT @joannetallis: Ed Milliband is an embarrassment. Would you want him representing the UK?!  #bbcqt vote @Conservatives\n",
      "RT @abstex: The FT is backing the Tories. On an unrelated note, here's a photo of FT leader writer Jonathan Ford (next to Boris) http://t.c…\n",
      "RT @NivenJ1: “@George_Osborne: Ed Miliband proved tonight why he's not up to the job” Tbf you've spent 5 years doing that you salivating do…\n",
      "LOLZ to Trickle Down Wealth. It's never trickling past their own wallets. Greed always wins $$$ for the greedy.  https://t.co/X7deoPbS97\n",
      "SNP leader faces audience questions http://t.co/TYClKltSpW\n",
      "RT @cononeilluk: Cameron \"Ed Milliband hanging out with Russell Brand. He is a joke. This is an election. This is about real people' http:/…\n",
      "RT @politicshome: Ed Miliband: Last Labour government did not overspend http://t.co/W9RJ2aSH6o http://t.co/4myFekg5ex\n",
      "If Miliband is refusing to do any deal with the SNP, how does he plan on forming a government?\n",
      "RT @scotnotbritt: Well thats it. LABOUR would rather have a TORY government rather than work with the SNP. http://t.co/SNMkRDCe9f\n",
      "Cameron wins last TV contest of election campaign - poll: LONDON (Reuters) - Prime Minister David Cameron won the… http://t.co/aUMOoYWOSk\n",
      "RT @stephen501: @dunleavy138 @CrillyBobc @theSNP @UKLabour I would be happy to do a deal with the SNP, but @Ed_Miliband was clear. If you w…\n",
      "How dare @EdMiliband_MP force Socialists to chose between the English LP and the SNP! The #SNP are the last, true Socialist party in the UK\n",
      "Watch: Ed Miliband trips off the stage following Question Time leaders special http://t.co/X61IGbe07R\n",
      "RT @abstex: The FT is backing the Tories. On an unrelated note, here's a photo of FT leader writer Jonathan Ford (next to Boris) http://t.c…\n"
     ]
    }
   ],
   "source": [
    "for string in strings[:20]:\n",
    "    print(string)"
   ]
  },
  {
   "cell_type": "markdown",
   "metadata": {},
   "source": [
    "## Sentiment Analysis\n",
    "\n",
    "When we talk about understanding natural language, we often focus on 'who did what to whom'. Yet in many situations, we are more interested in attitudes and opinions. When someone writes about a movie, did they like it or hate it? Is a product review for a water bottle on Amazon positive or negative? Is a Tweet about the US President supportive\n",
    "or critical? We might also care about the intensity of the views expressed: \"this is a fine movie\" is different from \"WOW! This movie is soooooo great!!!!\" even though both are positive.\n",
    "\n",
    "*Sentiment analysis* (or *opinion mining*) is a broad term for a range of techniques that try to identify the subjective views expressed in texts. Many organisations care deeply about public opinion &mdash; whether these concern commercial products, creative works, or political parties and policies &mdash; and have consequently turned to sentiment analysis as a way of gleaning valuable insights from voluminous bodies of online text. This in turn has stimulated much activity in the area, ranging from academic research to commercial applications and industry-focussed conferences.\n",
    "\n",
    "However, it's worth saying at the outset that sentiment analysis is hard. Although it is designed to work with written text, the way in which people express their feelings is often goes far beyond what they literally say. In spoken language, intonation will be important. And of course we often express emotion using no words at all, as illustrated in this picture from Darwin's book *The Expression of the Emotions*.\n",
    "\n",
    "<a title=\"By Charles Darwin (author of volume); unknown photographer of plate [Public domain], via Wikimedia Commons\" href=\"https://commons.wikimedia.org/wiki/File%3APlate_depicting_emotions_of_grief_from_Charles_Darwin's_book_The_Expression_of_the_Emotions.jpg\"><img align=\"center\" width=\"512\" alt=\"Plate depicting emotions of grief from Charles Darwin&'s book The Expression of the Emotions\" src=\"https://upload.wikimedia.org/wikipedia/commons/thumb/0/0c/Plate_depicting_emotions_of_grief_from_Charles_Darwin%27s_book_The_Expression_of_the_Emotions.jpg/512px-Plate_depicting_emotions_of_grief_from_Charles_Darwin%27s_book_The_Expression_of_the_Emotions.jpg\"/></a>"
   ]
  },
  {
   "cell_type": "markdown",
   "metadata": {},
   "source": [
    "## Classifying sentences\n",
    "\n",
    "Let's say that we want to classify a sentence into one of three categories: **positive**, **negative** or\n",
    "**neutral**. Each of these can be illustrated by posts on Twitter collected during the UK General Election in 2015.\n",
    "\n",
    "<dl>\n",
    "<dt>positive:</dt>\n",
    "<dd><i>Good stuff from Clegg. Clear, passionate & honest about the difficulties of govt but also the difference @LibDems have made.</i></dd>\n",
    "\n",
    "<dt>negative:</dt> \n",
    "<dd><i>Hmm. Ed Miliband being against SNP is a bad move  I think. It'll cost him n it is a dumb choice.</i></dd>\n",
    "\n",
    "<dt>neutral:</dt> \n",
    "<dd><i>Why is Ed Milliband trending when him name is Ed Miliband?</i></dd>\n",
    "</dl>\n",
    "\n",
    "The term **polarity** is often used to refer to whether a piece of text is judged to be positive or negative.\n",
    "\n",
    "The easiest approach to classifying examples like these is to get hold of two lists of words, positive ones such as *good*, *excellent*, *fine*, *triumph*, *well*, *succeed*, ... and negative ones such as *bad*, *poor*, *dismal*,\n",
    "*lying*, *fail*, *disaster*, .... We figure out an overall polarity score based on the ratio of positive tokens to negative ones in a given string. A sentence with neither positive or negative tokens (or possibly an equal number of each) will be categorised as neutral. This simple approach is likely to yield the roughly correct results for the Twitter examples above.\n",
    "\n",
    "Things become more complicated when negation enter into the picture. The next example is mildly positive (at least in British English), so we need to ensure that *not* reverses the polarity of *bad* in appropriate contexts,\n",
    "\n",
    "<i>Given Miliband personal ratings still 20 points behind Cameron, I'd say that not a bad margin for Labour leader  https://t.co/ILQP93VYLF</i>"
   ]
  },
  {
   "cell_type": "markdown",
   "metadata": {},
   "source": [
    "## Classifying Tweets with VADER\n",
    "\n",
    "[VADER](http://comp.social.gatech.edu/papers/icwsm14.vader.hutto.pdf) is a system for determining the sentiment of texts which has been incorporated into NLTK. It is based on the idea of looking for positive and negative words, but adds to important new elements. First, it uses a lexicon of 7,500 items which have been manually annotated for both polarity and intensity. Second, the overall score for an input text is computed by using a complex set of rules that take into account not just words (and negation), but also the boosting effect of devices like capitalisation and punctuation."
   ]
  },
  {
   "cell_type": "code",
   "execution_count": 69,
   "metadata": {
    "collapsed": true
   },
   "outputs": [],
   "source": [
    "from nltk.sentiment import SentimentIntensityAnalyzer\n",
    "sia = SentimentIntensityAnalyzer()"
   ]
  },
  {
   "cell_type": "code",
   "execution_count": 80,
   "metadata": {
    "collapsed": false
   },
   "outputs": [
    {
     "data": {
      "text/plain": [
       "{'compound': 0.8755, 'neg': 0.0, 'neu': 0.182, 'pos': 0.818}"
      ]
     },
     "execution_count": 80,
     "metadata": {},
     "output_type": "execute_result"
    }
   ],
   "source": [
    "sia.polarity_scores(\"I REALLY adore Starwars!!!!! :-)\")"
   ]
  },
  {
   "cell_type": "code",
   "execution_count": 6,
   "metadata": {
    "collapsed": false
   },
   "outputs": [],
   "source": [
    "full_tweets = twitter_samples.docs('tweets.20150430-223406.json')"
   ]
  },
  {
   "cell_type": "markdown",
   "metadata": {},
   "source": [
    "In the next example, we are going to create a table of Tweets using the [pandas](http://pandas.pydata.org) library. We will use the term `data` to refer to this table "
   ]
  },
  {
   "cell_type": "code",
   "execution_count": 105,
   "metadata": {
    "collapsed": false
   },
   "outputs": [],
   "source": [
    "import pandas as pd\n",
    "from numpy import nan\n",
    "data = pd.DataFrame()\n",
    "data['text'] = [t['text'] for t in full_tweets] # add a column corresponding to the text of each Tweet"
   ]
  },
  {
   "cell_type": "markdown",
   "metadata": {},
   "source": [
    "Next, we will try to add labels for political parties and party leaders in a way that corresponds to the text of the Tweets. However, in some cases, it may not be possible or appropriate to add a label and instead we want to have a 'blank cell' that will be ignored by pandas. We'll do this by inserting a value `NaN` (Not a Number)."
   ]
  },
  {
   "cell_type": "code",
   "execution_count": 108,
   "metadata": {
    "collapsed": false
   },
   "outputs": [
    {
     "data": {
      "text/html": [
       "<div>\n",
       "<table border=\"1\" class=\"dataframe\">\n",
       "  <thead>\n",
       "    <tr style=\"text-align: right;\">\n",
       "      <th></th>\n",
       "      <th>text</th>\n",
       "      <th>party</th>\n",
       "      <th>leader</th>\n",
       "    </tr>\n",
       "  </thead>\n",
       "  <tbody>\n",
       "    <tr>\n",
       "      <th>0</th>\n",
       "      <td>RT @KirkKus: Indirect cost of the UK being in ...</td>\n",
       "      <td>ukip</td>\n",
       "      <td>NaN</td>\n",
       "    </tr>\n",
       "    <tr>\n",
       "      <th>1</th>\n",
       "      <td>VIDEO: Sturgeon on post-election deals http://...</td>\n",
       "      <td>NaN</td>\n",
       "      <td>sturgeon</td>\n",
       "    </tr>\n",
       "    <tr>\n",
       "      <th>2</th>\n",
       "      <td>RT @LabourEoin: The economy was growing 3 time...</td>\n",
       "      <td>NaN</td>\n",
       "      <td>cameron</td>\n",
       "    </tr>\n",
       "    <tr>\n",
       "      <th>3</th>\n",
       "      <td>RT @GregLauder: the UKIP east lothian candidat...</td>\n",
       "      <td>ukip</td>\n",
       "      <td>NaN</td>\n",
       "    </tr>\n",
       "    <tr>\n",
       "      <th>4</th>\n",
       "      <td>RT @thesundaypeople: UKIP's housing spokesman ...</td>\n",
       "      <td>ukip</td>\n",
       "      <td>NaN</td>\n",
       "    </tr>\n",
       "    <tr>\n",
       "      <th>5</th>\n",
       "      <td>RT @Nigel_Farage: Make sure you tune in to #As...</td>\n",
       "      <td>ukip</td>\n",
       "      <td>farage</td>\n",
       "    </tr>\n",
       "    <tr>\n",
       "      <th>6</th>\n",
       "      <td>RT @joannetallis: Ed Milliband is an embarrass...</td>\n",
       "      <td>conservative</td>\n",
       "      <td>miliband</td>\n",
       "    </tr>\n",
       "    <tr>\n",
       "      <th>7</th>\n",
       "      <td>RT @abstex: The FT is backing the Tories. On a...</td>\n",
       "      <td>conservative</td>\n",
       "      <td>NaN</td>\n",
       "    </tr>\n",
       "    <tr>\n",
       "      <th>8</th>\n",
       "      <td>RT @NivenJ1: “@George_Osborne: Ed Miliband pro...</td>\n",
       "      <td>NaN</td>\n",
       "      <td>miliband</td>\n",
       "    </tr>\n",
       "    <tr>\n",
       "      <th>9</th>\n",
       "      <td>LOLZ to Trickle Down Wealth. It's never trickl...</td>\n",
       "      <td>NaN</td>\n",
       "      <td>NaN</td>\n",
       "    </tr>\n",
       "    <tr>\n",
       "      <th>10</th>\n",
       "      <td>SNP leader faces audience questions http://t.c...</td>\n",
       "      <td>snp</td>\n",
       "      <td>NaN</td>\n",
       "    </tr>\n",
       "    <tr>\n",
       "      <th>11</th>\n",
       "      <td>RT @cononeilluk: Cameron \"Ed Milliband hanging...</td>\n",
       "      <td>NaN</td>\n",
       "      <td>miliband</td>\n",
       "    </tr>\n",
       "    <tr>\n",
       "      <th>12</th>\n",
       "      <td>RT @politicshome: Ed Miliband: Last Labour gov...</td>\n",
       "      <td>labour</td>\n",
       "      <td>miliband</td>\n",
       "    </tr>\n",
       "    <tr>\n",
       "      <th>13</th>\n",
       "      <td>If Miliband is refusing to do any deal with th...</td>\n",
       "      <td>snp</td>\n",
       "      <td>miliband</td>\n",
       "    </tr>\n",
       "    <tr>\n",
       "      <th>14</th>\n",
       "      <td>RT @scotnotbritt: Well thats it. LABOUR would ...</td>\n",
       "      <td>labour</td>\n",
       "      <td>NaN</td>\n",
       "    </tr>\n",
       "    <tr>\n",
       "      <th>15</th>\n",
       "      <td>Cameron wins last TV contest of election campa...</td>\n",
       "      <td>NaN</td>\n",
       "      <td>cameron</td>\n",
       "    </tr>\n",
       "    <tr>\n",
       "      <th>16</th>\n",
       "      <td>RT @stephen501: @dunleavy138 @CrillyBobc @theS...</td>\n",
       "      <td>labour</td>\n",
       "      <td>miliband</td>\n",
       "    </tr>\n",
       "    <tr>\n",
       "      <th>17</th>\n",
       "      <td>How dare @EdMiliband_MP force Socialists to ch...</td>\n",
       "      <td>snp</td>\n",
       "      <td>NaN</td>\n",
       "    </tr>\n",
       "    <tr>\n",
       "      <th>18</th>\n",
       "      <td>Watch: Ed Miliband trips off the stage followi...</td>\n",
       "      <td>NaN</td>\n",
       "      <td>miliband</td>\n",
       "    </tr>\n",
       "    <tr>\n",
       "      <th>19</th>\n",
       "      <td>RT @abstex: The FT is backing the Tories. On a...</td>\n",
       "      <td>conservative</td>\n",
       "      <td>NaN</td>\n",
       "    </tr>\n",
       "    <tr>\n",
       "      <th>20</th>\n",
       "      <td>@B0MBSKARE the anti-Scottish feeling is largel...</td>\n",
       "      <td>snp</td>\n",
       "      <td>NaN</td>\n",
       "    </tr>\n",
       "    <tr>\n",
       "      <th>21</th>\n",
       "      <td>Miliband stumbles, Cameron dodges http://t.co/...</td>\n",
       "      <td>NaN</td>\n",
       "      <td>miliband</td>\n",
       "    </tr>\n",
       "    <tr>\n",
       "      <th>22</th>\n",
       "      <td>Miliband - I'd pass on PM job rather than do d...</td>\n",
       "      <td>labour</td>\n",
       "      <td>miliband</td>\n",
       "    </tr>\n",
       "    <tr>\n",
       "      <th>23</th>\n",
       "      <td>RT @GloriaDePiero: Nick Clegg is just as respo...</td>\n",
       "      <td>conservative</td>\n",
       "      <td>clegg</td>\n",
       "    </tr>\n",
       "    <tr>\n",
       "      <th>24</th>\n",
       "      <td>RT @mykilmarnock: Will the person who dropped ...</td>\n",
       "      <td>snp</td>\n",
       "      <td>NaN</td>\n",
       "    </tr>\n",
       "  </tbody>\n",
       "</table>\n",
       "</div>"
      ],
      "text/plain": [
       "                                                 text         party    leader\n",
       "0   RT @KirkKus: Indirect cost of the UK being in ...          ukip       NaN\n",
       "1   VIDEO: Sturgeon on post-election deals http://...           NaN  sturgeon\n",
       "2   RT @LabourEoin: The economy was growing 3 time...           NaN   cameron\n",
       "3   RT @GregLauder: the UKIP east lothian candidat...          ukip       NaN\n",
       "4   RT @thesundaypeople: UKIP's housing spokesman ...          ukip       NaN\n",
       "5   RT @Nigel_Farage: Make sure you tune in to #As...          ukip    farage\n",
       "6   RT @joannetallis: Ed Milliband is an embarrass...  conservative  miliband\n",
       "7   RT @abstex: The FT is backing the Tories. On a...  conservative       NaN\n",
       "8   RT @NivenJ1: “@George_Osborne: Ed Miliband pro...           NaN  miliband\n",
       "9   LOLZ to Trickle Down Wealth. It's never trickl...           NaN       NaN\n",
       "10  SNP leader faces audience questions http://t.c...           snp       NaN\n",
       "11  RT @cononeilluk: Cameron \"Ed Milliband hanging...           NaN  miliband\n",
       "12  RT @politicshome: Ed Miliband: Last Labour gov...        labour  miliband\n",
       "13  If Miliband is refusing to do any deal with th...           snp  miliband\n",
       "14  RT @scotnotbritt: Well thats it. LABOUR would ...        labour       NaN\n",
       "15  Cameron wins last TV contest of election campa...           NaN   cameron\n",
       "16  RT @stephen501: @dunleavy138 @CrillyBobc @theS...        labour  miliband\n",
       "17  How dare @EdMiliband_MP force Socialists to ch...           snp       NaN\n",
       "18  Watch: Ed Miliband trips off the stage followi...           NaN  miliband\n",
       "19  RT @abstex: The FT is backing the Tories. On a...  conservative       NaN\n",
       "20  @B0MBSKARE the anti-Scottish feeling is largel...           snp       NaN\n",
       "21  Miliband stumbles, Cameron dodges http://t.co/...           NaN  miliband\n",
       "22  Miliband - I'd pass on PM job rather than do d...        labour  miliband\n",
       "23  RT @GloriaDePiero: Nick Clegg is just as respo...  conservative     clegg\n",
       "24  RT @mykilmarnock: Will the person who dropped ...           snp       NaN"
      ]
     },
     "execution_count": 108,
     "metadata": {},
     "output_type": "execute_result"
    }
   ],
   "source": [
    "parties = {}\n",
    "parties['conservative'] = set(['osborne', 'portillo', 'pickles', 'tory', 'tories',\n",
    "                                'torie', 'voteconservative', 'conservative', 'conservatives', 'bullingdon', 'telegraph'])\n",
    "parties['labour'] = set(['uklabour', 'scottishlabour', 'labour', 'lab', 'murphy'])\n",
    "parties['libdem'] = set(['libdem', 'libdems', 'dems', 'alexander'])\n",
    "parties['ukip'] = set(['ukip', 'davidcoburnukip'])\n",
    "parties['snp'] = set(['salmond', 'snp', 'snpwin', 'votesnp', 'snpbecause', 'scotland',\n",
    "                       'scotlands', 'scottish', 'indyref', 'independence', 'celebs4indy'])\n",
    "\n",
    "leaders = {}\n",
    "leaders['cameron'] = set(['cameron', 'david_cameron', 'davidcameron','dave', 'davecamm'])\n",
    "leaders['miliband'] = set(['miliband', 'ed_miliband', 'edmiliband', 'edm', 'milliband', 'ed', 'edforchange', 'edforpm', 'milifandom'])\n",
    "leaders['clegg'] = set(['clegg'])\n",
    "leaders['farage'] = set(['farage', 'nigel_farage', 'nsegel', 'askfarage', 'asknigelfarage', 'asknigelfar'])\n",
    "leaders['sturgeon'] = set(['sturgeon', 'nicola_sturgeon', 'nicolasturgeon', 'nicola'])\n",
    "\n",
    "def tweet_classify(text, keywords):\n",
    "    label = nan\n",
    "    from nltk.tokenize import wordpunct_tokenize\n",
    "    import operator\n",
    "    toks = wordpunct_tokenize(text)\n",
    "    toks_lower = [t.lower() for t in toks]\n",
    "    d = {}\n",
    "    for k in keywords:\n",
    "        d[k] = len(keywords[k] & set(toks_lower))      \n",
    "    best = max(d.items(), key=operator.itemgetter(1))\n",
    "    if best[1] > 0:\n",
    "        label = best[0]\n",
    "    return label\n",
    "\n",
    "\n",
    "data['party'] = [tweet_classify(row['text'], parties) for index, row in data.iterrows()]\n",
    "data['leader'] = [tweet_classify(row['text'], leaders) for index, row in data.iterrows()]\n",
    "data.head(25)"
   ]
  },
  {
   "cell_type": "markdown",
   "metadata": {},
   "source": [
    "To add a sentiment column, we will use the `polarity_scores()` method from VADER that we briefly described earlier. We'll only look at the overall 'compound' polarity score."
   ]
  },
  {
   "cell_type": "code",
   "execution_count": 109,
   "metadata": {
    "collapsed": false
   },
   "outputs": [],
   "source": [
    "data['sentiment'] = [sia.polarity_scores(row['text'])['compound'] for index, row in data.iterrows()]"
   ]
  },
  {
   "cell_type": "code",
   "execution_count": 48,
   "metadata": {
    "collapsed": false
   },
   "outputs": [
    {
     "data": {
      "text/html": [
       "<div>\n",
       "<table border=\"1\" class=\"dataframe\">\n",
       "  <thead>\n",
       "    <tr style=\"text-align: right;\">\n",
       "      <th></th>\n",
       "      <th>sentiment</th>\n",
       "    </tr>\n",
       "  </thead>\n",
       "  <tbody>\n",
       "    <tr>\n",
       "      <th>count</th>\n",
       "      <td>20000.000000</td>\n",
       "    </tr>\n",
       "    <tr>\n",
       "      <th>mean</th>\n",
       "      <td>0.060084</td>\n",
       "    </tr>\n",
       "    <tr>\n",
       "      <th>std</th>\n",
       "      <td>0.415121</td>\n",
       "    </tr>\n",
       "    <tr>\n",
       "      <th>min</th>\n",
       "      <td>-0.982100</td>\n",
       "    </tr>\n",
       "    <tr>\n",
       "      <th>25%</th>\n",
       "      <td>-0.205700</td>\n",
       "    </tr>\n",
       "    <tr>\n",
       "      <th>50%</th>\n",
       "      <td>0.000000</td>\n",
       "    </tr>\n",
       "    <tr>\n",
       "      <th>75%</th>\n",
       "      <td>0.401900</td>\n",
       "    </tr>\n",
       "    <tr>\n",
       "      <th>max</th>\n",
       "      <td>0.957100</td>\n",
       "    </tr>\n",
       "  </tbody>\n",
       "</table>\n",
       "</div>"
      ],
      "text/plain": [
       "          sentiment\n",
       "count  20000.000000\n",
       "mean       0.060084\n",
       "std        0.415121\n",
       "min       -0.982100\n",
       "25%       -0.205700\n",
       "50%        0.000000\n",
       "75%        0.401900\n",
       "max        0.957100"
      ]
     },
     "execution_count": 48,
     "metadata": {},
     "output_type": "execute_result"
    }
   ],
   "source": [
    "data.describe() # summarise the table"
   ]
  },
  {
   "cell_type": "markdown",
   "metadata": {},
   "source": [
    "Let's inspect the 25 most positive Tweets:"
   ]
  },
  {
   "cell_type": "code",
   "execution_count": 57,
   "metadata": {
    "collapsed": false
   },
   "outputs": [
    {
     "data": {
      "text/html": [
       "<div>\n",
       "<table border=\"1\" class=\"dataframe\">\n",
       "  <thead>\n",
       "    <tr style=\"text-align: right;\">\n",
       "      <th></th>\n",
       "      <th>text</th>\n",
       "      <th>party</th>\n",
       "      <th>leader</th>\n",
       "      <th>sentiment</th>\n",
       "    </tr>\n",
       "  </thead>\n",
       "  <tbody>\n",
       "    <tr>\n",
       "      <th>15079</th>\n",
       "      <td>Labours new song :  We love Tories more than S...</td>\n",
       "      <td>conservative</td>\n",
       "      <td>NaN</td>\n",
       "      <td>0.9571</td>\n",
       "    </tr>\n",
       "    <tr>\n",
       "      <th>15598</th>\n",
       "      <td>RT @ScotlandClare: Labours new song :  We love...</td>\n",
       "      <td>conservative</td>\n",
       "      <td>NaN</td>\n",
       "      <td>0.9571</td>\n",
       "    </tr>\n",
       "    <tr>\n",
       "      <th>18720</th>\n",
       "      <td>RT @ScotlandClare: Labours new song :  We love...</td>\n",
       "      <td>conservative</td>\n",
       "      <td>NaN</td>\n",
       "      <td>0.9571</td>\n",
       "    </tr>\n",
       "    <tr>\n",
       "      <th>16339</th>\n",
       "      <td>#bbcqt  Labours new song :  We love Tories mor...</td>\n",
       "      <td>conservative</td>\n",
       "      <td>NaN</td>\n",
       "      <td>0.9571</td>\n",
       "    </tr>\n",
       "    <tr>\n",
       "      <th>15420</th>\n",
       "      <td>RT @ScotlandClare: Labours new song :  We love...</td>\n",
       "      <td>conservative</td>\n",
       "      <td>NaN</td>\n",
       "      <td>0.9571</td>\n",
       "    </tr>\n",
       "    <tr>\n",
       "      <th>19438</th>\n",
       "      <td>RT @ScotlandClare: Labours new song :  We love...</td>\n",
       "      <td>conservative</td>\n",
       "      <td>NaN</td>\n",
       "      <td>0.9571</td>\n",
       "    </tr>\n",
       "    <tr>\n",
       "      <th>15285</th>\n",
       "      <td>RT @ScotlandClare: Labours new song :  We love...</td>\n",
       "      <td>conservative</td>\n",
       "      <td>NaN</td>\n",
       "      <td>0.9571</td>\n",
       "    </tr>\n",
       "    <tr>\n",
       "      <th>18791</th>\n",
       "      <td>RT @ScotlandClare: Labours new song :  We love...</td>\n",
       "      <td>conservative</td>\n",
       "      <td>NaN</td>\n",
       "      <td>0.9571</td>\n",
       "    </tr>\n",
       "    <tr>\n",
       "      <th>15593</th>\n",
       "      <td>@Nigel_Farage @LorraChaplin Excellent job on B...</td>\n",
       "      <td>NaN</td>\n",
       "      <td>farage</td>\n",
       "      <td>0.9413</td>\n",
       "    </tr>\n",
       "    <tr>\n",
       "      <th>4651</th>\n",
       "      <td>Please don't let the Tories win. Please don't ...</td>\n",
       "      <td>conservative</td>\n",
       "      <td>NaN</td>\n",
       "      <td>0.9413</td>\n",
       "    </tr>\n",
       "    <tr>\n",
       "      <th>7494</th>\n",
       "      <td>RT @tonyfernandes: David Cameron was excellent...</td>\n",
       "      <td>NaN</td>\n",
       "      <td>cameron</td>\n",
       "      <td>0.9410</td>\n",
       "    </tr>\n",
       "    <tr>\n",
       "      <th>17131</th>\n",
       "      <td>RT @tonyfernandes: David Cameron was excellent...</td>\n",
       "      <td>NaN</td>\n",
       "      <td>cameron</td>\n",
       "      <td>0.9410</td>\n",
       "    </tr>\n",
       "    <tr>\n",
       "      <th>6489</th>\n",
       "      <td>RT @tonyfernandes: David Cameron was excellent...</td>\n",
       "      <td>NaN</td>\n",
       "      <td>cameron</td>\n",
       "      <td>0.9410</td>\n",
       "    </tr>\n",
       "    <tr>\n",
       "      <th>15031</th>\n",
       "      <td>RT @Always_a_Yes: Love to play Poker with Ed M...</td>\n",
       "      <td>snp</td>\n",
       "      <td>miliband</td>\n",
       "      <td>0.9392</td>\n",
       "    </tr>\n",
       "    <tr>\n",
       "      <th>15413</th>\n",
       "      <td>RT @Always_a_Yes: Love to play Poker with Ed M...</td>\n",
       "      <td>snp</td>\n",
       "      <td>miliband</td>\n",
       "      <td>0.9392</td>\n",
       "    </tr>\n",
       "    <tr>\n",
       "      <th>17847</th>\n",
       "      <td>RT @Always_a_Yes: Love to play Poker with Ed M...</td>\n",
       "      <td>snp</td>\n",
       "      <td>miliband</td>\n",
       "      <td>0.9392</td>\n",
       "    </tr>\n",
       "    <tr>\n",
       "      <th>4812</th>\n",
       "      <td>@BillDudleyNorth @UKIP wow. With good looking ...</td>\n",
       "      <td>ukip</td>\n",
       "      <td>NaN</td>\n",
       "      <td>0.9348</td>\n",
       "    </tr>\n",
       "    <tr>\n",
       "      <th>8791</th>\n",
       "      <td>@kdugdalemsp @Ed_Miliband SHE COULDNAE GIVE A ...</td>\n",
       "      <td>snp</td>\n",
       "      <td>miliband</td>\n",
       "      <td>0.9332</td>\n",
       "    </tr>\n",
       "    <tr>\n",
       "      <th>131</th>\n",
       "      <td>@johnhemming4mp Forgot to copy @jessphillips i...</td>\n",
       "      <td>libdem</td>\n",
       "      <td>NaN</td>\n",
       "      <td>0.9325</td>\n",
       "    </tr>\n",
       "    <tr>\n",
       "      <th>13757</th>\n",
       "      <td>@BBCPolitics @BBCNews people on benefits get b...</td>\n",
       "      <td>conservative</td>\n",
       "      <td>NaN</td>\n",
       "      <td>0.9319</td>\n",
       "    </tr>\n",
       "    <tr>\n",
       "      <th>17691</th>\n",
       "      <td>RT @gavtheukip: #FARAGE DID AMAZINGLY WELL EVE...</td>\n",
       "      <td>NaN</td>\n",
       "      <td>farage</td>\n",
       "      <td>0.9303</td>\n",
       "    </tr>\n",
       "    <tr>\n",
       "      <th>15400</th>\n",
       "      <td>RT @gavtheukip: #FARAGE DID AMAZINGLY WELL EVE...</td>\n",
       "      <td>NaN</td>\n",
       "      <td>farage</td>\n",
       "      <td>0.9303</td>\n",
       "    </tr>\n",
       "    <tr>\n",
       "      <th>10558</th>\n",
       "      <td>RT @CllrJStockton: Very impressive performance...</td>\n",
       "      <td>NaN</td>\n",
       "      <td>miliband</td>\n",
       "      <td>0.9286</td>\n",
       "    </tr>\n",
       "    <tr>\n",
       "      <th>3501</th>\n",
       "      <td>RT @CllrJStockton: Very impressive performance...</td>\n",
       "      <td>NaN</td>\n",
       "      <td>miliband</td>\n",
       "      <td>0.9286</td>\n",
       "    </tr>\n",
       "    <tr>\n",
       "      <th>5583</th>\n",
       "      <td>RT @CllrJStockton: Very impressive performance...</td>\n",
       "      <td>NaN</td>\n",
       "      <td>miliband</td>\n",
       "      <td>0.9286</td>\n",
       "    </tr>\n",
       "  </tbody>\n",
       "</table>\n",
       "</div>"
      ],
      "text/plain": [
       "                                                    text         party  \\\n",
       "15079  Labours new song :  We love Tories more than S...  conservative   \n",
       "15598  RT @ScotlandClare: Labours new song :  We love...  conservative   \n",
       "18720  RT @ScotlandClare: Labours new song :  We love...  conservative   \n",
       "16339  #bbcqt  Labours new song :  We love Tories mor...  conservative   \n",
       "15420  RT @ScotlandClare: Labours new song :  We love...  conservative   \n",
       "19438  RT @ScotlandClare: Labours new song :  We love...  conservative   \n",
       "15285  RT @ScotlandClare: Labours new song :  We love...  conservative   \n",
       "18791  RT @ScotlandClare: Labours new song :  We love...  conservative   \n",
       "15593  @Nigel_Farage @LorraChaplin Excellent job on B...           NaN   \n",
       "4651   Please don't let the Tories win. Please don't ...  conservative   \n",
       "7494   RT @tonyfernandes: David Cameron was excellent...           NaN   \n",
       "17131  RT @tonyfernandes: David Cameron was excellent...           NaN   \n",
       "6489   RT @tonyfernandes: David Cameron was excellent...           NaN   \n",
       "15031  RT @Always_a_Yes: Love to play Poker with Ed M...           snp   \n",
       "15413  RT @Always_a_Yes: Love to play Poker with Ed M...           snp   \n",
       "17847  RT @Always_a_Yes: Love to play Poker with Ed M...           snp   \n",
       "4812   @BillDudleyNorth @UKIP wow. With good looking ...          ukip   \n",
       "8791   @kdugdalemsp @Ed_Miliband SHE COULDNAE GIVE A ...           snp   \n",
       "131    @johnhemming4mp Forgot to copy @jessphillips i...        libdem   \n",
       "13757  @BBCPolitics @BBCNews people on benefits get b...  conservative   \n",
       "17691  RT @gavtheukip: #FARAGE DID AMAZINGLY WELL EVE...           NaN   \n",
       "15400  RT @gavtheukip: #FARAGE DID AMAZINGLY WELL EVE...           NaN   \n",
       "10558  RT @CllrJStockton: Very impressive performance...           NaN   \n",
       "3501   RT @CllrJStockton: Very impressive performance...           NaN   \n",
       "5583   RT @CllrJStockton: Very impressive performance...           NaN   \n",
       "\n",
       "         leader  sentiment  \n",
       "15079       NaN     0.9571  \n",
       "15598       NaN     0.9571  \n",
       "18720       NaN     0.9571  \n",
       "16339       NaN     0.9571  \n",
       "15420       NaN     0.9571  \n",
       "19438       NaN     0.9571  \n",
       "15285       NaN     0.9571  \n",
       "18791       NaN     0.9571  \n",
       "15593    farage     0.9413  \n",
       "4651        NaN     0.9413  \n",
       "7494    cameron     0.9410  \n",
       "17131   cameron     0.9410  \n",
       "6489    cameron     0.9410  \n",
       "15031  miliband     0.9392  \n",
       "15413  miliband     0.9392  \n",
       "17847  miliband     0.9392  \n",
       "4812        NaN     0.9348  \n",
       "8791   miliband     0.9332  \n",
       "131         NaN     0.9325  \n",
       "13757       NaN     0.9319  \n",
       "17691    farage     0.9303  \n",
       "15400    farage     0.9303  \n",
       "10558  miliband     0.9286  \n",
       "3501   miliband     0.9286  \n",
       "5583   miliband     0.9286  "
      ]
     },
     "execution_count": 57,
     "metadata": {},
     "output_type": "execute_result"
    }
   ],
   "source": [
    "data.sort_index(by=\"sentiment\", ascending=False).head(25)"
   ]
  },
  {
   "cell_type": "markdown",
   "metadata": {},
   "source": [
    "Let's print out the text of the Tweet in row 15079."
   ]
  },
  {
   "cell_type": "code",
   "execution_count": 63,
   "metadata": {
    "collapsed": false
   },
   "outputs": [
    {
     "name": "stdout",
     "output_type": "stream",
     "text": [
      "Labours new song :  We love Tories more than Scots..we love Tories more than Scots we love Tories we love Tories...\n"
     ]
    }
   ],
   "source": [
    "print(data.iloc[15079]['text'])"
   ]
  },
  {
   "cell_type": "markdown",
   "metadata": {},
   "source": [
    "Now let's have a peek at the 25 most negative Tweets."
   ]
  },
  {
   "cell_type": "code",
   "execution_count": 110,
   "metadata": {
    "collapsed": false
   },
   "outputs": [
    {
     "data": {
      "text/html": [
       "<div>\n",
       "<table border=\"1\" class=\"dataframe\">\n",
       "  <thead>\n",
       "    <tr style=\"text-align: right;\">\n",
       "      <th></th>\n",
       "      <th>text</th>\n",
       "      <th>party</th>\n",
       "      <th>leader</th>\n",
       "      <th>sentiment</th>\n",
       "    </tr>\n",
       "  </thead>\n",
       "  <tbody>\n",
       "    <tr>\n",
       "      <th>9451</th>\n",
       "      <td>RT @BryonyKimmings: Fuck the Tories\\nFuck the ...</td>\n",
       "      <td>conservative</td>\n",
       "      <td>NaN</td>\n",
       "      <td>-0.9821</td>\n",
       "    </tr>\n",
       "    <tr>\n",
       "      <th>15707</th>\n",
       "      <td>RT @ShabnumMustapha: SNP record on the NHS: cr...</td>\n",
       "      <td>snp</td>\n",
       "      <td>NaN</td>\n",
       "      <td>-0.9538</td>\n",
       "    </tr>\n",
       "    <tr>\n",
       "      <th>16928</th>\n",
       "      <td>RT @ShabnumMustapha: SNP record on the NHS: cr...</td>\n",
       "      <td>snp</td>\n",
       "      <td>NaN</td>\n",
       "      <td>-0.9538</td>\n",
       "    </tr>\n",
       "    <tr>\n",
       "      <th>16765</th>\n",
       "      <td>RT @ShabnumMustapha: SNP record on the NHS: cr...</td>\n",
       "      <td>snp</td>\n",
       "      <td>NaN</td>\n",
       "      <td>-0.9538</td>\n",
       "    </tr>\n",
       "    <tr>\n",
       "      <th>15789</th>\n",
       "      <td>RT @ShabnumMustapha: SNP record on the NHS: cr...</td>\n",
       "      <td>snp</td>\n",
       "      <td>NaN</td>\n",
       "      <td>-0.9538</td>\n",
       "    </tr>\n",
       "    <tr>\n",
       "      <th>14036</th>\n",
       "      <td>RT @karendonaldson2: @guardian @Juliet777777 I...</td>\n",
       "      <td>snp</td>\n",
       "      <td>NaN</td>\n",
       "      <td>-0.9497</td>\n",
       "    </tr>\n",
       "    <tr>\n",
       "      <th>10439</th>\n",
       "      <td>@guardian @Juliet777777 I WILL NOT do a deal w...</td>\n",
       "      <td>snp</td>\n",
       "      <td>NaN</td>\n",
       "      <td>-0.9497</td>\n",
       "    </tr>\n",
       "    <tr>\n",
       "      <th>13836</th>\n",
       "      <td>RT @MariaWNorris: Nigel Farage is so full of b...</td>\n",
       "      <td>NaN</td>\n",
       "      <td>farage</td>\n",
       "      <td>-0.9435</td>\n",
       "    </tr>\n",
       "    <tr>\n",
       "      <th>14587</th>\n",
       "      <td>RT @MariaWNorris: Nigel Farage is so full of b...</td>\n",
       "      <td>NaN</td>\n",
       "      <td>farage</td>\n",
       "      <td>-0.9435</td>\n",
       "    </tr>\n",
       "    <tr>\n",
       "      <th>11431</th>\n",
       "      <td>Nigel Farage is so full of bullshit. Hateful, ...</td>\n",
       "      <td>NaN</td>\n",
       "      <td>farage</td>\n",
       "      <td>-0.9435</td>\n",
       "    </tr>\n",
       "    <tr>\n",
       "      <th>13385</th>\n",
       "      <td>RT @MariaWNorris: Nigel Farage is so full of b...</td>\n",
       "      <td>NaN</td>\n",
       "      <td>farage</td>\n",
       "      <td>-0.9435</td>\n",
       "    </tr>\n",
       "    <tr>\n",
       "      <th>13375</th>\n",
       "      <td>RT @MariaWNorris: Nigel Farage is so full of b...</td>\n",
       "      <td>NaN</td>\n",
       "      <td>farage</td>\n",
       "      <td>-0.9435</td>\n",
       "    </tr>\n",
       "    <tr>\n",
       "      <th>8800</th>\n",
       "      <td>'Vote UKIP, he wants all the foreigners gone' ...</td>\n",
       "      <td>ukip</td>\n",
       "      <td>NaN</td>\n",
       "      <td>-0.9426</td>\n",
       "    </tr>\n",
       "    <tr>\n",
       "      <th>7586</th>\n",
       "      <td>Fuel poverty killed 15,000 people last winter ...</td>\n",
       "      <td>conservative</td>\n",
       "      <td>NaN</td>\n",
       "      <td>-0.9274</td>\n",
       "    </tr>\n",
       "    <tr>\n",
       "      <th>6564</th>\n",
       "      <td>#isitok to think that ed miliband looks like t...</td>\n",
       "      <td>NaN</td>\n",
       "      <td>miliband</td>\n",
       "      <td>-0.9274</td>\n",
       "    </tr>\n",
       "    <tr>\n",
       "      <th>9721</th>\n",
       "      <td>RT @qeensdale: Fuel poverty killed 15,000 peop...</td>\n",
       "      <td>conservative</td>\n",
       "      <td>NaN</td>\n",
       "      <td>-0.9274</td>\n",
       "    </tr>\n",
       "    <tr>\n",
       "      <th>2465</th>\n",
       "      <td>RT @Barnabyspeak: Ever noticed the pushy, aggr...</td>\n",
       "      <td>conservative</td>\n",
       "      <td>NaN</td>\n",
       "      <td>-0.9231</td>\n",
       "    </tr>\n",
       "    <tr>\n",
       "      <th>1803</th>\n",
       "      <td>RT @Barnabyspeak: Ever noticed the pushy, aggr...</td>\n",
       "      <td>conservative</td>\n",
       "      <td>NaN</td>\n",
       "      <td>-0.9231</td>\n",
       "    </tr>\n",
       "    <tr>\n",
       "      <th>1537</th>\n",
       "      <td>RT @Barnabyspeak: Ever noticed the pushy, aggr...</td>\n",
       "      <td>conservative</td>\n",
       "      <td>NaN</td>\n",
       "      <td>-0.9231</td>\n",
       "    </tr>\n",
       "    <tr>\n",
       "      <th>4935</th>\n",
       "      <td>RT @shocker38: There has been a murder, Ed Mil...</td>\n",
       "      <td>labour</td>\n",
       "      <td>miliband</td>\n",
       "      <td>-0.9231</td>\n",
       "    </tr>\n",
       "    <tr>\n",
       "      <th>1433</th>\n",
       "      <td>@paul7day She can bloody stay in Scotland Fuck...</td>\n",
       "      <td>labour</td>\n",
       "      <td>miliband</td>\n",
       "      <td>-0.9231</td>\n",
       "    </tr>\n",
       "    <tr>\n",
       "      <th>5069</th>\n",
       "      <td>RT @Barnabyspeak: Ever noticed the pushy, aggr...</td>\n",
       "      <td>conservative</td>\n",
       "      <td>NaN</td>\n",
       "      <td>-0.9231</td>\n",
       "    </tr>\n",
       "    <tr>\n",
       "      <th>2264</th>\n",
       "      <td>RT @Barnabyspeak: Ever noticed the pushy, aggr...</td>\n",
       "      <td>conservative</td>\n",
       "      <td>NaN</td>\n",
       "      <td>-0.9231</td>\n",
       "    </tr>\n",
       "    <tr>\n",
       "      <th>5822</th>\n",
       "      <td>RT @Barnabyspeak: Ever noticed the pushy, aggr...</td>\n",
       "      <td>conservative</td>\n",
       "      <td>NaN</td>\n",
       "      <td>-0.9231</td>\n",
       "    </tr>\n",
       "    <tr>\n",
       "      <th>5771</th>\n",
       "      <td>…in court over 'threat to behead' #UKIP candid...</td>\n",
       "      <td>ukip</td>\n",
       "      <td>NaN</td>\n",
       "      <td>-0.9231</td>\n",
       "    </tr>\n",
       "  </tbody>\n",
       "</table>\n",
       "</div>"
      ],
      "text/plain": [
       "                                                    text         party  \\\n",
       "9451   RT @BryonyKimmings: Fuck the Tories\\nFuck the ...  conservative   \n",
       "15707  RT @ShabnumMustapha: SNP record on the NHS: cr...           snp   \n",
       "16928  RT @ShabnumMustapha: SNP record on the NHS: cr...           snp   \n",
       "16765  RT @ShabnumMustapha: SNP record on the NHS: cr...           snp   \n",
       "15789  RT @ShabnumMustapha: SNP record on the NHS: cr...           snp   \n",
       "14036  RT @karendonaldson2: @guardian @Juliet777777 I...           snp   \n",
       "10439  @guardian @Juliet777777 I WILL NOT do a deal w...           snp   \n",
       "13836  RT @MariaWNorris: Nigel Farage is so full of b...           NaN   \n",
       "14587  RT @MariaWNorris: Nigel Farage is so full of b...           NaN   \n",
       "11431  Nigel Farage is so full of bullshit. Hateful, ...           NaN   \n",
       "13385  RT @MariaWNorris: Nigel Farage is so full of b...           NaN   \n",
       "13375  RT @MariaWNorris: Nigel Farage is so full of b...           NaN   \n",
       "8800   'Vote UKIP, he wants all the foreigners gone' ...          ukip   \n",
       "7586   Fuel poverty killed 15,000 people last winter ...  conservative   \n",
       "6564   #isitok to think that ed miliband looks like t...           NaN   \n",
       "9721   RT @qeensdale: Fuel poverty killed 15,000 peop...  conservative   \n",
       "2465   RT @Barnabyspeak: Ever noticed the pushy, aggr...  conservative   \n",
       "1803   RT @Barnabyspeak: Ever noticed the pushy, aggr...  conservative   \n",
       "1537   RT @Barnabyspeak: Ever noticed the pushy, aggr...  conservative   \n",
       "4935   RT @shocker38: There has been a murder, Ed Mil...        labour   \n",
       "1433   @paul7day She can bloody stay in Scotland Fuck...        labour   \n",
       "5069   RT @Barnabyspeak: Ever noticed the pushy, aggr...  conservative   \n",
       "2264   RT @Barnabyspeak: Ever noticed the pushy, aggr...  conservative   \n",
       "5822   RT @Barnabyspeak: Ever noticed the pushy, aggr...  conservative   \n",
       "5771   …in court over 'threat to behead' #UKIP candid...          ukip   \n",
       "\n",
       "         leader  sentiment  \n",
       "9451        NaN    -0.9821  \n",
       "15707       NaN    -0.9538  \n",
       "16928       NaN    -0.9538  \n",
       "16765       NaN    -0.9538  \n",
       "15789       NaN    -0.9538  \n",
       "14036       NaN    -0.9497  \n",
       "10439       NaN    -0.9497  \n",
       "13836    farage    -0.9435  \n",
       "14587    farage    -0.9435  \n",
       "11431    farage    -0.9435  \n",
       "13385    farage    -0.9435  \n",
       "13375    farage    -0.9435  \n",
       "8800        NaN    -0.9426  \n",
       "7586        NaN    -0.9274  \n",
       "6564   miliband    -0.9274  \n",
       "9721        NaN    -0.9274  \n",
       "2465        NaN    -0.9231  \n",
       "1803        NaN    -0.9231  \n",
       "1537        NaN    -0.9231  \n",
       "4935   miliband    -0.9231  \n",
       "1433   miliband    -0.9231  \n",
       "5069        NaN    -0.9231  \n",
       "2264        NaN    -0.9231  \n",
       "5822        NaN    -0.9231  \n",
       "5771        NaN    -0.9231  "
      ]
     },
     "execution_count": 110,
     "metadata": {},
     "output_type": "execute_result"
    }
   ],
   "source": [
    "data.sort_index(by=\"sentiment\").head(25)"
   ]
  },
  {
   "cell_type": "markdown",
   "metadata": {},
   "source": [
    "And here is the text of the Tweet at row 5069:"
   ]
  },
  {
   "cell_type": "code",
   "execution_count": 84,
   "metadata": {
    "collapsed": false
   },
   "outputs": [
    {
     "name": "stdout",
     "output_type": "stream",
     "text": [
      "RT @Barnabyspeak: Ever noticed the pushy, aggressive, opinionated, overbearing, uncaring, rude, nasty bastards often turn out to be Tories?\n"
     ]
    }
   ],
   "source": [
    "print(data.iloc[5069]['text'])"
   ]
  },
  {
   "cell_type": "markdown",
   "metadata": {},
   "source": [
    "In the next few examples, we group the Tweets together either by leader or by party, and then look at some summary statistics."
   ]
  },
  {
   "cell_type": "code",
   "execution_count": 34,
   "metadata": {
    "collapsed": false
   },
   "outputs": [
    {
     "data": {
      "text/plain": [
       "leader\n",
       "cameron     0.047176\n",
       "clegg       0.103216\n",
       "farage      0.088027\n",
       "miliband    0.086034\n",
       "sturgeon    0.041670\n",
       "Name: sentiment, dtype: float64"
      ]
     },
     "execution_count": 34,
     "metadata": {},
     "output_type": "execute_result"
    }
   ],
   "source": [
    "grouped_leader = data['sentiment'].groupby(data['leader'])\n",
    "grouped_leader.mean()"
   ]
  },
  {
   "cell_type": "code",
   "execution_count": 30,
   "metadata": {
    "collapsed": false
   },
   "outputs": [
    {
     "data": {
      "text/plain": [
       "party\n",
       "conservative    0.098122\n",
       "labour          0.001554\n",
       "libdem          0.068198\n",
       "snp             0.047162\n",
       "ukip            0.103672\n",
       "Name: sentiment, dtype: float64"
      ]
     },
     "execution_count": 30,
     "metadata": {},
     "output_type": "execute_result"
    }
   ],
   "source": [
    "grouped_party = data['sentiment'].groupby(data['party'])\n",
    "grouped_party.mean()"
   ]
  },
  {
   "cell_type": "code",
   "execution_count": 35,
   "metadata": {
    "collapsed": false
   },
   "outputs": [
    {
     "data": {
      "text/plain": [
       "leader\n",
       "cameron     1472\n",
       "clegg        688\n",
       "farage      3079\n",
       "miliband    7340\n",
       "sturgeon     630\n",
       "Name: sentiment, dtype: int64"
      ]
     },
     "execution_count": 35,
     "metadata": {},
     "output_type": "execute_result"
    }
   ],
   "source": [
    "grouped_leader.count()"
   ]
  },
  {
   "cell_type": "code",
   "execution_count": 36,
   "metadata": {
    "collapsed": false
   },
   "outputs": [
    {
     "data": {
      "text/plain": [
       "party\n",
       "conservative    3130\n",
       "labour          3403\n",
       "libdem            58\n",
       "snp             4100\n",
       "ukip            2768\n",
       "Name: sentiment, dtype: int64"
      ]
     },
     "execution_count": 36,
     "metadata": {},
     "output_type": "execute_result"
    }
   ],
   "source": [
    "grouped_party.count()"
   ]
  },
  {
   "cell_type": "code",
   "execution_count": 86,
   "metadata": {
    "collapsed": false
   },
   "outputs": [
    {
     "data": {
      "text/plain": [
       "party\n",
       "conservative    0.9571\n",
       "labour          0.9285\n",
       "libdem          0.9325\n",
       "snp             0.9392\n",
       "ukip            0.9348\n",
       "Name: sentiment, dtype: float64"
      ]
     },
     "execution_count": 86,
     "metadata": {},
     "output_type": "execute_result"
    }
   ],
   "source": [
    "grouped_party.max()"
   ]
  },
  {
   "cell_type": "code",
   "execution_count": 87,
   "metadata": {
    "collapsed": false
   },
   "outputs": [
    {
     "data": {
      "text/plain": [
       "leader\n",
       "cameron     0.9410\n",
       "clegg       0.9047\n",
       "farage      0.9413\n",
       "miliband    0.9392\n",
       "sturgeon    0.9127\n",
       "Name: sentiment, dtype: float64"
      ]
     },
     "execution_count": 87,
     "metadata": {},
     "output_type": "execute_result"
    }
   ],
   "source": [
    "grouped_leader.max()"
   ]
  },
  {
   "cell_type": "markdown",
   "metadata": {},
   "source": [
    "## Challenges\n",
    "\n",
    "It's not hard to find examples where something close to full natural language understanding is required to determine the correct polarity.\n",
    "\n",
    "* <i>David Cameron doesn't seem to have done too badly until now. Otherwise #milifandom and #cleggers would be attacking him for these bad things.</i> \n",
    "* <i>Even though I don't like UKIP I'm hating them less and less every day, they do actually have very some good policies.</i> "
   ]
  },
  {
   "cell_type": "code",
   "execution_count": 113,
   "metadata": {
    "collapsed": false
   },
   "outputs": [
    {
     "data": {
      "text/plain": [
       "{'compound': -0.8625, 'neg': 0.336, 'neu': 0.664, 'pos': 0.0}"
      ]
     },
     "execution_count": 113,
     "metadata": {},
     "output_type": "execute_result"
    }
   ],
   "source": [
    "sia.polarity_scores(\"David Cameron doesn't seem to have done too badly until now.\" + \n",
    "\"Otherwise #milifandom and #cleggers would be attacking him for these bad things.\")"
   ]
  },
  {
   "cell_type": "markdown",
   "metadata": {},
   "source": [
    "A further challenge in sentiment analysis is deciding the right level of **granularity** for the topic under discussion. Often, we can agree in the overall polarity of a sentence (or even of larger texts) because there is a single dominant topic. But in a list-like construction such as the following, different sentiments are associated with different\n",
    "entities, and there is no sensible way of aggregating this into a combined polarity score for the text as a whole:\n",
    "\n",
    "<i>@hugorifkind Audience - good. Mili - bad. Clegg - a bit sad. Cam - unscathed</i> \n",
    "\n",
    "Finally, as we have already seen,  current approaches to language processing struggle with sarcasm, irony and satire, since these (intentionally) agin lead to polarity reversals.\n",
    "\n",
    "* <i>LOVE being sat on a plane for 4 hours after a 10 hour flight !! Soooo fun !</i> \n",
    "* <i>The wrong spelling of Ed Miliband is trending, but not the correct one. Good job, Britain.</i>"
   ]
  },
  {
   "cell_type": "code",
   "execution_count": null,
   "metadata": {
    "collapsed": true
   },
   "outputs": [],
   "source": []
  }
 ],
 "metadata": {
  "kernelspec": {
   "display_name": "Python 3",
   "language": "python",
   "name": "python3"
  },
  "language_info": {
   "codemirror_mode": {
    "name": "ipython",
    "version": 3
   },
   "file_extension": ".py",
   "mimetype": "text/x-python",
   "name": "python",
   "nbconvert_exporter": "python",
   "pygments_lexer": "ipython3",
   "version": "3.4.3"
  }
 },
 "nbformat": 4,
 "nbformat_minor": 0
}
