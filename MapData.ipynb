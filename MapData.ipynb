{
 "cells": [
  {
   "cell_type": "markdown",
   "metadata": {},
   "source": [
    "# Visualising Data in Maps\n",
    "\n",
    "Another very useful way to visualize data is to plot its location based on a map and maybe color its surroundings given certain information about the data being displayed.\n",
    "\n",
    "## Latitude and Longitude\n",
    "\n",
    "Latitude and longitude are like the x and y coordinates for earth. Unlike most cartesian plots earth is not exactly flat thus we adapt a different system (lattitude and longitude) which allows us to describe the earth more accurately given its elipsoidal shape. Every address, location and point on the planet has a unique lat, long pair which describe its location. Lets give it a go at plotting somethings on a map !"
   ]
  },
  {
   "cell_type": "code",
   "execution_count": 2,
   "metadata": {
    "activity": false,
    "collapsed": false
   },
   "outputs": [],
   "source": [
    "# The map visualisation library we will be using\n",
    "import folium\n",
    "import pandas as pd\n",
    "import json\n",
    "from dds_lab.datasets import hotel, hood\n",
    "from dds_lab.map_render import *"
   ]
  },
  {
   "cell_type": "code",
   "execution_count": 3,
   "metadata": {
    "collapsed": false
   },
   "outputs": [
    {
     "data": {
      "text/html": [
       "<iframe src=\"files/map.html\" style=\"width: 100%; height: 510px; border: none\"></iframe>"
      ],
      "text/plain": [
       "<IPython.core.display.HTML object>"
      ]
     },
     "execution_count": 3,
     "metadata": {},
     "output_type": "execute_result"
    }
   ],
   "source": [
    "allotments_csv = pd.read_csv(hood + \"/allotments.csv\")\n",
    "lat_long = allotments_csv[\"Location\"]\n",
    "\n",
    "# Set up folium map centered in the meadows\n",
    "fmap = folium.Map(location=[55.944, -3.192],zoom_start=12)\n",
    "for i, x in enumerate(lat_long):\n",
    "    lat, long = list(map(float, x.split(\",\")))\n",
    "    # Plot marker with information\n",
    "    fmap.simple_marker([lat, long],\n",
    "                      popup=\"Number of plots: \" + str(allotments_csv[\"Total plots\"][i]))\n",
    "\n",
    "# Click away on the markers and find out how many available places\n",
    "# a given alotment has \n",
    "embed_map(fmap)"
   ]
  },
  {
   "cell_type": "markdown",
   "metadata": {},
   "source": [
    "Now the downside here is that whilst we get to where the allotments can be found in edinburgh and when we click on them we know how many plots an area has we dont get an overall feel of the numebrs without clicking on every marker. This is where a [Choropleth map](https://en.wikipedia.org/wiki/Choropleth_map) can be a usefull visualization.\n",
    "\n",
    "## Choropleth\n",
    "\n",
    "A Choropleth is a map which is colored on a number that changes per area. This may be percentage employed per goverment constituency or number of pupils per school catchment area. In the following snippet we aim to do a Choropleth which is colored based on the number of rooms available per hotel catchement area. The catchment areas of the hotels were estimated with a procedure called [Voronoi Tesselation](https://en.wikipedia.org/wiki/Voronoi_diagram) which estimates which areas are closer to one hotel than another and draws a polygon like boundary for every hotel:"
   ]
  },
  {
   "cell_type": "code",
   "execution_count": 90,
   "metadata": {
    "activity": false,
    "collapsed": false
   },
   "outputs": [
    {
     "name": "stdout",
     "output_type": "stream",
     "text": [
      "<folium.folium.Map object at 0x7f5d0cfe00d0>\n"
     ]
    },
    {
     "data": {
      "text/html": [
       "<iframe src=\"files/map.html\" style=\"width: 100%; height: 510px; border: none\"></iframe>"
      ],
      "text/plain": [
       "<IPython.core.display.HTML object>"
      ]
     },
     "execution_count": 90,
     "metadata": {},
     "output_type": "execute_result"
    }
   ],
   "source": [
    "vor_path = hotel + \"/vor.json\"\n",
    "\n",
    "# Open room data\n",
    "data = pd.read_csv(hotel + \"/hotels.csv\")\n",
    "# Remove hotels (rows) with no information about rooms\n",
    "data = data.dropna(subset=[\"ROOMS\"], how=\"all\")\n",
    "# data = data.fillna(0)\n",
    "# Cast number of rooms to integer\n",
    "data[\"ROOMS\"] = data[\"ROOMS\"].astype(int)\n",
    "\n",
    "# Create map using folium and center view in edinburgh meadows\n",
    "fmap = folium.Map(location=[55.944, -3.192],zoom_start=13)\n",
    "\n",
    "# Plot cloropleth with catchment areas for hotels\n",
    "# The catchment areas were estimated using a voronoi tessalation\n",
    "fmap.geo_json(geo_path='vor.json',\n",
    "              data=data,\n",
    "              columns=[\"HOTEL\", \"ROOMS\"],\n",
    "              key_on=\"feature.id\",\n",
    "              fill_color=\"PuRd\", fill_opacity=0.5, line_opacity=0.4,\n",
    "              legend_name=\"Number of rooms\")\n",
    "\n",
    "# plot centroids\n",
    "hotel_dict = json.loads(open(hotel + \"/hotel.json\",'r').read())[\"features\"]\n",
    "for i, x in enumerate(hotel_dict):\n",
    "    fmap.polygon_marker(x[\"geometry\"][\"coordinates\"][::-1],\n",
    "                       radius=2,\n",
    "                       popup=\"Hotel name:\" + x[\"properties\"][\"hotel\"])\n",
    "\n",
    "\n",
    "embed_map(fmap)"
   ]
  },
  {
   "cell_type": "code",
   "execution_count": null,
   "metadata": {
    "collapsed": true
   },
   "outputs": [],
   "source": []
  }
 ],
 "metadata": {
  "kernelspec": {
   "display_name": "Python 3",
   "language": "python",
   "name": "python3"
  },
  "language_info": {
   "codemirror_mode": {
    "name": "ipython",
    "version": 3
   },
   "file_extension": ".py",
   "mimetype": "text/x-python",
   "name": "python",
   "nbconvert_exporter": "python",
   "pygments_lexer": "ipython3",
   "version": "3.3.2+"
  }
 },
 "nbformat": 4,
 "nbformat_minor": 0
}
