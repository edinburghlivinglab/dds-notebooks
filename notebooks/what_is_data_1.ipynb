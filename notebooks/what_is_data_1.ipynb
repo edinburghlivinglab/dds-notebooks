{
 "cells": [
  {
   "cell_type": "markdown",
   "metadata": {},
   "source": [
    "# What is data? \n",
    "\n",
    "So what *is* data? The term is used in so many ways, it's often hard to pin down what people mean. Here is what [Wikipedia says][data1]:\n",
    "\n",
    "> Data is uninterpreted information.\n",
    "\n",
    "This is somewhat helpful, but also a bit cryptic, since we aren't told what it means to interpret information. Indeed, [it is often suggested](http://www.diffen.com/difference/Data_vs_Information) that an act of interpretation is required to go from data to information:\n",
    "\n",
    "> Data are the facts or details from which information is derived. Individual pieces of data are rarely useful alone. For data to become information, data needs to be put into context.\n",
    "\n",
    "\n",
    "Here's a longer passage about 'raw data' from the Wikipedia [article on data](https://en.wikipedia.org/wiki/Data):\n",
    "\n",
    "> Raw data, i.e. unprocessed data, is a collection of numbers, characters; data processing commonly occurs by stages, and the \"processed data\" from one stage may be considered the \"raw data\" of the next.\n",
    "\n",
    "This is more useful, since it tells us that data can somehow be processed, or transformed into something else. It also points out that what counts as data is relative to the context.\n",
    "\n",
    "Let's try to get a clearer picture by looking at some examples.\n",
    "\n",
    "\n",
    "[data1]: https://en.wikipedia.org/wiki/Data_(disambiguation)\n",
    "\n",
    "## Yesterday I ate tomatoes\n",
    "\n",
    "Suppose I decide to keep a diary about the food I eat. This could be pretty informal, something a bit like this:\n",
    "\n",
    "```\n",
    "Monday\n",
    "------\n",
    "bfast: toast and jam\n",
    "lunch: tomato soup and roll\n",
    "supper: baked beans, sushi, treacle tart\n",
    "\n",
    "Tuesday\n",
    "-------\n",
    "bfast: porridge with soya milk\n",
    "lunch: tomato soup and roll\n",
    "supper: peri-peri chicken, chips, coke\n",
    "\n",
    "```\n",
    "\n",
    "But it's still good enough to count as data about my diet. (Not enough greens?)\n",
    "\n",
    "## I run\n",
    "\n",
    "Here's a slightly different kind of diary, recording my running exploits in the first half of December:\n",
    "\n",
    "```\n",
    "5/12/15 4.5km\n",
    "7/12/15 3.1km\n",
    "12/12/15 8.6km\n",
    "\n",
    "```\n",
    "\n",
    "So here we have data that combines dates and distances.\n",
    "\n",
    "\n",
    "## Just numbers\n",
    "\n",
    "What about this?\n",
    "\n",
    "```\n",
    "23.87\n",
    "19.85\n",
    "19.22\n",
    "28.93\n",
    "29.41\n",
    "22.23\n",
    "23.50\n",
    "24.95\n",
    "```\n",
    "\n",
    "It's just a list of numbers, right? Apart from the fact that the numbers are in a narrow range, it's pretty much impossible to guess what this information is about.\n",
    "\n",
    "Here are the same numbers, but with more information added:\n",
    "\n",
    "```\n",
    "Year   Days of rainfall\n",
    "-----------------------\n",
    "2004        23.87\n",
    "2005        19.85\n",
    "2006        19.22\n",
    "2007        28.93\n",
    "2008        29.41\n",
    "2009        22.23\n",
    "2010        23.50\n",
    "2011        24.95\n",
    "```\n",
    "\n",
    "So now we see that we have got a *time series*: a sequence of data points measured at different times &mdash; in this case, in successive years. The two columns have been given labels which tell us what the time points are, and what kind of quantity has been measured. We could also specify not just *when* but *where* the measurements were taken, namely in Edinburgh.\n",
    "\n",
    "The bits of information which tell us things like dates, location, the kind of quantity etc is sometimes called *metadata*: it's data about data.\n",
    "\n",
    "### Your turn\n",
    "\n",
    "* Find another example of time series data. Find or make-up some data points that are part of the series.\n",
    "\n",
    "* Find another example of simple numerical data which is *not* time series data. What metadata would you need to add to make sure that someone else understands the data?\n",
    "\n",
    "## Turning Tables\n",
    "\n",
    "We often represent data in the form of rows and columns. That's what we mean when we talk about a data table (or tabular data). So the rainfall data above had two columns and eight rows, plus a header row.\n",
    "\n",
    "### Your turn\n",
    "\n",
    "* Write down the food diary example so that it looks like a table. \n",
    "\n",
    "Public bodies collect *lots* of data about all manners of things. More and more, they have been making this available as [open data](https://en.wikipedia.org/wiki/Open_data ) to anyone that wants to use it. Most of the time, the data is provided as some kind of table that we can download over the internet. Here's an example of data about Scottish schools which we've already downloaded for you. We're doing a bit of extra magic to make it easy to display the data, but you can ignore this for the time being."
   ]
  },
  {
   "cell_type": "code",
   "execution_count": 2,
   "metadata": {
    "collapsed": false
   },
   "outputs": [
    {
     "ename": "NameError",
     "evalue": "name 'pd' is not defined",
     "output_type": "error",
     "traceback": [
      "\u001b[0;31m---------------------------------------------------------------------------\u001b[0m",
      "\u001b[0;31mNameError\u001b[0m                                 Traceback (most recent call last)",
      "\u001b[0;32m<ipython-input-2-de150bbe86a3>\u001b[0m in \u001b[0;36m<module>\u001b[0;34m()\u001b[0m\n\u001b[1;32m      1\u001b[0m \u001b[0;32mfrom\u001b[0m \u001b[0mdds_lab\u001b[0m \u001b[0;32mimport\u001b[0m \u001b[0;34m*\u001b[0m\u001b[0;34m\u001b[0m\u001b[0m\n\u001b[1;32m      2\u001b[0m \u001b[0mdir\u001b[0m\u001b[0;34m(\u001b[0m\u001b[0;34m)\u001b[0m\u001b[0;34m\u001b[0m\u001b[0m\n\u001b[0;32m----> 3\u001b[0;31m \u001b[0mschools_csv\u001b[0m \u001b[0;34m=\u001b[0m \u001b[0mpd\u001b[0m\u001b[0;34m.\u001b[0m\u001b[0mread_csv\u001b[0m\u001b[0;34m(\u001b[0m\u001b[0mschools\u001b[0m\u001b[0;34m)\u001b[0m\u001b[0;34m\u001b[0m\u001b[0m\n\u001b[0m\u001b[1;32m      4\u001b[0m \u001b[0mschools_csv\u001b[0m\u001b[0;34m\u001b[0m\u001b[0m\n",
      "\u001b[0;31mNameError\u001b[0m: name 'pd' is not defined"
     ]
    }
   ],
   "source": [
    "from dds_lab import *\n",
    "dir()\n",
    "schools_csv = pd.read_csv(schools)\n",
    "schools_csv"
   ]
  },
  {
   "cell_type": "markdown",
   "metadata": {},
   "source": [
    "Let's just briefly look through this table. The first column is not in fact part of the dataset, but is just there to help us keep track of which row is which. The second column can be ignored for now, but is a standardised way of giving a unique identifier to each school, whose conventional name can be found in the third column. The fifth and sixth columns contain the geographical coordinates of each school; as we'll see later, this is really helpful since it allows us to plot the locations of the schools on a map. Finally, the sixth column shows us the number of pupils.\n",
    "\n",
    "# Survey Data\n",
    "\n",
    "We are often asked to fill in questionnaires, asking our views and feelings about various things. Within Edinburgh, the Council [carries out an extensive survey of residents](http://www.edinburgh.gov.uk/info/20029/have_your_say/921/edinburgh_people_survey):\n",
    "\n",
    "> The Edinburgh People Survey (EPS) is the Council's annual citizen survey, measuring satisfaction with the Council and its services, identifying areas for improvement and gathering information about residents which is not available through other sources or at neighbourhood level.\n",
    "\n",
    "> The survey is undertaken through face-to-face interviews with around 5,000 residents each year, conducted in the street and door-to-door.\n",
    "\n",
    "This data differs from what we've seen so far in being largely *subjective*. Below, we show a tiny extract from the 2013 survey."
   ]
  },
  {
   "cell_type": "code",
   "execution_count": null,
   "metadata": {
    "collapsed": false
   },
   "outputs": [],
   "source": [
    "eps_csv = pd.read_csv(eps_extract)\n",
    "eps_csv"
   ]
  },
  {
   "cell_type": "code",
   "execution_count": null,
   "metadata": {
    "collapsed": false
   },
   "outputs": [],
   "source": [
    "dir()"
   ]
  },
  {
   "cell_type": "code",
   "execution_count": null,
   "metadata": {
    "collapsed": true
   },
   "outputs": [],
   "source": []
  }
 ],
 "metadata": {
  "kernelspec": {
   "display_name": "Python 3",
   "language": "python",
   "name": "python3"
  },
  "language_info": {
   "codemirror_mode": {
    "name": "ipython",
    "version": 3
   },
   "file_extension": ".py",
   "mimetype": "text/x-python",
   "name": "python",
   "nbconvert_exporter": "python",
   "pygments_lexer": "ipython3",
   "version": "3.4.3"
  }
 },
 "nbformat": 4,
 "nbformat_minor": 0
}
