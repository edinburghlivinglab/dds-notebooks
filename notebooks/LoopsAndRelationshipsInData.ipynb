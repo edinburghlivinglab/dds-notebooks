{
 "cells": [
  {
   "cell_type": "markdown",
   "metadata": {},
   "source": [
    "# Iterations and Relationships in Data\n",
    "\n",
    "We have seen in previous tutorials [Playing with python](playing_with_python.ipynb) a bit about sequential data structures such as lists and how we can use them to store a set of numbers, words and other type of object. In this tutorial we will examine how to go through sequential data structures in order to combine their contents to obtain a result.\n",
    "\n",
    "## Loops\n",
    "Loops are statements which allow us to iterate (go through) the elements insice a list. By this I mean say I have the following attendance list for a school\n",
    "\n",
    "```\n",
    "Student   Absence\n",
    "-----------------------\n",
    "John        yes\n",
    "Paul        no\n",
    "Kate        yes\n",
    "Catriona    yes\n",
    "Peter       no\n",
    "Alex        yes\n",
    "Jordan      no\n",
    "William     yes\n",
    "```\n",
    "And I want to find out the percentage of students absent for the record given above. To do that I have to scan through the list and count the number of \"no's\" out of the total number of students. The process of scanning through the list is a form of looping. In this example we have 3 out of 8 students absent.\n",
    "\n",
    "### For Loops\n",
    "These are the most simple and used type of loops. They have a general structure of:\n",
    "```python\n",
    "# loop statement:\n",
    "for element in list_of_elements:\n",
    "    # Loop body (things done to the element like counting the\n",
    "    # no's happen here\n",
    "```\n",
    "\n",
    "The idea is that they pull out every element in a list of elements in our example above (the table of students) the first iteration of the loop would pull out `John, yes` the third iteration would pull out `Kate, yes` and the sixth iteration would pull out ?"
   ]
  },
  {
   "cell_type": "code",
   "execution_count": 1,
   "metadata": {
    "collapsed": false
   },
   "outputs": [
    {
     "name": "stdout",
     "output_type": "stream",
     "text": [
      "Monday\n",
      "Tuesday\n",
      "Wednesday\n",
      "Thursday\n",
      "Friday\n",
      "Saturday\n",
      "Sunday\n"
     ]
    }
   ],
   "source": [
    "days_of_the_week = [\"Monday\", \"Tuesday\", \"Wednesday\", \"Thursday\", \"Friday\", \"Saturday\", \"Sunday\"]\n",
    "# This is a for loop\n",
    "for day in days_of_the_week:\n",
    "    print(day)"
   ]
  },
  {
   "cell_type": "code",
   "execution_count": 2,
   "metadata": {
    "collapsed": false
   },
   "outputs": [
    {
     "name": "stdout",
     "output_type": "stream",
     "text": [
      "0 Monday\n",
      "1 Tuesday\n",
      "2 Wednesday\n",
      "3 Thursday\n",
      "4 Friday\n",
      "5 Saturday\n",
      "6 Sunday\n",
      "\n",
      "enumerate(days_of_the_week): \n",
      "\t[(0, 'Monday'), (1, 'Tuesday'), (2, 'Wednesday'), (3, 'Thursday'), (4, 'Friday'), (5, 'Saturday'), (6, 'Sunday')]\n"
     ]
    }
   ],
   "source": [
    "# If we would like to know the place(index) the element\n",
    "# has in the list we can modify our for loop slighty\n",
    "for index, day in enumerate(days_of_the_week):\n",
    "    print(index, day)\n",
    "\n",
    "# What enumerate does\n",
    "print(\"\\nenumerate(days_of_the_week): \\n\\t\" + str(list(enumerate(days_of_the_week))))\n",
    "# Enumerate gives you a list of tuples which the for loop statement\n",
    "# can split using the syntactic sugar we used above for element1, element 2 in list_of_tuples"
   ]
  },
  {
   "cell_type": "code",
   "execution_count": 3,
   "metadata": {
    "collapsed": false
   },
   "outputs": [
    {
     "name": "stdout",
     "output_type": "stream",
     "text": [
      "True\n"
     ]
    }
   ],
   "source": [
    "# List of ages in a DDS tutorial\n",
    "age_list = [18, 17, 30, 20, 22]\n",
    "# This is a function declaration\n",
    "def my_sum(list_of_numbers):\n",
    "    # This is the body of the function\n",
    "    output_sum = 0\n",
    "    for number in list_of_numbers:\n",
    "        # updates output sum:\n",
    "        output_sum = output_sum + number\n",
    "        # alternatively:\n",
    "        # output += number\n",
    "    return output_sum\n",
    "\n",
    "# Test that my_sum works correctly:\n",
    "assert(my_sum(age_list) == sum(age_list))\n",
    "print(my_sum(age_list) == sum(age_list))"
   ]
  },
  {
   "cell_type": "markdown",
   "metadata": {},
   "source": [
    "#### Your Turn:\n",
    "\n",
    "* Fill in the body of the  script and function bellow in order to automate the process of finding the number of students which are absent."
   ]
  },
  {
   "cell_type": "code",
   "execution_count": 4,
   "metadata": {
    "collapsed": false
   },
   "outputs": [],
   "source": [
    "# Find a way way of representing this table suitably in python\n",
    "# Hint : a list of something....\n",
    "student_absence_table = []\n",
    "def count_absent_students(list_of_students):\n",
    "    # think of how this was used in my_sum\n",
    "    number_of_absence = 0\n",
    "    for student, status in list_of_students:\n",
    "        # check if status is yes or no ?\n",
    "        # how would you check this ?\n",
    "        pass\n",
    "    return number_of_absence\n",
    "    "
   ]
  },
  {
   "cell_type": "markdown",
   "metadata": {},
   "source": [
    "### While loops\n",
    "\n",
    "Another very popular way of looping which has the following structure:\n",
    "\n",
    "```python\n",
    "# loop statement:\n",
    "condition = True\n",
    "while(condition):\n",
    "    # Loop body (things done to the element like counting the\n",
    "    # no's happen here\n",
    "    # condition may be updated in body\n",
    "```\n",
    "\n",
    "The idea is that the body of the loop keeps getting executed untill the condition turns false. Lets rewrite sum using a while loop:"
   ]
  },
  {
   "cell_type": "code",
   "execution_count": 5,
   "metadata": {
    "collapsed": false
   },
   "outputs": [
    {
     "name": "stdout",
     "output_type": "stream",
     "text": [
      "True\n"
     ]
    }
   ],
   "source": [
    "# List of ages in a DDS tutorial\n",
    "age_list = [18, 17, 30, 20, 22]\n",
    "# This is a function declaration\n",
    "def my_while_sum(list_of_numbers):\n",
    "    # This is the body of the function\n",
    "    copy_of_list = list(list_of_numbers)\n",
    "    output_sum = 0\n",
    "    # Checks that the list of numbers is not empty\n",
    "    while(len(copy_of_list) > 0):\n",
    "        # some_list.pop() pops out an element form some_list\n",
    "        # reducing its size by 1 each time\n",
    "        # updates output sum:\n",
    "        output_sum = output_sum + copy_of_list.pop()\n",
    "        # alternatively:\n",
    "        # output += list_of_numbers.pop()\n",
    "    return output_sum\n",
    "\n",
    "# Test that my_sum works correctly:\n",
    "assert(my_while_sum(age_list) == sum(age_list))\n",
    "print(my_while_sum(age_list) == sum(age_list))"
   ]
  },
  {
   "cell_type": "markdown",
   "metadata": {},
   "source": [
    "## Relationships in Data\n",
    "\n",
    "Lets say I want to represent the tutoring structure of this course in some form of table:\n",
    "```\n",
    "Member   Information   Tutors Directly\n",
    "---------------------------------------\n",
    "Ewan        Lecturer   Gavin, Francisco\n",
    "Gavin       TA         Kate, Paul\n",
    "Francisco   TA         John, Catriona\n",
    "John        Student    \n",
    "Catriona    Student    William, Jordan\n",
    "Kate        Student \n",
    "Paul        Student\n",
    "William     Student\n",
    "Jordan      Student\n",
    "```\n",
    "\n",
    "William and Jordan joined the course late so they are getting more direct help from Catriona through the Universities P@LS scheeme in order to catch up.\n",
    "\n",
    "It is quite clear that there is a hierarchichal structure in this table yet the table representation does not allow us to make much out of the strucutre. There are also relationships in the data members of the DDS course who are directly linked to each other yet this is not so easy to see when looking at this table.\n",
    "\n",
    "Instead of a table a network like structure with nodes(vertices or dots) can be used to represent the students and edges in between the nodes to represent their direct connection. This kind of network diagram is called a [graph](https://en.wikipedia.org/wiki/Graph_%28mathematics%29) (dont confuse with a [cartesian plot](https://en.wikipedia.org/wiki/Cartesian_coordinate_system)). For this data set we will be dealing with a special type of graph that is very important in computer science called a [binary tree](https://en.wikipedia.org/wiki/Binary_tree). We will be representing our binary trees with a data structure used to represent graphs called an adjecency list (since it is more or less the same as our table):\n",
    "\n",
    "```\n",
    "Member(Nodes)      Tutors Directly (Connected to)\n",
    "---------------------------------------------------\n",
    "Ewan               Gavin, Francisco\n",
    "Gavin              Kate, Paul\n",
    "Francisco          John, Catriona    \n",
    "Catriona           William, Jordan\n",
    "```\n",
    "\n",
    "NOTE: This is not the best way of representing binary trees but that is out of the scope of the course. You may visit the wikipedia page for binary trees if you want some additional information as to how to encode them.\n",
    "We can do this in python using a dictionary lets have a look at what the tree for this table looks like:\n"
   ]
  },
  {
   "cell_type": "code",
   "execution_count": 6,
   "metadata": {
    "collapsed": false
   },
   "outputs": [
    {
     "ename": "ImportError",
     "evalue": "No module named 'dds_lab'",
     "output_type": "error",
     "traceback": [
      "\u001b[0;31m---------------------------------------------------------------------------\u001b[0m",
      "\u001b[0;31mImportError\u001b[0m                               Traceback (most recent call last)",
      "\u001b[0;32m<ipython-input-6-aa886e0412ad>\u001b[0m in \u001b[0;36m<module>\u001b[0;34m()\u001b[0m\n\u001b[1;32m      1\u001b[0m \u001b[0;31m# Tree support functions\u001b[0m\u001b[0;34m\u001b[0m\u001b[0;34m\u001b[0m\u001b[0m\n\u001b[0;32m----> 2\u001b[0;31m \u001b[0;32mfrom\u001b[0m \u001b[0mdds_lab\u001b[0m\u001b[0;34m.\u001b[0m\u001b[0mgraphdat\u001b[0m \u001b[0;32mimport\u001b[0m \u001b[0;34m*\u001b[0m\u001b[0;34m\u001b[0m\u001b[0m\n\u001b[0m\u001b[1;32m      3\u001b[0m \u001b[0;31m# Graphing facilities\u001b[0m\u001b[0;34m\u001b[0m\u001b[0;34m\u001b[0m\u001b[0m\n\u001b[1;32m      4\u001b[0m \u001b[0;32mfrom\u001b[0m \u001b[0mbokeh\u001b[0m\u001b[0;34m.\u001b[0m\u001b[0mio\u001b[0m \u001b[0;32mimport\u001b[0m \u001b[0moutput_notebook\u001b[0m\u001b[0;34m\u001b[0m\u001b[0m\n\u001b[1;32m      5\u001b[0m \u001b[0;32mfrom\u001b[0m \u001b[0mbokeh\u001b[0m\u001b[0;34m.\u001b[0m\u001b[0mplotting\u001b[0m \u001b[0;32mimport\u001b[0m \u001b[0mshow\u001b[0m\u001b[0;34m\u001b[0m\u001b[0m\n",
      "\u001b[0;31mImportError\u001b[0m: No module named 'dds_lab'"
     ]
    }
   ],
   "source": [
    "# Tree support functions\n",
    "from dds_lab.graphdat import *\n",
    "# Graphing facilities\n",
    "from bokeh.io import output_notebook\n",
    "from bokeh.plotting import show\n",
    "output_notebook()"
   ]
  },
  {
   "cell_type": "code",
   "execution_count": null,
   "metadata": {
    "collapsed": false
   },
   "outputs": [],
   "source": [
    "names = [\"Ewan\", \"Francisco\", \"Gavin\", \"John\", \"Catriona\", \"Kate\", \"Paul\", \"William\", \"Jordan\"]\n",
    "info = [\"Lecturer\", \"TA\", \"TA\", \"Student\", \"Student\", \"Student\", \"Student\", \"Student\", \"Student\"]\n",
    "# the adjecency list is more or less exactly the same as our table without the information collumn:\n",
    "adjecency_list = {\"EK\": [\"FV\", \"GG\"],\n",
    "                  \"FV\": [\"S3\", \"S4\"],\n",
    "                  \"GG\": [\"S1\", \"S2\"],\n",
    "                  \"S4\": [\"S5\",\"S6\"]}\n",
    "\n",
    "#Generate tree plot\n",
    "fig, ad_list = get_tree_plot(adjecency_list,\n",
    "                            names=names,\n",
    "                            info=info,\n",
    "                            title=\"DDS Help Tree\")\n",
    "show(fig)"
   ]
  },
  {
   "cell_type": "markdown",
   "metadata": {
    "collapsed": false
   },
   "source": [
    "#### Now You Try\n",
    "\n",
    "* For the tree diagrame bellow fill in the adjecency list like table:\n",
    "\n",
    "```\n",
    "Nodes      Adjecent to\n",
    "------------------------\n",
    "\n",
    "```\n",
    "\n",
    "* Convert this tabel to the python adjecency list data structre.\n",
    "* [Optional\\Advance] Using a for loop travel down from EK to S3 in the DDS tree\n",
    "\n",
    "For more information on parse trees check [here](https://en.wikipedia.org/wiki/Parse_tree)\n"
   ]
  },
  {
   "cell_type": "code",
   "execution_count": null,
   "metadata": {
    "collapsed": false
   },
   "outputs": [],
   "source": [
    "show(adjacency_list_exercise())"
   ]
  },
  {
   "cell_type": "code",
   "execution_count": null,
   "metadata": {
    "collapsed": false
   },
   "outputs": [],
   "source": [
    "# Fill in:\n",
    "adjacency_list2 = {}\n",
    "names = [\"Sentence\",\n",
    "         \"Noun phrase\",\n",
    "         \"Verb phrase\",\n",
    "         \"Verb\",\n",
    "         \"Noun phrase\",\n",
    "         \"Delimiter\",\n",
    "         \"Noun\"]\n",
    "inf = [\"John hit the ball\",\n",
    "       \"John\",\n",
    "       \"hit the ball\",\n",
    "       \"hit\",\n",
    "       \"the ball\",\n",
    "       \"the\",\n",
    "       \"ball\"]\n",
    "# This is what your attempt will look like (second plot titled your attempt)\n",
    "show(get_tree_plot(adjecency_list2,\n",
    "                   names=names,\n",
    "                   info=inf,\n",
    "                   title=\"Your attempt\")[0])"
   ]
  },
  {
   "cell_type": "code",
   "execution_count": null,
   "metadata": {
    "collapsed": false
   },
   "outputs": [],
   "source": [
    "# Reminder:\n",
    "print(\"Adjecency list: \" + str(adjecency_list))\n",
    "root = 'EK'\n",
    "current_level = [root]\n",
    "# While there are still children\n",
    "while(len(current_level) != 0):\n",
    "    # Hints :\n",
    "    print(\"Current node: \" + str(current_level))\n",
    "    print(\"Left child: \" + str(adjecency_list[current_level[0]][0]))\n",
    "    print(\"Right child: \" + str(adjecency_list[current_level[0]][1]))\n",
    "    # Think how to update current level to go down the correct path.\n",
    "    # Consider using conditionals to cater for edge cases and\n",
    "    # index out of bounds errors.\n",
    "    current_level = []\n",
    "# You should be printing : EK, FV , S3"
   ]
  }
 ],
 "metadata": {
  "kernelspec": {
   "display_name": "Python 3",
   "language": "python",
   "name": "python3"
  },
  "language_info": {
   "codemirror_mode": {
    "name": "ipython",
    "version": 3
   },
   "file_extension": ".py",
   "mimetype": "text/x-python",
   "name": "python",
   "nbconvert_exporter": "python",
   "pygments_lexer": "ipython3",
   "version": "3.4.3"
  }
 },
 "nbformat": 4,
 "nbformat_minor": 0
}
