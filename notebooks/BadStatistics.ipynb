{
 "cells": [
  {
   "cell_type": "markdown",
   "metadata": {},
   "source": [
    "#  Playing with Python\n",
    "\n",
    "In [What is Data 1](what_is_data_1.ipynb), we saw some examples of tabular data. Now lots of people just use spreadsheet tools like Excel or Google sheets for manipulating tabular data. And that's fine... But some tasks end up being really complicated in spreadsheets, and there's an easier approach: use a programming language! \n",
    "\n",
    "That might sound scary, but we're going to make it easy. First, we'll use a programming language called Python that was designed for teaching. Second, we'll start with the very basics. And third, we'll try to make sure that even the complicated things are actually pretty straightforward.\n",
    "\n",
    "There are *lots* of [introductory tutorial resources](https://wiki.python.org/moin/BeginnersGuide/NonProgrammers) for learning Python. But we're going to make a start right here, since we'll be able to integrate it with different ways of dealing with data. If you already know some Python or a similar programming language, feel free to skip this lesson.\n",
    "\n",
    "## Easy Sums\n",
    "\n",
    "The really cool thing about the page you are reading now is that it's got little boxes (we call them *cells*) where you can write in bits of code *and* run the code. Just below &mdash; where it says \"`In ...`\" followed by a number inside [] &mdash; is a *code cell*. The expression in the cell is a Python expression. You don't need to be an experienced programmer to see what it means! \n",
    "\n",
    "If you place your mouse cursor in the cell and then click on the &rtrif; symbol in the top menu, the code in the cell will run. But the best thing is that you can edit the cell and re-run the code. So replace the `4` by a `5` and run the code to see what happens."
   ]
  },
  {
   "cell_type": "code",
   "execution_count": 70,
   "metadata": {
    "collapsed": false
   },
   "outputs": [
    {
     "data": {
      "text/plain": [
       "8"
      ]
     },
     "execution_count": 70,
     "metadata": {},
     "output_type": "execute_result"
    }
   ],
   "source": [
    "3 + 5"
   ]
  },
  {
   "cell_type": "markdown",
   "metadata": {
    "collapsed": true
   },
   "source": [
    "Unless something went very wrong, the cell with the result &mdash; that is, the cell where it says  \"`Out ...`\" followed by a number inside [] &mdash; will now contain an `8`.\n",
    "\n",
    "Try a few other things. Change the numbers some more; add together several numbers in the same line (e.g., `1 + 2 + 3 + ...`); see what happens if you change the `+` to a `-` (subtraction) or a `*` (multiplication). What about division? In Python, the division operator is a `/`.\n",
    "\n",
    "## Lists\n",
    "\n",
    "Programmers *love* lists. And lists are easy to use in Python. Here's a list of numbers from [What is Data 1](what_is_data_1.ipynb). You should recogise them as our rainy Edinburgh days:"
   ]
  },
  {
   "cell_type": "code",
   "execution_count": 71,
   "metadata": {
    "collapsed": false
   },
   "outputs": [
    {
     "data": {
      "text/plain": [
       "[23.87, 19.85, 19.22, 28.93, 29.41, 22.23, 23.5, 24.95]"
      ]
     },
     "execution_count": 71,
     "metadata": {},
     "output_type": "execute_result"
    }
   ],
   "source": [
    "[23.87, 19.85, 19.22, 28.93, 29.41, 22.23, 23.50, 24.95]"
   ]
  },
  {
   "cell_type": "markdown",
   "metadata": {},
   "source": [
    "Now, you can eyeball the list and see that it's got eight items in it. But if the list was too big to inspect, you can get Python to tell you how long it is."
   ]
  },
  {
   "cell_type": "code",
   "execution_count": 72,
   "metadata": {
    "collapsed": false
   },
   "outputs": [
    {
     "data": {
      "text/plain": [
       "8"
      ]
     },
     "execution_count": 72,
     "metadata": {},
     "output_type": "execute_result"
    }
   ],
   "source": [
    "len([23.87, 19.85, 19.22, 28.93, 29.41, 22.23, 23.50, 24.95])"
   ]
  },
  {
   "cell_type": "markdown",
   "metadata": {},
   "source": [
    "So `len` is a special Python expression that computes the length of a list. You should be able to see that in the cell above we've written `len` followed by `(`, then the list, then a `)`. We call `len()` a *function* and in this case we've *applied* the function to something else, namely the list. We usually write `len()` with `()` after the name of the function to remind us that it *is* a function. When we apply a function to something else, the function should give us a result. That's what happens when we run the code.\n",
    "\n",
    "It can be cumbersome however to have to write out the whole list every time we want to do something with it. Let's give the list a name that we can use as a short way of referring to it:"
   ]
  },
  {
   "cell_type": "code",
   "execution_count": 73,
   "metadata": {
    "collapsed": true
   },
   "outputs": [],
   "source": [
    "rainy_days = [23.87,19.85,19.22,28.93,29.41,22.23,23.50,24.95]"
   ]
  },
  {
   "cell_type": "markdown",
   "metadata": {},
   "source": [
    "Now it's up to us (pretty much) what name we use. We could have called the list `Monty` or `xyz` or `l`. But it makes more sense to use a name that is appropriate and relevant for the thing it names.\n",
    "\n",
    "OK, now for the cool bit. What happens if we apply `len()` to `rainy_days`?"
   ]
  },
  {
   "cell_type": "code",
   "execution_count": 74,
   "metadata": {
    "collapsed": false
   },
   "outputs": [
    {
     "data": {
      "text/plain": [
       "8"
      ]
     },
     "execution_count": 74,
     "metadata": {},
     "output_type": "execute_result"
    }
   ],
   "source": [
    "len(rainy_days)"
   ]
  },
  {
   "cell_type": "markdown",
   "metadata": {},
   "source": [
    "Yes! We get the same result as before. Awesome!\n",
    "\n",
    "Suppose now that we can to figure out the total number of rainy days across all the eight years in our little dataset. We could write `23.87 + 19.85 + 19.22 + ...` but this is *very* tedious. And there's a smarter way."
   ]
  },
  {
   "cell_type": "code",
   "execution_count": 75,
   "metadata": {
    "collapsed": false
   },
   "outputs": [
    {
     "data": {
      "text/plain": [
       "191.95999999999998"
      ]
     },
     "execution_count": 75,
     "metadata": {},
     "output_type": "execute_result"
    }
   ],
   "source": [
    "sum(rainy_days)"
   ]
  },
  {
   "cell_type": "markdown",
   "metadata": {},
   "source": [
    "Yes, we can apply the function `sum()` to a list to add up all the items in the list.\n",
    "\n",
    "You may be able to see where we're going with this. What was the *average* (or *mean*) number of days of rainfall per year over the eight year period? Well, we need to get the total for the period and divide it by the number of years, right? Let's break it down into steps."
   ]
  }
 ],
 "metadata": {
  "kernelspec": {
   "display_name": "Python 3",
   "language": "python",
   "name": "python3"
  },
  "language_info": {
   "codemirror_mode": {
    "name": "ipython",
    "version": 3
   },
   "file_extension": ".py",
   "mimetype": "text/x-python",
   "name": "python",
   "nbconvert_exporter": "python",
   "pygments_lexer": "ipython3",
   "version": "3.4.2"
  }
 },
 "nbformat": 4,
 "nbformat_minor": 0
}
