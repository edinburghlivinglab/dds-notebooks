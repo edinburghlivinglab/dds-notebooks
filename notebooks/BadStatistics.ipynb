{
 "cells": [
  {
   "cell_type": "markdown",
   "metadata": {},
   "source": [
    "#  Bad Statistics\n",
    "\n",
    "In [What is Data 1](what_is_data_1.ipynb), we saw some examples of tabular data. Now lots of people just use spreadsheet tools like Excel or Google sheets for manipulating tabular data. And that's fine... But some tasks end up being really complicated in spreadsheets, and there's an easier approach: use a programming language! \n",
    "\n",
    "That might sound scary, but we're going to make it easy. First, we'll use a programming language called Python that was designed for teaching. Second, we'll start with the very basics. And third, we'll try to make sure that even the complicated things are actually pretty straightforward.\n",
    "\n",
    "There are *lots* of [introductory tutorial resources](https://wiki.python.org/moin/BeginnersGuide/NonProgrammers) for learning Python. But we're going to make a start right here, since we'll be able to integrate it with different ways of dealing with data. If you already know some Python or a similar programming language, feel free to skip this lesson.\n",
    "\n",
    "## Easy Sums\n",
    "\n",
    "xxx \n",
    "\n",
    "xxx"
   ]
  },
  {
   "cell_type": "code",
   "execution_count": 70,
   "metadata": {
    "collapsed": false
   },
   "outputs": [
    {
     "data": {
      "text/plain": [
       "8"
      ]
     },
     "execution_count": 70,
     "metadata": {},
     "output_type": "execute_result"
    }
   ],
   "source": [
    "3 + 5"
   ]
  }
 ],
 "metadata": {
  "kernelspec": {
   "display_name": "Python 3",
   "language": "python",
   "name": "python3"
  },
  "language_info": {
   "codemirror_mode": {
    "name": "ipython",
    "version": 3
   },
   "file_extension": ".py",
   "mimetype": "text/x-python",
   "name": "python",
   "nbconvert_exporter": "python",
   "pygments_lexer": "ipython3",
   "version": "3.4.2"
  }
 },
 "nbformat": 4,
 "nbformat_minor": 0
}
