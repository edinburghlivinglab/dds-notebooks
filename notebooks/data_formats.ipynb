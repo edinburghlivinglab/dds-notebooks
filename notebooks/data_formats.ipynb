{
 "cells": [
  {
   "cell_type": "markdown",
   "metadata": {},
   "source": [
    "# Data Formats\n",
    "\n",
    "## Overview\n",
    "\n",
    "This notebook examines some of the different ways that data is organised within files. We'll call these *data formats*.\n",
    "\n",
    "First, we're going to rule out a couple of very widely-used data formats, namely HTML and PDF. The reason is that we are interested in data that we can manipulate using computer code. In order to make this process easy, we need the data to be organised into a predictable structure. HTML documents &mdash; that is, the raw form of ordinary web pages &mdash; are generally not structured in a predictable way, which means that extracting data out of them is often complex and time-consuming. Web pages are designed to make them easy for humans to understand, rather than for computers to extract data from. PDF documents are similar, in that processing them with code is tricky and hard to do in general way. \n",
    "\n",
    "To sum up, HTML and PDF documents fail as *machine-readable* formats, since they cannot be imported straightforwardly into an application or computer program that deals with data."
   ]
  },
  {
   "cell_type": "markdown",
   "metadata": {},
   "source": [
    "## <a name=\"excel\">Excel</a>\n",
    "\n",
    "Microsoft Excel is a machine-readable format used for creating spreadsheets. Here is an example:\n",
    "![](../images/messages.pdf)\n",
    "\n",
    "Excel is frequently used by large organisations for publising tabular data. However, the data format belongs to Microsoft rather than being in the public domain, and we prefer not to use proprietary data formats. There are also issues with different versions of Excel, and differences depening on the platform on which they run (e.g., Windows vs. MacOS)."
   ]
  },
  {
   "cell_type": "markdown",
   "metadata": {},
   "source": [
    "## <a name=\"csv\">CSV</a>\n",
    "\n",
    "CSV (short for \"Comma Separated Values\") is a simple data format for tables that can be read and written by any text editor. Each row of the table is represented as a line in the file, and the values of the cells in the row are separated by a comma (\",\"). The next example shows what happens if we export the Excel data shown above into a CSV file:"
   ]
  },
  {
   "cell_type": "code",
   "execution_count": 9,
   "metadata": {
    "collapsed": false
   },
   "outputs": [
    {
     "name": "stdout",
     "output_type": "stream",
     "text": [
      "To,From,Heading,Body,Date\r",
      "\"Arno, Ewan\",James,Reminder,Cycling to Cramond today!,13/10/2015\r",
      "\"James, Ewan\",Arno,Re: Reminder,Let's walk instead,14/10/2015"
     ]
    }
   ],
   "source": [
    "%%bash\n",
    "cat ../data/open_data/messages.csv"
   ]
  },
  {
   "cell_type": "markdown",
   "metadata": {},
   "source": [
    "The `pandas` library in Python is designed to make it easy to process tabular data, and we can use it display the CSV file so that it looks more like a table. In the next example, we import the library (and give it the short name `pd`), and then use it's `read_cv()` method to slurp up the CSV file."
   ]
  },
  {
   "cell_type": "code",
   "execution_count": 13,
   "metadata": {
    "collapsed": false
   },
   "outputs": [
    {
     "data": {
      "text/html": [
       "<div>\n",
       "<table border=\"1\" class=\"dataframe\">\n",
       "  <thead>\n",
       "    <tr style=\"text-align: right;\">\n",
       "      <th></th>\n",
       "      <th>To</th>\n",
       "      <th>From</th>\n",
       "      <th>Heading</th>\n",
       "      <th>Body</th>\n",
       "      <th>Date</th>\n",
       "    </tr>\n",
       "  </thead>\n",
       "  <tbody>\n",
       "    <tr>\n",
       "      <th>0</th>\n",
       "      <td>Arno, Ewan</td>\n",
       "      <td>James</td>\n",
       "      <td>Reminder</td>\n",
       "      <td>Cycling to Cramond today!</td>\n",
       "      <td>13/10/2015</td>\n",
       "    </tr>\n",
       "    <tr>\n",
       "      <th>1</th>\n",
       "      <td>James, Ewan</td>\n",
       "      <td>Arno</td>\n",
       "      <td>Re: Reminder</td>\n",
       "      <td>Let's walk instead</td>\n",
       "      <td>14/10/2015</td>\n",
       "    </tr>\n",
       "  </tbody>\n",
       "</table>\n",
       "</div>"
      ],
      "text/plain": [
       "            To   From       Heading                       Body        Date\n",
       "0   Arno, Ewan  James      Reminder  Cycling to Cramond today!  13/10/2015\n",
       "1  James, Ewan   Arno  Re: Reminder         Let's walk instead  14/10/2015"
      ]
     },
     "execution_count": 13,
     "metadata": {},
     "output_type": "execute_result"
    }
   ],
   "source": [
    "import pandas as pd\n",
    "table = pd.read_csv(\"../data/formats/messages.csv\")\n",
    "table"
   ]
  },
  {
   "cell_type": "markdown",
   "metadata": {},
   "source": [
    "One issue to note is that if a value in the CSV file contains a comma, then we have to wrap that value with quote signs, as in `\"James, Ewan\"`."
   ]
  },
  {
   "cell_type": "markdown",
   "metadata": {},
   "source": [
    "## <a name=\"xml\">XML</a>\n",
    "\n",
    "XML (short for \"eXtensible Markup Language\") is a W3C open standard, used widely for representing documents and and also of arbitrary data structures. XML representations are tree-shaped, in the sense that there is a single node (the root) from which all the branches spring. We can use a text document to give us a simple example.\n",
    "\n",
    "XML is considerably more verbose than CSV, particularly when the data is tabular in nature. Each row\n"
   ]
  },
  {
   "cell_type": "code",
   "execution_count": 11,
   "metadata": {
    "collapsed": false
   },
   "outputs": [
    {
     "name": "stdout",
     "output_type": "stream",
     "text": [
      "<data>\n",
      "  <message>\n",
      "    <to>James</to>\n",
      "    <to>Ewan</to>\n",
      "    <from>Arno</from>\n",
      "    <heading>Reminder</heading>\n",
      "    <body>Cycling to Cramond today!</body>\n",
      "    <date>13/10/2015</date>\n",
      "  </message>\n",
      "  <message>\n",
      "    <to>Arno</to>\n",
      "    <to>Ewan</to>\n",
      "    <from>James</from>\n",
      "    <heading>Re: Reminder</heading>\n",
      "    <body>Let's walk instead</body>\n",
      "    <date>14/10/2015</date>\n",
      "  </message>\n",
      "</data>\n",
      "\n"
     ]
    }
   ],
   "source": [
    "from lxml.etree import Element, SubElement, tostring\n",
    "top = Element('data')\n",
    "msg1 = SubElement(top, 'message')\n",
    "to11 = SubElement(msg1, 'to')\n",
    "to11.text = \"James\"\n",
    "to12 = SubElement(msg1, 'to')\n",
    "to12.text = \"Ewan\"\n",
    "from1 = SubElement(msg1, 'from')\n",
    "from1.text = \"Arno\"\n",
    "heading1 = SubElement(msg1, 'heading')\n",
    "heading1.text = \"Reminder\"\n",
    "body1 = SubElement(msg1, 'body')\n",
    "body1.text = \"Cycling to Cramond today!\"\n",
    "date1 = SubElement(msg1, 'date')\n",
    "date1.text = \"13/10/2015\"\n",
    "msg2 = SubElement(top, 'message')\n",
    "to21 = SubElement(msg2, 'to')\n",
    "to21.text = \"Arno\"\n",
    "to22 = SubElement(msg2, 'to')\n",
    "to22.text = \"Ewan\"\n",
    "from2 = SubElement(msg2, 'from')\n",
    "from2.text = \"James\"\n",
    "heading2 = SubElement(msg2, 'heading')\n",
    "heading2.text = \"Re: Reminder\"\n",
    "body2 = SubElement(msg2, 'body')\n",
    "body2.text = \"Let's walk instead\"\n",
    "date2 = SubElement(msg2, 'date')\n",
    "date2.text = \"14/10/2015\"\n",
    "print(tostring(top, pretty_print = True, encoding=\"unicode\"))"
   ]
  },
  {
   "cell_type": "code",
   "execution_count": 19,
   "metadata": {
    "collapsed": false
   },
   "outputs": [
    {
     "name": "stdout",
     "output_type": "stream",
     "text": [
      "<data>\n",
      "  <message>\n",
      "    <to>James</to>\n",
      "    <to>Ewan</to>\n",
      "    <from>Arno</from>\n",
      "    <heading>Reminder</heading>\n",
      "    <body>Cycling to Cramond today!</body>\n",
      "    <date>13/10/2015</date>\n",
      "  </message>\n",
      "  <message>\n",
      "    <to>Arno</to>\n",
      "    <to>Ewan</to>\n",
      "    <from>James</from>\n",
      "    <heading>Re: Reminder</heading>\n",
      "    <body>Let's walk instead</body>\n",
      "    <date>14/10/2015</date>\n",
      "  </message>\n",
      "</data>\n",
      "\n"
     ]
    }
   ],
   "source": [
    "from lxml import etree\n",
    "tree = etree.parse(\"../data/formats/messages.xml\")\n",
    "print(etree.tostring(top, pretty_print = True, encoding=\"unicode\"))"
   ]
  },
  {
   "cell_type": "code",
   "execution_count": null,
   "metadata": {
    "collapsed": true
   },
   "outputs": [],
   "source": []
  }
 ],
 "metadata": {
  "kernelspec": {
   "display_name": "Python 3",
   "language": "python",
   "name": "python3"
  },
  "language_info": {
   "codemirror_mode": {
    "name": "ipython",
    "version": 3
   },
   "file_extension": ".py",
   "mimetype": "text/x-python",
   "name": "python",
   "nbconvert_exporter": "python",
   "pygments_lexer": "ipython3",
   "version": "3.4.3"
  }
 },
 "nbformat": 4,
 "nbformat_minor": 0
}
