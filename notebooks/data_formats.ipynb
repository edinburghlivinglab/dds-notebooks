{
 "cells": [
  {
   "cell_type": "markdown",
   "metadata": {},
   "source": [
    "# Data Formats\n",
    "\n",
    "## Overview\n",
    "\n",
    "This notebook examines some of the different ways that data is organised within files. We'll call these *data formats*.\n",
    "\n",
    "First, we're going to rule out a couple of very widely-used data formats, namely HTML and PDF. The reason is that we are interested in data that we can manipulate using computer code. In order to make this process easy, we need the data to be organised into a predictable structure. HTML documents &mdash; that is, the raw form of ordinary web pages &mdash; are generally not structured in a predictable way, which means that extracting data out of them is often complex and time-consuming. Web pages are designed to make them easy for humans to understand, rather than for computers to extract data from. PDF documents are similar, in that processing them with code is tricky and hard to do in general way. \n",
    "\n",
    "To sum up, HTML and PDF documents fail as *machine-readable* formats, since they cannot be imported straightforwardly into an application or computer program that deals with data."
   ]
  },
  {
   "cell_type": "markdown",
   "metadata": {},
   "source": [
    "## <a name=\"excel\">Excel</a>\n",
    "\n",
    "Microsoft Excel is a machine-readable format used for creating spreadsheets. Here is an example:\n",
    "![](../images/messages.pdf)\n",
    "\n",
    "Excel is frequently used by large organisations for publising tabular data. However, the data format belongs to Microsoft rather than being in the public domain, and we prefer not to use proprietary data formats. There are also issues with different versions of Excel, and differences depening on the platform on which they run (e.g., Windows vs. MacOS)."
   ]
  },
  {
   "cell_type": "markdown",
   "metadata": {},
   "source": [
    "## <a name=\"csv\">CSV</a>\n",
    "\n",
    "CSV (short for \"Comma Separated Values\") is a simple data format for tables that can be read and written by any text editor. Each row of the table is represented as a line in the file, and the values of the cells in the row are separated by a comma (\",\"). The next example shows what happens if we export the Excel data shown above into a CSV file:"
   ]
  },
  {
   "cell_type": "code",
   "execution_count": 9,
   "metadata": {
    "collapsed": false
   },
   "outputs": [
    {
     "name": "stdout",
     "output_type": "stream",
     "text": [
      "To,From,Heading,Body,Date\r",
      "\"Arno, Ewan\",James,Reminder,Cycling to Cramond today!,13/10/2015\r",
      "\"James, Ewan\",Arno,Re: Reminder,Let's walk instead,14/10/2015"
     ]
    }
   ],
   "source": [
    "%%bash\n",
    "cat ../data/open_data/messages.csv"
   ]
  },
  {
   "cell_type": "markdown",
   "metadata": {},
   "source": [
    "The `pandas` library in Python is designed to make it easy to process tabular data, and we can use it display the CSV file so that it looks more like a table. In the next example, we import the library (and give it the short name `pd`), and then use it's `read_cv()` method to slurp up the CSV file."
   ]
  },
  {
   "cell_type": "code",
   "execution_count": 13,
   "metadata": {
    "collapsed": false
   },
   "outputs": [
    {
     "data": {
      "text/html": [
       "<div>\n",
       "<table border=\"1\" class=\"dataframe\">\n",
       "  <thead>\n",
       "    <tr style=\"text-align: right;\">\n",
       "      <th></th>\n",
       "      <th>To</th>\n",
       "      <th>From</th>\n",
       "      <th>Heading</th>\n",
       "      <th>Body</th>\n",
       "      <th>Date</th>\n",
       "    </tr>\n",
       "  </thead>\n",
       "  <tbody>\n",
       "    <tr>\n",
       "      <th>0</th>\n",
       "      <td>Arno, Ewan</td>\n",
       "      <td>James</td>\n",
       "      <td>Reminder</td>\n",
       "      <td>Cycling to Cramond today!</td>\n",
       "      <td>13/10/2015</td>\n",
       "    </tr>\n",
       "    <tr>\n",
       "      <th>1</th>\n",
       "      <td>James, Ewan</td>\n",
       "      <td>Arno</td>\n",
       "      <td>Re: Reminder</td>\n",
       "      <td>Let's walk instead</td>\n",
       "      <td>14/10/2015</td>\n",
       "    </tr>\n",
       "  </tbody>\n",
       "</table>\n",
       "</div>"
      ],
      "text/plain": [
       "            To   From       Heading                       Body        Date\n",
       "0   Arno, Ewan  James      Reminder  Cycling to Cramond today!  13/10/2015\n",
       "1  James, Ewan   Arno  Re: Reminder         Let's walk instead  14/10/2015"
      ]
     },
     "execution_count": 13,
     "metadata": {},
     "output_type": "execute_result"
    }
   ],
   "source": [
    "import pandas as pd\n",
    "table = pd.read_csv(\"../data/formats/messages.csv\")\n",
    "table"
   ]
  },
  {
   "cell_type": "markdown",
   "metadata": {},
   "source": [
    "One issue to note is that if a value in the CSV file contains a comma, then we have to wrap that value with quote signs, as in `\"James, Ewan\"`."
   ]
  },
  {
   "cell_type": "markdown",
   "metadata": {},
   "source": [
    "## <a name=\"xml\">XML</a>\n",
    "\n",
    "XML (short for \"eXtensible Markup Language\") is a W3C open standard, used widely for storing data and for transferring it between applications and services.\n",
    "\n",
    "Here is a simple example:\n",
    "\n",
    "``` xml\n",
    "<message>\n",
    "    <to>James</to>\n",
    "    <from>Arno</from>\n",
    "    <heading>Reminder</heading>\n",
    "    <body>Cycling to Cramond today!</body>\n",
    "</message>\n",
    "```\n",
    "This is intended to self-explanatory, in the sense that we have marked-up the different parts of our data with explicit labels, or *tags*, enclosed in angle brackets. The representation is hierarchical, in the sense that we start off with a 'root' element, in this case `<message>`, which has four child elements: `<to>`, `<from>`, `<heading>` and `<body>`. In an XML document, we use start and end tags for marking up elements. For example, the start tag `<to>` has a corresponding end tag `</to>`. In XML, all elements must have a closing tag.\n",
    "\n",
    "As you can see, XML is considerably more verbose than CSV, particularly when the data is tabular in nature. If we have more than one message in our data, then we have to come up with a higher-level root of the tree &mdash; we'll use  `<data>`. Then each row in the table has a corresponding `<message>` element. Third, we should be explicit about the fact that there are two distinct people to whom the messages are addressed. We'll represent this by having separate `<to>` elements for each of them. We've put this all into a file called `messages.xml` and the result of parsing this file (with the [lxml library](http://lxml.de/tutorial.html)) is shown below."
   ]
  },
  {
   "cell_type": "code",
   "execution_count": 19,
   "metadata": {
    "collapsed": false
   },
   "outputs": [
    {
     "name": "stdout",
     "output_type": "stream",
     "text": [
      "<data>\n",
      "  <message>\n",
      "    <to>James</to>\n",
      "    <to>Ewan</to>\n",
      "    <from>Arno</from>\n",
      "    <heading>Reminder</heading>\n",
      "    <body>Cycling to Cramond today!</body>\n",
      "    <date>13/10/2015</date>\n",
      "  </message>\n",
      "  <message>\n",
      "    <to>Arno</to>\n",
      "    <to>Ewan</to>\n",
      "    <from>James</from>\n",
      "    <heading>Re: Reminder</heading>\n",
      "    <body>Let's walk instead</body>\n",
      "    <date>14/10/2015</date>\n",
      "  </message>\n",
      "</data>\n",
      "\n"
     ]
    }
   ],
   "source": [
    "from lxml import etree\n",
    "tree = etree.parse(\"../data/formats/messages.xml\")\n",
    "print(etree.tostring(top, pretty_print = True, encoding=\"unicode\"))"
   ]
  },
  {
   "cell_type": "markdown",
   "metadata": {},
   "source": [
    "For more information, see this [W3C XML Tutorial](http://www.w3schools.com/xml/)"
   ]
  },
  {
   "cell_type": "markdown",
   "metadata": {},
   "source": [
    "## <a name=\"json\">JSON</a>\n",
    "\n",
    "JSON ([JavaScript Object Notation](http://json.org)) is intended as format for transferring data that is easier for humans to write and read than XML. Unlike CSV and XML, JSON let's us represent lists directly using `[` and `]`. For example, the list containing the two strings `'James'` and `'Ewan'` is `['James', 'Ewan']`. \n",
    "\n"
   ]
  },
  {
   "cell_type": "code",
   "execution_count": 25,
   "metadata": {
    "collapsed": false
   },
   "outputs": [],
   "source": [
    "import json\n",
    "fp = open(\"../data/formats/messages.json\", \"w\")\n",
    "json.dump([\n",
    "        {'to': ['James', 'Ewan'],\n",
    "        'from': 'Arno',\n",
    "        'heading': 'Reminder',\n",
    "        'body': 'Cycling to Cramond today!',\n",
    "        'date': '13/10/2015'},\n",
    "         {'to': ['Arno', 'Ewan'],\n",
    "        'from': 'James',\n",
    "        'heading': 'Re: Reminder',\n",
    "        'body': 'Let\\'s walk instead',\n",
    "        'date': '14/10/2015'},\n",
    "    ], fp)"
   ]
  },
  {
   "cell_type": "code",
   "execution_count": 26,
   "metadata": {
    "collapsed": false
   },
   "outputs": [
    {
     "name": "stdout",
     "output_type": "stream",
     "text": [
      "[\n",
      "  {\n",
      "    \"body\": \"Cycling to Cramond today!\",\n",
      "    \"date\": \"13/10/2015\",\n",
      "    \"from\": \"Arno\",\n",
      "    \"heading\": \"Reminder\",\n",
      "    \"to\": [\n",
      "      \"James\",\n",
      "      \"Ewan\"\n",
      "    ]\n",
      "  },\n",
      "  {\n",
      "    \"body\": \"Let's walk instead\",\n",
      "    \"date\": \"14/10/2015\",\n",
      "    \"from\": \"James\",\n",
      "    \"heading\": \"Re: Reminder\",\n",
      "    \"to\": [\n",
      "      \"Arno\",\n",
      "      \"Ewan\"\n",
      "    ]\n",
      "  }\n",
      "]\n"
     ]
    }
   ],
   "source": [
    "fp = open(\"../data/formats/messages.json\")\n",
    "data = json.load(fp)\n",
    "print(json.dumps(data, indent=2, sort_keys=True))"
   ]
  },
  {
   "cell_type": "code",
   "execution_count": null,
   "metadata": {
    "collapsed": true
   },
   "outputs": [],
   "source": []
  }
 ],
 "metadata": {
  "kernelspec": {
   "display_name": "Python 3",
   "language": "python",
   "name": "python3"
  },
  "language_info": {
   "codemirror_mode": {
    "name": "ipython",
    "version": 3
   },
   "file_extension": ".py",
   "mimetype": "text/x-python",
   "name": "python",
   "nbconvert_exporter": "python",
   "pygments_lexer": "ipython3",
   "version": "3.4.3"
  }
 },
 "nbformat": 4,
 "nbformat_minor": 0
}
